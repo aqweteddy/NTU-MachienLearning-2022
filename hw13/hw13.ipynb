{
  "cells": [
    {
      "cell_type": "markdown",
      "metadata": {
        "id": "EpzhhXc--9w9"
      },
      "source": [
        "# Homework 13 - Network Compression\n",
        "\n",
        "Author: Liang-Hsuan Tseng (b07502072@ntu.edu.tw), modified from ML2021-HW13\n",
        "\n",
        "If you have any questions, feel free to ask: ntu-ml-2022spring-ta@googlegroups.com\n",
        "\n",
        "[**Link to HW13 Slides**](https://docs.google.com/presentation/d/1nCT9XrInF21B4qQAWuODy5sonKDnpGhjtcAwqa75mVU/edit#slide=id.p)"
      ]
    },
    {
      "cell_type": "markdown",
      "metadata": {
        "id": "8zazWy5C-9w_"
      },
      "source": [
        "### Outline\n",
        "\n",
        "* [Packages](#Packages) - intall some required packages.\n",
        "* [Dataset](#Dataset) - something you need to know about the dataset.\n",
        "* [Configs](#Configs) - the configs of the experiments, you can change some hyperparameters here.\n",
        "* [Architecture_Design](#Architecture_Design) - depthwise and pointwise convolution examples and some useful links.\n",
        "* [Knowledge_Distillation](#Knowledge_Distillation) - KL divergence loss for knowledge distillation and some useful links.\n",
        "* [Training](#Training) - training loop implementation modified from HW3.\n",
        "* [Inference](#Inference) - create submission.csv by loading the best.ckpt from the .\n",
        "\n"
      ]
    },
    {
      "cell_type": "markdown",
      "metadata": {
        "id": "C_td1wmQ-9xA"
      },
      "source": [
        "### Packages\n",
        "First, we need to import some useful packages. Since the `torchsummary` package is not installed by default, we have to install it via `pip` manually."
      ]
    },
    {
      "cell_type": "code",
      "execution_count": 1,
      "metadata": {
        "colab": {
          "base_uri": "https://localhost:8080/"
        },
        "id": "efb_daqX-9xA",
        "outputId": "916b34f8-2bbe-4642-b70d-8e26869b9c73",
        "trusted": true
      },
      "outputs": [],
      "source": [
        "# !pip install torchsummary\n",
        "# !wget https://github.com/andybi7676/ml2022spring-hw13/raw/main/food11-hw13.tar.gz\n",
        "# !tar -xzf ./food11-hw13.tar.gz # Could take some time\n"
      ]
    },
    {
      "cell_type": "code",
      "execution_count": 2,
      "metadata": {
        "id": "36EhM6TU-9xB",
        "trusted": true
      },
      "outputs": [],
      "source": [
        "# This Python 3 environment comes with many helpful analytics libraries installed\n",
        "# It is defined by the kaggle/python Docker image: https://github.com/kaggle/docker-python\n",
        "# Import some useful packages for this homework\n",
        "import numpy as np\n",
        "import pandas as pd\n",
        "import torch\n",
        "import os\n",
        "import torch.nn as nn\n",
        "import torch.nn.functional as F\n",
        "import torchvision.transforms as transforms\n",
        "from PIL import Image\n",
        "from torch.utils.data import ConcatDataset, DataLoader, Subset, Dataset # \"ConcatDataset\" and \"Subset\" are possibly useful.\n",
        "from torchvision.datasets import DatasetFolder, VisionDataset\n",
        "from torchsummary import summary\n",
        "from tqdm import tqdm\n",
        "import random"
      ]
    },
    {
      "cell_type": "markdown",
      "metadata": {
        "id": "PIw8N_Ra-9xB"
      },
      "source": [
        "### Configs\n",
        "In this part, you can specify some variables and hyperparameters as your configs."
      ]
    },
    {
      "cell_type": "code",
      "execution_count": 3,
      "metadata": {
        "id": "S4UAwWGQ-9xC",
        "trusted": true
      },
      "outputs": [],
      "source": [
        "cfg = {\n",
        "    'dataset_root': './food11-hw13',\n",
        "    'save_dir': './outputs',\n",
        "    'exp_name': \"rkd_mobilenet_randugmentation_mixup\",\n",
        "    'batch_size': 128,\n",
        "    'lr': 3e-3,\n",
        "    'seed': 64,\n",
        "    'loss_fn_type': 'RKD', # simple baseline: CE, medium baseline: KD. See the Knowledge_Distillation part for more information.\n",
        "    'weight_decay': 1e-5,\n",
        "    'grad_norm_max': 10,\n",
        "    'n_epochs': 500,\n",
        "    'patience': 100,\n",
        "    'augmentation': 'rand', # or rand,\n",
        "    \"mixup_prob\": 0.5\n",
        "}"
      ]
    },
    {
      "cell_type": "code",
      "execution_count": 4,
      "metadata": {
        "id": "SGv8rYVa-9xC",
        "trusted": true
      },
      "outputs": [
        {
          "name": "stdout",
          "output_type": "stream",
          "text": [
            "{'dataset_root': './food11-hw13', 'save_dir': './outputs', 'exp_name': 'rkd_mobilenet_randugmentation_mixup', 'batch_size': 128, 'lr': 0.003, 'seed': 64, 'loss_fn_type': 'RKD', 'weight_decay': 1e-05, 'grad_norm_max': 10, 'n_epochs': 500, 'patience': 100, 'augmentation': 'rand', 'mixup_prob': 0.5}\n"
          ]
        }
      ],
      "source": [
        "myseed = cfg['seed']  # set a random seed for reproducibility\n",
        "torch.backends.cudnn.deterministic = True\n",
        "torch.backends.cudnn.benchmark = False\n",
        "np.random.seed(myseed)\n",
        "torch.manual_seed(myseed)\n",
        "random.seed(myseed)\n",
        "if torch.cuda.is_available():\n",
        "    torch.cuda.manual_seed_all(myseed)\n",
        "\n",
        "save_path = os.path.join(cfg['save_dir'], cfg['exp_name']) # create saving directory\n",
        "os.makedirs(save_path, exist_ok=True)\n",
        "\n",
        "# define simple logging functionality\n",
        "log_fw = open(f\"{save_path}/log.txt\", 'w') # open log file to save log outputs\n",
        "def log(text):     # define a logging function to trace the training process\n",
        "    print(text)\n",
        "    log_fw.write(str(text)+'\\n')\n",
        "    log_fw.flush()\n",
        "\n",
        "log(cfg)  # log your configs to the log file"
      ]
    },
    {
      "cell_type": "markdown",
      "metadata": {
        "id": "IDAutJJp-9xD"
      },
      "source": [
        "### Dataset\n",
        "We use Food11 dataset for this homework, which is similar to homework3. But remember, Please DO NOT utilize the dataset of HW3. We've modified the dataset, so you should only access the dataset by loading it in this kaggle notebook or through the links provided in the HW13 colab notebooks."
      ]
    },
    {
      "cell_type": "code",
      "execution_count": 5,
      "metadata": {
        "_cell_guid": "b1076dfc-b9ad-4769-8c92-a6c4dae69d19",
        "_uuid": "8f2839f25d086af736a60e9eeb907d3b93b6e0e5",
        "id": "UbkkVDCd-9xD",
        "trusted": true
      },
      "outputs": [],
      "source": [
        "# Input data files are available in the read-only \"../input/\" directory\n",
        "# For example, running this (by clicking run or pressing Shift+Enter) will list all files under the input directory\n",
        "for dirname, _, filenames in os.walk('/kaggle/input'):\n",
        "    if len(filenames) > 0:\n",
        "        print(f\"{dirname}: {len(filenames)} files.\") # Show the .jpg file amounts in each split.\n",
        "\n",
        "# You can write up to 20GB to the current directory (/kaggle/working/) that gets preserved as output when you create a version using \"Save & Run All\" \n",
        "# You can also write temporary files to /kaggle/temp/, but they won't be saved outside of the current session"
      ]
    },
    {
      "cell_type": "markdown",
      "metadata": {
        "id": "NE_OciIh-9xE"
      },
      "source": [
        "Next, specify train/valid transform for image data augmentation.\n",
        "Torchvision provides lots of useful utilities for image preprocessing, data wrapping as well as data augmentation.\n",
        "\n",
        "Please refer to [PyTorch official website](https://pytorch.org/vision/stable/transforms.html) for details about different transforms. You can also apply the knowledge or experience you learned in HW3."
      ]
    },
    {
      "cell_type": "code",
      "execution_count": 6,
      "metadata": {
        "id": "PdmmlVZ3-9xE",
        "trusted": true
      },
      "outputs": [],
      "source": [
        "normalize = transforms.Normalize(mean=[0.485, 0.456, 0.406], std=[0.229, 0.224, 0.225])\n",
        "# define training/testing transforms\n",
        "test_tfm = transforms.Compose([\n",
        "    # It is not encouraged to modify this part if you are using the provided teacher model. This transform is stardard and good enough for testing.\n",
        "    transforms.Resize(256),\n",
        "    transforms.CenterCrop(224),\n",
        "    transforms.ToTensor(),\n",
        "    normalize,\n",
        "])\n",
        "if cfg['augmentation'] == 'default':\n",
        "    train_tfm = transforms.Compose([\n",
        "        # add some useful transform or augmentation here, according to your experience in HW3.\n",
        "        transforms.Resize(256),  # You can change this\n",
        "        transforms.CenterCrop(224), # You can change this, but be aware of that the given teacher model's input size is 224.\n",
        "        # The training input size of the provided teacher model is (3, 224, 224).\n",
        "        # Thus, Input size other then 224 might hurt the performance. please be careful.\n",
        "        transforms.ToTensor(),\n",
        "        normalize,\n",
        "    ])\n",
        "elif cfg['augmentation'] in ['rand', 'auto']:\n",
        "    train_tfm = transforms.Compose([\n",
        "        # add some useful transform or augmentation here, according to your experience in HW3.\n",
        "        transforms.Resize([224,224]),  # You can change this\n",
        "        transforms.RandAugment() if cfg['augmentation'] == 'rand' else transforms.AutoAugment(),\n",
        "        transforms.ToTensor(),\n",
        "        normalize,\n",
        "    ])"
      ]
    },
    {
      "cell_type": "code",
      "execution_count": 7,
      "metadata": {
        "id": "t7olptT0-9xE",
        "trusted": true
      },
      "outputs": [],
      "source": [
        "class FoodDataset(Dataset):\n",
        "    def __init__(self, path, tfm=test_tfm, files = None):\n",
        "        super().__init__()\n",
        "        self.path = path\n",
        "        self.files = sorted([os.path.join(path,x) for x in os.listdir(path) if x.endswith(\".jpg\")])\n",
        "        if files != None:\n",
        "            self.files = files\n",
        "        print(f\"One {path} sample\",self.files[0])\n",
        "        self.transform = tfm\n",
        "  \n",
        "    def __len__(self):\n",
        "        return len(self.files)\n",
        "  \n",
        "    def __getitem__(self,idx):\n",
        "        fname = self.files[idx]\n",
        "        im = Image.open(fname)\n",
        "        im = self.transform(im)\n",
        "        try:\n",
        "            label = int(fname.split(\"/\")[-1].split(\"_\")[0])\n",
        "        except:\n",
        "            label = -1 # test has no label\n",
        "        return im,label"
      ]
    },
    {
      "cell_type": "code",
      "execution_count": 8,
      "metadata": {
        "id": "tjl-m5u3-9xE",
        "trusted": true
      },
      "outputs": [
        {
          "name": "stdout",
          "output_type": "stream",
          "text": [
            "One ./food11-hw13/training sample ./food11-hw13/training/0_0.jpg\n",
            "One ./food11-hw13/validation sample ./food11-hw13/validation/0_0.jpg\n"
          ]
        }
      ],
      "source": [
        "train_set = FoodDataset(os.path.join(cfg['dataset_root'],\"training\"), tfm=train_tfm)\n",
        "train_loader = DataLoader(train_set, batch_size=cfg['batch_size'], shuffle=True, num_workers=10, pin_memory=True)\n",
        "\n",
        "valid_set = FoodDataset(os.path.join(cfg['dataset_root'], \"validation\"), tfm=test_tfm)\n",
        "valid_loader = DataLoader(valid_set, batch_size=cfg['batch_size'], shuffle=False, num_workers=10, pin_memory=True)"
      ]
    },
    {
      "cell_type": "markdown",
      "metadata": {
        "id": "ELyvUDkO-9xF"
      },
      "source": [
        "### Architecture_Design\n",
        "\n",
        "In this homework, you have to design a smaller network and make it perform well. Apparently, a well-designed architecture is crucial for such task. Here, we introduce depthwise and pointwise convolutions. They are some common techniques for architecture design when it comes to network compression.\n",
        "\n",
        "<img src=\"https://i.imgur.com/LFDKHOp.png\" width=400px>\n",
        "\n",
        "* explanation of depthwise and pointwise convolutions:\n",
        "    * [prof. Hung-yi Lee's slides(p.24~p.30, especially p.28)](https://speech.ee.ntu.edu.tw/~hylee/ml/ml2021-course-data/tiny_v7.pdf)"
      ]
    },
    {
      "cell_type": "code",
      "execution_count": 9,
      "metadata": {
        "id": "kPReM4Rr-9xF",
        "trusted": true
      },
      "outputs": [],
      "source": [
        "import math"
      ]
    },
    {
      "cell_type": "code",
      "execution_count": 10,
      "metadata": {},
      "outputs": [],
      "source": [
        "def conv_bn(inp, oup, stride):\n",
        "    return nn.Sequential(\n",
        "        nn.Conv2d(inp, oup, 3, stride, 1, bias=False),\n",
        "        nn.BatchNorm2d(oup),\n",
        "        nn.ReLU6(inplace=True)\n",
        "    )\n",
        "\n",
        "\n",
        "def conv_1x1_bn(inp, oup):\n",
        "    return nn.Sequential(\n",
        "        nn.Conv2d(inp, oup, 1, 1, 0, bias=False),\n",
        "        nn.BatchNorm2d(oup),\n",
        "        nn.ReLU6(inplace=True)\n",
        "    )\n",
        "\n",
        "\n",
        "def make_divisible(x, divisible_by=8):\n",
        "    import numpy as np\n",
        "    return int(np.ceil(x * 1. / divisible_by) * divisible_by)\n",
        "\n",
        "\n",
        "class InvertedResidual(nn.Module):\n",
        "    def __init__(self, inp, oup, stride, expand_ratio):\n",
        "        super(InvertedResidual, self).__init__()\n",
        "        self.stride = stride\n",
        "        assert stride in [1, 2]\n",
        "\n",
        "        hidden_dim = int(inp * expand_ratio)\n",
        "        self.use_res_connect = self.stride == 1 and inp == oup\n",
        "\n",
        "        if expand_ratio == 1:\n",
        "            self.conv = nn.Sequential(\n",
        "                # dw\n",
        "                nn.Conv2d(hidden_dim, hidden_dim, 3, stride, 1, groups=hidden_dim, bias=False),\n",
        "                nn.BatchNorm2d(hidden_dim),\n",
        "                nn.ReLU6(inplace=True),\n",
        "                # pw-linear\n",
        "                nn.Conv2d(hidden_dim, oup, 1, 1, 0, bias=False),\n",
        "                nn.BatchNorm2d(oup),\n",
        "            )\n",
        "        else:\n",
        "            self.conv = nn.Sequential(\n",
        "                # pw\n",
        "                nn.Conv2d(inp, hidden_dim, 1, 1, 0, bias=False),\n",
        "                nn.BatchNorm2d(hidden_dim),\n",
        "                nn.ReLU6(inplace=True),\n",
        "                # dw\n",
        "                nn.Conv2d(hidden_dim, hidden_dim, 3, stride, 1, groups=hidden_dim, bias=False),\n",
        "                nn.BatchNorm2d(hidden_dim),\n",
        "                nn.ReLU6(inplace=True),\n",
        "                # pw-linear\n",
        "                nn.Conv2d(hidden_dim, oup, 1, 1, 0, bias=False),\n",
        "                nn.BatchNorm2d(oup),\n",
        "            )\n",
        "\n",
        "    def forward(self, x):\n",
        "        if self.use_res_connect:\n",
        "            return x + self.conv(x)\n",
        "        else:\n",
        "            return self.conv(x)\n",
        "\n",
        "\n",
        "class MobileNetV2(nn.Module):\n",
        "    def __init__(self, n_class=11, input_size=128, width_mult=1.):\n",
        "        super(MobileNetV2, self).__init__()\n",
        "        block = InvertedResidual\n",
        "        input_channel = 32\n",
        "        last_channel = 100\n",
        "        interverted_residual_setting = [\n",
        "            # t, c, n, s\n",
        "            [1, 16, 1, 1],\n",
        "            [6, 24, 1, 2],\n",
        "            [6, 32, 1, 2],\n",
        "            [6, 64, 2, 2],\n",
        "        ]\n",
        "\n",
        "        # building first layer\n",
        "        assert input_size % 32 == 0\n",
        "        # input_channel = make_divisible(input_channel * width_mult)  # first channel is always 32!\n",
        "        self.last_channel = make_divisible(last_channel * width_mult) if width_mult > 1.0 else last_channel\n",
        "        self.features = [conv_bn(3, input_channel, 2)]\n",
        "        # building inverted residual blocks\n",
        "        for t, c, n, s in interverted_residual_setting:\n",
        "            output_channel = make_divisible(c * width_mult) if t > 1 else c\n",
        "            for i in range(n):\n",
        "                if i == 0:\n",
        "                    self.features.append(block(input_channel, output_channel, s, expand_ratio=t))\n",
        "                else:\n",
        "                    self.features.append(block(input_channel, output_channel, 1, expand_ratio=t))\n",
        "                input_channel = output_channel\n",
        "        # building last several layers\n",
        "        self.features.append(conv_1x1_bn(input_channel, self.last_channel))\n",
        "        # make it nn.Sequential\n",
        "        self.features = nn.Sequential(*self.features)\n",
        "\n",
        "        # building classifier\n",
        "        self.classifier = nn.Linear(self.last_channel, n_class)\n",
        "\n",
        "        self._initialize_weights()\n",
        "\n",
        "    def forward(self, x):\n",
        "        x = self.features(x)\n",
        "        x = x.mean(3).mean(2)\n",
        "        x = self.classifier(x)\n",
        "        return x\n",
        "\n",
        "    def _initialize_weights(self):\n",
        "        for m in self.modules():\n",
        "            if isinstance(m, nn.Conv2d):\n",
        "                n = m.kernel_size[0] * m.kernel_size[1] * m.out_channels\n",
        "                m.weight.data.normal_(0, math.sqrt(2. / n))\n",
        "                if m.bias is not None:\n",
        "                    m.bias.data.zero_()\n",
        "            elif isinstance(m, nn.BatchNorm2d):\n",
        "                m.weight.data.fill_(1)\n",
        "                m.bias.data.zero_()\n",
        "            elif isinstance(m, nn.Linear):\n",
        "                n = m.weight.size(1)\n",
        "                m.weight.data.normal_(0, 0.01)\n",
        "                m.bias.data.zero_()\n"
      ]
    },
    {
      "cell_type": "markdown",
      "metadata": {
        "id": "u6VS_6uh-9xF"
      },
      "source": [
        "* other useful techniques and popular network architecture designs for network compression\n",
        "    * [group convolution](https://www.researchgate.net/figure/The-transformations-within-a-layer-in-DenseNets-left-and-CondenseNets-at-training-time_fig2_321325862) (Actually, depthwise convolution is a specific type of group convolution)\n",
        "    * [SqueezeNet](!https://arxiv.org/abs/1602.07360)\n",
        "    * [MobileNet](!https://arxiv.org/abs/1704.04861)\n",
        "    * [ShuffleNet](!https://arxiv.org/abs/1707.01083)\n",
        "    * [Xception](!https://arxiv.org/abs/1610.02357)\n",
        "    * [GhostNet](!https://arxiv.org/abs/1911.11907)\n"
      ]
    },
    {
      "cell_type": "markdown",
      "metadata": {
        "id": "EloKlhef-9xF"
      },
      "source": [
        "Now, let's define the **student network architecture**. Here, we have a very simple network formed by some convolution layers and pooling layers. You can replace the regular convolution layers with the depthwise and pointwise convolutions. In this way, you can further increase the depth or the width of your network architecture."
      ]
    },
    {
      "cell_type": "code",
      "execution_count": 11,
      "metadata": {
        "id": "8TlSNntc-9xF",
        "trusted": true
      },
      "outputs": [
        {
          "name": "stdout",
          "output_type": "stream",
          "text": [
            "----------------------------------------------------------------\n",
            "        Layer (type)               Output Shape         Param #\n",
            "================================================================\n",
            "            Conv2d-1         [-1, 32, 112, 112]             864\n",
            "       BatchNorm2d-2         [-1, 32, 112, 112]              64\n",
            "             ReLU6-3         [-1, 32, 112, 112]               0\n",
            "            Conv2d-4         [-1, 32, 112, 112]             288\n",
            "       BatchNorm2d-5         [-1, 32, 112, 112]              64\n",
            "             ReLU6-6         [-1, 32, 112, 112]               0\n",
            "            Conv2d-7         [-1, 16, 112, 112]             512\n",
            "       BatchNorm2d-8         [-1, 16, 112, 112]              32\n",
            "  InvertedResidual-9         [-1, 16, 112, 112]               0\n",
            "           Conv2d-10         [-1, 96, 112, 112]           1,536\n",
            "      BatchNorm2d-11         [-1, 96, 112, 112]             192\n",
            "            ReLU6-12         [-1, 96, 112, 112]               0\n",
            "           Conv2d-13           [-1, 96, 56, 56]             864\n",
            "      BatchNorm2d-14           [-1, 96, 56, 56]             192\n",
            "            ReLU6-15           [-1, 96, 56, 56]               0\n",
            "           Conv2d-16           [-1, 24, 56, 56]           2,304\n",
            "      BatchNorm2d-17           [-1, 24, 56, 56]              48\n",
            " InvertedResidual-18           [-1, 24, 56, 56]               0\n",
            "           Conv2d-19          [-1, 144, 56, 56]           3,456\n",
            "      BatchNorm2d-20          [-1, 144, 56, 56]             288\n",
            "            ReLU6-21          [-1, 144, 56, 56]               0\n",
            "           Conv2d-22          [-1, 144, 28, 28]           1,296\n",
            "      BatchNorm2d-23          [-1, 144, 28, 28]             288\n",
            "            ReLU6-24          [-1, 144, 28, 28]               0\n",
            "           Conv2d-25           [-1, 32, 28, 28]           4,608\n",
            "      BatchNorm2d-26           [-1, 32, 28, 28]              64\n",
            " InvertedResidual-27           [-1, 32, 28, 28]               0\n",
            "           Conv2d-28          [-1, 192, 28, 28]           6,144\n",
            "      BatchNorm2d-29          [-1, 192, 28, 28]             384\n",
            "            ReLU6-30          [-1, 192, 28, 28]               0\n",
            "           Conv2d-31          [-1, 192, 14, 14]           1,728\n",
            "      BatchNorm2d-32          [-1, 192, 14, 14]             384\n",
            "            ReLU6-33          [-1, 192, 14, 14]               0\n",
            "           Conv2d-34           [-1, 64, 14, 14]          12,288\n",
            "      BatchNorm2d-35           [-1, 64, 14, 14]             128\n",
            " InvertedResidual-36           [-1, 64, 14, 14]               0\n",
            "           Conv2d-37          [-1, 384, 14, 14]          24,576\n",
            "      BatchNorm2d-38          [-1, 384, 14, 14]             768\n",
            "            ReLU6-39          [-1, 384, 14, 14]               0\n",
            "           Conv2d-40          [-1, 384, 14, 14]           3,456\n",
            "      BatchNorm2d-41          [-1, 384, 14, 14]             768\n",
            "            ReLU6-42          [-1, 384, 14, 14]               0\n",
            "           Conv2d-43           [-1, 64, 14, 14]          24,576\n",
            "      BatchNorm2d-44           [-1, 64, 14, 14]             128\n",
            " InvertedResidual-45           [-1, 64, 14, 14]               0\n",
            "           Conv2d-46          [-1, 100, 14, 14]           6,400\n",
            "      BatchNorm2d-47          [-1, 100, 14, 14]             200\n",
            "            ReLU6-48          [-1, 100, 14, 14]               0\n",
            "           Linear-49                   [-1, 11]           1,111\n",
            "================================================================\n",
            "Total params: 99,999\n",
            "Trainable params: 99,999\n",
            "Non-trainable params: 0\n",
            "----------------------------------------------------------------\n",
            "Input size (MB): 0.57\n",
            "Forward/backward pass size (MB): 81.41\n",
            "Params size (MB): 0.38\n",
            "Estimated Total Size (MB): 82.37\n",
            "----------------------------------------------------------------\n"
          ]
        }
      ],
      "source": [
        "# Define your student network here. You have to copy-paste this code block to HW13 GradeScope before deadline.\n",
        "# We will use your student network definition you submit to evaluate your results(including the total parameter amount).\n",
        "def create_deepwise_point_wise_conv(nin, nout, kernel_size=3, stride=1, padding=0):\n",
        "     return nn.Sequential(nn.Conv2d(nin, nin, kernel_size=kernel_size, stride=stride, padding=padding, groups=nin), \n",
        "                                   nn.BatchNorm2d(nin),\n",
        "                                  nn.LeakyReLU(),\n",
        "                                  nn.Conv2d(nin, nout, kernel_size=1),\n",
        "                                  nn.MaxPool2d(2)\n",
        "                                 )\n",
        "\n",
        "def create_cnn(nin, nout):\n",
        "     return nn.Sequential(nn.Conv2d(nin, nout, 3), \n",
        "                            nn.BatchNorm2d(nout),\n",
        "                            nn.LeakyReLU())\n",
        "    \n",
        "class StudentNet(nn.Module):\n",
        "    def __init__(self):\n",
        "      super().__init__()\n",
        "\n",
        "      # ---------- TODO ----------\n",
        "      # Modify your model architecture\n",
        "\n",
        "      self.cnn = nn.Sequential(\n",
        "        create_cnn(3, 32),        \n",
        "        create_cnn(32, 64),\n",
        "        create_deepwise_point_wise_conv(3, 8),\n",
        "        create_deepwise_point_wise_conv(8, 16),\n",
        "        create_deepwise_point_wise_conv(16, 32),\n",
        "        # create_deepwise_point_wise_conv(32, 64),\n",
        "        create_deepwise_point_wise_conv(32, 64),\n",
        "        create_deepwise_point_wise_conv(64, 128),\n",
        "        # create_deepwise_point_wise_conv(64, 128),\n",
        "        create_deepwise_point_wise_conv(128, 256),\n",
        "        nn.LeakyReLU(),\n",
        "        # Here we adopt Global Average Pooling for various input size.\n",
        "        nn.AdaptiveAvgPool2d((1, 1)),\n",
        "      )\n",
        "      self.fc = nn.Sequential(\n",
        "        nn.LeakyReLU(),\n",
        "        nn.Linear(256, 11),\n",
        "      )\n",
        "      \n",
        "    def forward(self, x):\n",
        "      out = self.cnn(x)\n",
        "      out = out.view(out.size()[0], -1)\n",
        "      return self.fc(out)\n",
        "\n",
        "def get_student_model():\n",
        "    model = MobileNetV2(width_mult=1)\n",
        "    return model\n",
        "\n",
        "# End of definition of your student model and the get_student_model API\n",
        "# Please copy-paste the whole code block, including the get_student_model function.\n",
        "student_model = get_student_model()\n",
        "summary(student_model, (3, 224, 224), device='cpu')"
      ]
    },
    {
      "cell_type": "markdown",
      "metadata": {
        "id": "aCcdEiJ9-9xG"
      },
      "source": [
        "After specifying the student network architecture, please use `torchsummary` package to get information about the network and verify the total number of parameters. Note that your student network should not exceed the limit (`Total params` in `torchsummary` < 10,000). "
      ]
    },
    {
      "cell_type": "code",
      "execution_count": 12,
      "metadata": {
        "id": "-IuDlWd4-9xG",
        "trusted": true
      },
      "outputs": [],
      "source": [
        "# This is how we will evaluate your student model.\n",
        "# Do not modify this code block.\n",
        "student_model = get_student_model()\n",
        "# summary(student_model, (3, 224, 224), device='cpu')"
      ]
    },
    {
      "cell_type": "code",
      "execution_count": 13,
      "metadata": {
        "id": "r2bPt9Xo-9xG",
        "trusted": true
      },
      "outputs": [
        {
          "name": "stderr",
          "output_type": "stream",
          "text": [
            "Using cache found in /home/lpz106u/.cache/torch/hub/pytorch_vision_v0.10.0\n"
          ]
        },
        {
          "data": {
            "text/plain": [
              "<All keys matched successfully>"
            ]
          },
          "execution_count": 13,
          "metadata": {},
          "output_type": "execute_result"
        }
      ],
      "source": [
        "# Load provided teacher model (model architecture: resnet18, num_classes=11, test-acc ~= 89.9%)\n",
        "teacher_model = torch.hub.load('pytorch/vision:v0.10.0', 'resnet18', pretrained=False, num_classes=11)\n",
        "# load state dict\n",
        "teacher_ckpt_path = os.path.join(cfg['dataset_root'], \"resnet18_teacher.ckpt\")\n",
        "teacher_model.load_state_dict(torch.load(teacher_ckpt_path, map_location='cuda'))\n",
        "# Now you already know the teacher model's architecture. You can take advantage of it if you want to pass the strong or boss baseline. \n",
        "# Source code of resnet in pytorch: (https://github.com/pytorch/vision/blob/main/torchvision/models/resnet.py)\n",
        "# You can also see the summary of teacher model. There are 11,182,155 parameters totally in the teacher model\n",
        "# summary(teacher_model, (3, 224, 224), device='cpu')"
      ]
    },
    {
      "cell_type": "markdown",
      "metadata": {
        "id": "Or4vWT37-9xG"
      },
      "source": [
        "### Knowledge_Distillation\n",
        "\n",
        "<img src=\"https://i.imgur.com/H2aF7Rv.png=100x\" width=\"400px\">\n",
        "\n",
        "Since we have a learned big model, let it teach the other small model. In implementation, let the training target be the prediction of big model instead of the ground truth.\n",
        "\n",
        "**Why it works?**\n",
        "* If the data is not clean, then the prediction of big model could ignore the noise of the data with wrong labeled.\n",
        "* There might have some relations between classes, so soft labels from teacher model might be useful. For example, Number 8 is more similar to 6, 9, 0 than 1, 7.\n",
        "\n",
        "\n",
        "**How to implement?**\n",
        "* $Loss = \\alpha T^2 \\times KL(p || q) + (1-\\alpha)(\\text{Original Cross Entropy Loss}), \\text{where } p=softmax(\\frac{\\text{student's logits}}{T}), \\text{and } q=softmax(\\frac{\\text{teacher's logits}}{T})$\n",
        "* very useful link: [pytorch docs of KLDivLoss with examples](!https://pytorch.org/docs/stable/generated/torch.nn.KLDivLoss.html)\n",
        "* original paper: [Distilling the Knowledge in a Neural Network](!https://arxiv.org/abs/1503.02531)"
      ]
    },
    {
      "cell_type": "code",
      "execution_count": 14,
      "metadata": {
        "id": "Id1-GOws-9xG",
        "trusted": true
      },
      "outputs": [],
      "source": [
        "# Implement the loss function with KL divergence loss for knowledge distillation.\n",
        "# You also have to copy-paste this whole block to HW13 GradeScope. \n",
        "import torch.nn.functional as F\n",
        "\n",
        "\n",
        "def loss_fn_kd(student_logits, labels, teacher_logits, alpha=0.5, temperature=5.):\n",
        "    # ------------TODO-------------\n",
        "    # Refer to the above formula and finish the loss function for knowkedge distillation using KL divergence loss and CE loss.\n",
        "    # If you have no idea, please take a look at the provided useful link above.\n",
        "    p = torch.log_softmax(student_logits / temperature, dim=-1)    \n",
        "    q = torch.softmax(teacher_logits / temperature, dim=-1)\n",
        "    return alpha * (temperature ** 2) * F.kl_div(p, q, reduction='batchmean') + (1 - alpha) * F.cross_entropy(student_logits, labels)\n",
        "\n",
        "\n",
        "'''\n",
        "ref: https://github.com/lenscloth/RKD/blob/master/metric/loss.py\n",
        "'''\n",
        "\n",
        "class RKD(nn.Module):\n",
        "    '''\n",
        "\tRelational Knowledge Distillation\n",
        "\thttps://arxiv.org/pdf/1904.05068.pdf\n",
        "\t'''\n",
        "\n",
        "    def __init__(self, w_dist, w_angle, alpha=0.5):\n",
        "        super(RKD, self).__init__()\n",
        "\n",
        "        self.w_dist = w_dist\n",
        "        self.w_angle = w_angle\n",
        "        \n",
        "        self.alpha = alpha\n",
        "\n",
        "    def forward(self, feat_s, labels, feat_t):\n",
        "        loss = self.w_dist * self.rkd_dist(feat_s, feat_t) + \\\n",
        "            self.w_angle * self.rkd_angle(feat_s, feat_t)\n",
        "        loss = self.alpha * loss +  (1 - self.alpha) * F.cross_entropy(feat_s, labels)\n",
        "\n",
        "        return loss\n",
        "    \n",
        "    def rkd_dist(self, feat_s, feat_t):\n",
        "      feat_t_dist = self.pdist(feat_t, squared=False)\n",
        "      mean_feat_t_dist = feat_t_dist[feat_t_dist>0].mean()\n",
        "      feat_t_dist = feat_t_dist / mean_feat_t_dist\n",
        "\n",
        "      feat_s_dist = self.pdist(feat_s, squared=False)\n",
        "      mean_feat_s_dist = feat_s_dist[feat_s_dist>0].mean()\n",
        "      feat_s_dist = feat_s_dist / mean_feat_s_dist\n",
        "\n",
        "      loss = F.smooth_l1_loss(feat_s_dist, feat_t_dist)\n",
        "\n",
        "      return loss\n",
        "\n",
        "\n",
        "    def rkd_angle(self, feat_s, feat_t):\n",
        "        # N x C --> N x N x C\n",
        "        feat_t_vd = (feat_t.unsqueeze(0) - feat_t.unsqueeze(1))\n",
        "        norm_feat_t_vd = F.normalize(feat_t_vd, p=2, dim=2)\n",
        "        feat_t_angle = torch.bmm(norm_feat_t_vd,\n",
        "                                 norm_feat_t_vd.transpose(1, 2)).view(-1)\n",
        "\n",
        "        feat_s_vd = (feat_s.unsqueeze(0) - feat_s.unsqueeze(1))\n",
        "        norm_feat_s_vd = F.normalize(feat_s_vd, p=2, dim=2)\n",
        "        feat_s_angle = torch.bmm(norm_feat_s_vd,\n",
        "                                 norm_feat_s_vd.transpose(1, 2)).view(-1)\n",
        "\n",
        "        loss = F.smooth_l1_loss(feat_s_angle, feat_t_angle)\n",
        "\n",
        "        return loss\n",
        "\n",
        "    def pdist(self, feat, squared=False, eps=1e-12):\n",
        "        feat_square = feat.pow(2).sum(dim=1)\n",
        "        feat_prod = torch.mm(feat, feat.t())\n",
        "        feat_dist = (feat_square.unsqueeze(0) + feat_square.unsqueeze(1) -\n",
        "                     2 * feat_prod).clamp(min=eps)\n",
        "\n",
        "        if not squared:\n",
        "            feat_dist = feat_dist.sqrt()\n",
        "\n",
        "        feat_dist = feat_dist.clone()\n",
        "        feat_dist[range(len(feat)), range(len(feat))] = 0\n",
        "\n",
        "        return feat_dist\n"
      ]
    },
    {
      "cell_type": "code",
      "execution_count": 15,
      "metadata": {
        "id": "73yTOzZ9-9xH",
        "trusted": true
      },
      "outputs": [
        {
          "name": "stdout",
          "output_type": "stream",
          "text": [
            "device: cuda\n"
          ]
        }
      ],
      "source": [
        "# choose the loss function by the config\n",
        "if cfg['loss_fn_type'] == 'CE':\n",
        "    # For the classification task, we use cross-entropy as the default loss function.\n",
        "    loss_fn = nn.CrossEntropyLoss() # loss function for simple baseline.\n",
        "\n",
        "elif cfg['loss_fn_type'] == 'KD': # KD stands for knowledge distillation\n",
        "    loss_fn = loss_fn_kd # implement loss_fn_kd for the report question and the medium baseline.\n",
        "elif cfg['loss_fn_type'] =='RKD':\n",
        "    loss_fn = RKD(25, 50)\n",
        "\n",
        "# You can also other types of knowledge distillation techniques, but use function name other than `loss_fn_kd`\n",
        "# For example:\n",
        "# def loss_fn_custom_kd():\n",
        "#     pass\n",
        "# if cfg['loss_fn_type'] == 'custom_kd':\n",
        "#     loss_fn = loss_fn_custom_kd\n",
        "\n",
        "# \"cuda\" only when GPUs are available.\n",
        "device = \"cuda\" if torch.cuda.is_available() else \"cpu\"\n",
        "log(f\"device: {device}\")\n",
        "teacher_model.to(device)\n",
        "teacher_model.eval()\n",
        "# The number of training epochs and patience.\n",
        "n_epochs = cfg['n_epochs']\n",
        "patience = cfg['patience'] # If no improvement in 'patience' epochs, early stop"
      ]
    },
    {
      "cell_type": "markdown",
      "metadata": {
        "id": "0ERUMgVH-9xH"
      },
      "source": [
        "### Training\n",
        "implement training loop for simple baseline, feel free to modify it."
      ]
    },
    {
      "cell_type": "code",
      "execution_count": 16,
      "metadata": {
        "id": "SZo2uL1U-9xH",
        "trusted": true
      },
      "outputs": [
        {
          "name": "stderr",
          "output_type": "stream",
          "text": [
            "Failed to detect the name of this notebook, you can set it manually with the WANDB_NOTEBOOK_NAME environment variable to enable code saving.\n",
            "\u001b[34m\u001b[1mwandb\u001b[0m: Currently logged in as: \u001b[33mtedli\u001b[0m (use `wandb login --relogin` to force relogin)\n"
          ]
        },
        {
          "data": {
            "text/html": [
              "wandb version 0.12.17 is available!  To upgrade, please run:\n",
              " $ pip install wandb --upgrade"
            ],
            "text/plain": [
              "<IPython.core.display.HTML object>"
            ]
          },
          "metadata": {},
          "output_type": "display_data"
        },
        {
          "data": {
            "text/html": [
              "Tracking run with wandb version 0.12.11"
            ],
            "text/plain": [
              "<IPython.core.display.HTML object>"
            ]
          },
          "metadata": {},
          "output_type": "display_data"
        },
        {
          "data": {
            "text/html": [
              "Run data is saved locally in <code>/home/lpz106u/course/ML/hw13/wandb/run-20220605_010539-2of1ih10</code>"
            ],
            "text/plain": [
              "<IPython.core.display.HTML object>"
            ]
          },
          "metadata": {},
          "output_type": "display_data"
        },
        {
          "data": {
            "text/html": [
              "Syncing run <strong><a href=\"https://wandb.ai/tedli/ML_hw13/runs/2of1ih10\" target=\"_blank\">lr-0.003_loss_fn_type-RKD_weight_decay-1e-05_grad_norm_max-10_n_epochs-500_patience-100_augmentation-rand_mixup_prob-0.5</a></strong> to <a href=\"https://wandb.ai/tedli/ML_hw13\" target=\"_blank\">Weights & Biases</a> (<a href=\"https://wandb.me/run\" target=\"_blank\">docs</a>)<br/>"
            ],
            "text/plain": [
              "<IPython.core.display.HTML object>"
            ]
          },
          "metadata": {},
          "output_type": "display_data"
        },
        {
          "name": "stderr",
          "output_type": "stream",
          "text": [
            " 78%|███████▊  | 388/500 [2:19:50<40:22, 21.63s/it, val/loss=1.82, val/acc=0.807, val/best_acc=0.812, _timestamp=1.65e+9, _runtime=8397]  "
          ]
        },
        {
          "name": "stdout",
          "output_type": "stream",
          "text": [
            "No improvment 100 consecutive epochs, early stopping\n",
            "Finish training\n"
          ]
        },
        {
          "name": "stderr",
          "output_type": "stream",
          "text": [
            "\n"
          ]
        }
      ],
      "source": [
        "import wandb\n",
        "import numpy as np\n",
        "\n",
        "\n",
        "def join_cfg(cfg:dict):\n",
        "    ignore = ['dataset_root', 'save_dir', 'exp_name', 'batch_size', 'seed']\n",
        "    result = []\n",
        "    for k, v in cfg.items():\n",
        "        if k not in ignore:\n",
        "            result.append(f'{k}-{v}')\n",
        "    return '_'.join(result)\n",
        "    \n",
        "# Initialize a model, and put it on the device specified.\n",
        "student_model.to(device)\n",
        "# teacher_model.to(device) # MEDIUM BASELINE\n",
        "\n",
        "# Initialize optimizer, you may fine-tune some hyperparameters such as learning rate on your own.\n",
        "optimizer = torch.optim.Adam(student_model.parameters(), lr=cfg['lr'], weight_decay=cfg['weight_decay']) \n",
        "scheduler = torch.optim.lr_scheduler.StepLR(optimizer, step_size = 50, gamma = 0.5, verbose=False)\n",
        "# Initialize trackers, these are not parameters and should not be changed\n",
        "stale = 0\n",
        "best_acc = 0.0\n",
        "wandb.init(project='ML_hw13', config=cfg, name=join_cfg(cfg))\n",
        "teacher_model.eval()  # MEDIUM BASELINE\n",
        "pbar = tqdm(range(n_epochs))\n",
        "for epoch in pbar:\n",
        "\n",
        "    # ---------- Training ----------\n",
        "    # Make sure the model is in train mode before training.\n",
        "    student_model.train()\n",
        "\n",
        "    # These are used to record information in training.\n",
        "    train_loss = []\n",
        "    train_accs = []\n",
        "    train_lens = []\n",
        "\n",
        "    for batch in tqdm(train_loader, leave=False):\n",
        "\n",
        "        # A batch consists of image data and corresponding labels.\n",
        "        imgs, labels = batch\n",
        "        imgs = imgs.to(device)\n",
        "        labels = labels.to(device)\n",
        "        #print(imgs.shape,labels.shape)\n",
        "        \n",
        "        # mixup\n",
        "        if random.random() < cfg['mixup_prob']:\n",
        "            indices = torch.randperm(imgs.size(0), device=imgs.device, dtype=torch.long)\n",
        "            gamma = np.random.beta(0.2, 0.2)\n",
        "            labels = F.one_hot(labels, 11)\n",
        "            imgs = imgs.mul(gamma).add(imgs[indices], alpha=1-gamma)\n",
        "            labels = labels.mul(gamma).add(labels[indices], alpha=1-gamma)\n",
        "\n",
        "\n",
        "        # Forward the data. (Make sure data and model are on the same device.)\n",
        "        with torch.no_grad():  # MEDIUM BASELINE\n",
        "            teacher_logits = teacher_model(imgs)  # MEDIUM BASELINE\n",
        "        \n",
        "        logits = student_model(imgs)\n",
        "\n",
        "        # Calculate the cross-entropy loss.\n",
        "        # We don't need to apply softmax before computing cross-entropy as it is done automatically.\n",
        "        loss = loss_fn(logits, labels, teacher_logits) # MEDIUM BASELINE\n",
        "#         loss = loss_fn(logits, labels) # SIMPLE BASELINE\n",
        "        # Gradients stored in the parameters in the previous step should be cleared out first.\n",
        "        optimizer.zero_grad()\n",
        "\n",
        "        # Compute the gradients for parameters.\n",
        "        loss.backward()\n",
        "\n",
        "        # Clip the gradient norms for stable training.\n",
        "        grad_norm = nn.utils.clip_grad_norm_(student_model.parameters(), max_norm=cfg['grad_norm_max'])\n",
        "\n",
        "        # Update the parameters with computed gradients.\n",
        "        optimizer.step()\n",
        "\n",
        "        # Compute the accuracy for current batch.\n",
        "        # acc = (logits.argmax(dim=-1) == labels).float().sum().item()\n",
        "\n",
        "        # Record the loss and accuracy.\n",
        "        train_batch_len = len(imgs)\n",
        "        train_loss.append(loss.item() * train_batch_len)\n",
        "        # train_accs.append(acc)\n",
        "        train_lens.append(train_batch_len)\n",
        "    scheduler.step()\n",
        "    train_loss = sum(train_loss) / sum(train_lens)\n",
        "    # train_acc = sum(train_accs) / sum(train_lens)\n",
        "    train_metrics = {'train/loss': train_loss}\n",
        "    wandb.log(train_metrics, commit=False)\n",
        "\n",
        "    # Print the information.\n",
        "    # log(f\"[ Train | {epoch + 1:03d}/{n_epochs:03d} ] loss = {train_loss:.5f}, acc = {train_acc:.5f}\")\n",
        "    pbar.set_postfix(train_metrics)\n",
        "    # ---------- Validation ----------\n",
        "    # Make sure the model is in eval mode so that some modules like dropout are disabled and work normally.\n",
        "    student_model.eval()\n",
        "\n",
        "    # These are used to record information in validation.\n",
        "    valid_loss = []\n",
        "    valid_accs = []\n",
        "    valid_lens = []\n",
        "\n",
        "    # Iterate the validation set by batches.\n",
        "    for batch in tqdm(valid_loader, leave=False):\n",
        "\n",
        "        # A batch consists of image data and corresponding labels.\n",
        "        imgs, labels = batch\n",
        "        imgs = imgs.to(device)\n",
        "        labels = labels.to(device)\n",
        "\n",
        "        # We don't need gradient in validation.\n",
        "        # Using torch.no_grad() accelerates the forward process.\n",
        "        with torch.no_grad():\n",
        "            logits = student_model(imgs)\n",
        "            teacher_logits = teacher_model(imgs) # MEDIUM BASELINE\n",
        "\n",
        "#         We can still compute the loss (but not the gradient).\n",
        "        loss = loss_fn(logits, labels, teacher_logits) # MEDIUM BASELINE\n",
        "#         loss = loss_fn(logits, labels) # SIMPLE BASELINE\n",
        "\n",
        "        # Compute the accuracy for current batch.\n",
        "        acc = (logits.argmax(dim=-1) == labels).float().sum().item()\n",
        "\n",
        "        # Record the loss and accuracy.\n",
        "        batch_len = len(imgs)\n",
        "        valid_loss.append(loss.item() * batch_len)\n",
        "        valid_accs.append(acc)\n",
        "        valid_lens.append(batch_len)\n",
        "        #break\n",
        "\n",
        "    # The average loss and accuracy for entire validation set is the average of the recorded values.\n",
        "    valid_loss = sum(valid_loss) / sum(valid_lens)\n",
        "    valid_acc = sum(valid_accs) / sum(valid_lens)\n",
        "\n",
        "    # update logs\n",
        "    \n",
        "    # if valid_acc > best_acc:\n",
        "    #     log(f\"[ Valid | {epoch + 1:03d}/{n_epochs:03d} ] loss = {valid_loss:.5f}, acc = {valid_acc:.5f} -> best\")\n",
        "    # else:\n",
        "    #     log(f\"[ Valid | {epoch + 1:03d}/{n_epochs:03d} ] loss = {valid_loss:.5f}, acc = {valid_acc:.5f}\")\n",
        "    val_metrics = {'val/loss': valid_loss, 'val/acc': valid_acc, 'val/best_acc': best_acc}\n",
        "    wandb.log(val_metrics, commit=True)\n",
        "    pbar.set_postfix(val_metrics)\n",
        "\n",
        "\n",
        "    # save models\n",
        "    if valid_acc > best_acc:\n",
        "        # log(f\"Best model found at epoch {epoch}, saving model\")\n",
        "        torch.save(student_model.state_dict(), f\"{save_path}/student_best.ckpt\") # only save best to prevent output memory exceed error\n",
        "        best_acc = valid_acc\n",
        "        stale = 0\n",
        "    else:\n",
        "        stale += 1\n",
        "        if stale > patience:\n",
        "            log(f\"No improvment {patience} consecutive epochs, early stopping\")\n",
        "            break\n",
        "log(\"Finish training\") \n",
        "log_fw.close()"
      ]
    },
    {
      "cell_type": "markdown",
      "metadata": {
        "id": "c9L6z-nN-9xH"
      },
      "source": [
        "### Inference\n",
        "load the best model of the experiment and generate submission.csv"
      ]
    },
    {
      "cell_type": "code",
      "execution_count": 17,
      "metadata": {
        "id": "4I1sYhqp-9xH",
        "trusted": true
      },
      "outputs": [
        {
          "name": "stdout",
          "output_type": "stream",
          "text": [
            "One ./food11-hw13/evaluation sample ./food11-hw13/evaluation/0000.jpg\n"
          ]
        },
        {
          "name": "stderr",
          "output_type": "stream",
          "text": [
            "100%|██████████| 3347/3347 [16:52<00:00,  3.31it/s]  \n"
          ]
        },
        {
          "name": "stdout",
          "output_type": "stream",
          "text": [
            "One ./food11-hw13/evaluation sample ./food11-hw13/evaluation/0000.jpg\n"
          ]
        },
        {
          "name": "stderr",
          "output_type": "stream",
          "text": [
            "100%|██████████| 27/27 [00:05<00:00,  4.64it/s]\n"
          ]
        }
      ],
      "source": [
        "# Load model from {exp_name}/student_best.ckpt\n",
        "student_model_best = get_student_model() # get a new student model to avoid reference before assignment.\n",
        "ckpt_path = f\"{save_path}/student_best.ckpt\" # the ckpt path of the best student model.\n",
        "student_model_best.load_state_dict(torch.load(ckpt_path, map_location='cpu')) # load the state dict and set it to the student model\n",
        "student_model_best.to(device) # set the student model to device\n",
        "ensemble_num = 30\n",
        "# Start evaluate\n",
        "student_model_best.eval()\n",
        "eval_preds = [] # storing predictions of the evaluation dataset\n",
        "eval_set = FoodDataset(os.path.join(cfg['dataset_root'], \"evaluation\"), tfm=train_tfm)\n",
        "\n",
        "def pad4(i):\n",
        "    return \"0\"*(4-len(str(i))) + str(i)\n",
        "ids = [pad4(i) for i in range(0,len(eval_set))]\n",
        "\n",
        "# Iterate the validation set by batches.\n",
        "for i in tqdm(range(len(eval_set))):\n",
        "    imgs = []\n",
        "    for _ in range(ensemble_num):\n",
        "        imgs.append(eval_set[i][0])\n",
        "    imgs = torch.stack(imgs)\n",
        "    with torch.no_grad():\n",
        "        logits = student_model_best(imgs.to(device))\n",
        "        pred = logits.sum(0).argmax(-1).item()\n",
        "    eval_preds.append(pred)\n",
        "df = pd.DataFrame({'Id': ids, 'Category': eval_preds})\n",
        "df.to_csv(f\"{save_path}/submission_aug.csv\", index=False) # now you can download the submission.csv and upload it to the kaggle competition.\n",
        "\n",
        "\n",
        "# eval_preds = [] # storing predictions of the evaluation dataset\n",
        "# eval_set = FoodDataset(os.path.join(cfg['dataset_root'], \"evaluation\"), tfm=train_tfm)\n",
        "# eval_loader = DataLoader(eval_set, batch_size=cfg['batch_size'], shuffle=False, num_workers=10, pin_memory=True)\n",
        "# for batch in tqdm(eval_loader):\n",
        "    \n",
        "#     # A batch consists of image data and corresponding labels.\n",
        "#     imgs, _ = batch\n",
        "#     # We don't need gradient in evaluation.\n",
        "#     # Using torch.no_grad() accelerates the forward process.\n",
        "#     with torch.no_grad():\n",
        "#         logits = student_model_best(imgs.to(device))\n",
        "#         preds = list(logits.argmax(dim=-1).squeeze().cpu().numpy())\n",
        "#     # loss and acc can not be calculated because we do not have the true labels of the evaluation set.\n",
        "#     eval_preds += preds\n",
        "# df = pd.DataFrame({'Id': ids, 'Category': eval_preds})\n",
        "# df.to_csv(f\"{save_path}/submission_original.csv\", index=False) # now you can download the submission.csv and upload it to the kaggle competition.\n",
        "\n",
        "# Save prediction results\n",
        "\n"
      ]
    },
    {
      "cell_type": "markdown",
      "metadata": {
        "id": "YYUKBx2Z-9xH"
      },
      "source": [
        "> Don't forget to answer the report questions on GradeScope!"
      ]
    },
    {
      "cell_type": "markdown",
      "metadata": {
        "id": "ongF76LU-9xI"
      },
      "source": []
    }
  ],
  "metadata": {
    "accelerator": "GPU",
    "colab": {
      "collapsed_sections": [],
      "name": "ml2022spring-hw13-sample-code (1).ipynb",
      "provenance": []
    },
    "interpreter": {
      "hash": "de73be9266b8b9d7f5050b3c110c42104e5079f74b13f0d038649b839e9bd586"
    },
    "kernelspec": {
      "display_name": "Python 3.8.13 ('ML')",
      "language": "python",
      "name": "python3"
    },
    "language_info": {
      "codemirror_mode": {
        "name": "ipython",
        "version": 3
      },
      "file_extension": ".py",
      "mimetype": "text/x-python",
      "name": "python",
      "nbconvert_exporter": "python",
      "pygments_lexer": "ipython3",
      "version": "3.8.13"
    }
  },
  "nbformat": 4,
  "nbformat_minor": 0
}
