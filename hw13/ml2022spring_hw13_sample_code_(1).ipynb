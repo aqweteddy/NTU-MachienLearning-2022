{
  "cells": [
    {
      "cell_type": "markdown",
      "metadata": {
        "id": "EpzhhXc--9w9"
      },
      "source": [
        "# Homework 13 - Network Compression\n",
        "\n",
        "Author: Liang-Hsuan Tseng (b07502072@ntu.edu.tw), modified from ML2021-HW13\n",
        "\n",
        "If you have any questions, feel free to ask: ntu-ml-2022spring-ta@googlegroups.com\n",
        "\n",
        "[**Link to HW13 Slides**](https://docs.google.com/presentation/d/1nCT9XrInF21B4qQAWuODy5sonKDnpGhjtcAwqa75mVU/edit#slide=id.p)"
      ]
    },
    {
      "cell_type": "markdown",
      "metadata": {
        "id": "8zazWy5C-9w_"
      },
      "source": [
        "### Outline\n",
        "\n",
        "* [Packages](#Packages) - intall some required packages.\n",
        "* [Dataset](#Dataset) - something you need to know about the dataset.\n",
        "* [Configs](#Configs) - the configs of the experiments, you can change some hyperparameters here.\n",
        "* [Architecture_Design](#Architecture_Design) - depthwise and pointwise convolution examples and some useful links.\n",
        "* [Knowledge_Distillation](#Knowledge_Distillation) - KL divergence loss for knowledge distillation and some useful links.\n",
        "* [Training](#Training) - training loop implementation modified from HW3.\n",
        "* [Inference](#Inference) - create submission.csv by loading the best.ckpt from the .\n",
        "\n"
      ]
    },
    {
      "cell_type": "markdown",
      "metadata": {
        "id": "C_td1wmQ-9xA"
      },
      "source": [
        "### Packages\n",
        "First, we need to import some useful packages. Since the `torchsummary` package is not installed by default, we have to install it via `pip` manually."
      ]
    },
    {
      "cell_type": "code",
      "execution_count": 1,
      "metadata": {
        "colab": {
          "base_uri": "https://localhost:8080/"
        },
        "id": "efb_daqX-9xA",
        "outputId": "916b34f8-2bbe-4642-b70d-8e26869b9c73",
        "trusted": true
      },
      "outputs": [
        {
          "name": "stdout",
          "output_type": "stream",
          "text": [
            "Collecting torchsummary\n",
            "  Downloading torchsummary-1.5.1-py3-none-any.whl (2.8 kB)\n",
            "Installing collected packages: torchsummary\n",
            "Successfully installed torchsummary-1.5.1\n",
            "wget: /opt/anaconda3/lib/libuuid.so.1: no version information available (required by wget)\n",
            "--2022-06-02 09:34:43--  https://github.com/andybi7676/ml2022spring-hw13/raw/main/food11-hw13.tar.gz\n",
            "Resolving github.com (github.com)... 13.114.40.48\n",
            "Connecting to github.com (github.com)|13.114.40.48|:443... connected.\n",
            "HTTP request sent, awaiting response... 302 Found\n",
            "Location: https://media.githubusercontent.com/media/andybi7676/ml2022spring-hw13/main/food11-hw13.tar.gz [following]\n",
            "--2022-06-02 09:34:44--  https://media.githubusercontent.com/media/andybi7676/ml2022spring-hw13/main/food11-hw13.tar.gz\n",
            "Resolving media.githubusercontent.com (media.githubusercontent.com)... 185.199.108.133, 185.199.109.133, 185.199.110.133, ...\n",
            "Connecting to media.githubusercontent.com (media.githubusercontent.com)|185.199.108.133|:443... connected.\n",
            "HTTP request sent, awaiting response... 200 OK\n",
            "Length: 1203320552 (1.1G) [application/octet-stream]\n",
            "Saving to: ‘food11-hw13.tar.gz’\n",
            "\n",
            "food11-hw13.tar.gz  100%[===================>]   1.12G  90.7MB/s    in 13s     \n",
            "\n",
            "2022-06-02 09:37:21 (89.3 MB/s) - ‘food11-hw13.tar.gz’ saved [1203320552/1203320552]\n",
            "\n"
          ]
        }
      ],
      "source": [
        "!pip install torchsummary\n",
        "!wget https://github.com/andybi7676/ml2022spring-hw13/raw/main/food11-hw13.tar.gz\n",
        "!tar -xzf ./food11-hw13.tar.gz # Could take some time\n"
      ]
    },
    {
      "cell_type": "code",
      "execution_count": 2,
      "metadata": {
        "id": "36EhM6TU-9xB",
        "trusted": true
      },
      "outputs": [],
      "source": [
        "# This Python 3 environment comes with many helpful analytics libraries installed\n",
        "# It is defined by the kaggle/python Docker image: https://github.com/kaggle/docker-python\n",
        "# Import some useful packages for this homework\n",
        "import numpy as np\n",
        "import pandas as pd\n",
        "import torch\n",
        "import os\n",
        "import torch.nn as nn\n",
        "import torch.nn.functional as F\n",
        "import torchvision.transforms as transforms\n",
        "from PIL import Image\n",
        "from torch.utils.data import ConcatDataset, DataLoader, Subset, Dataset # \"ConcatDataset\" and \"Subset\" are possibly useful.\n",
        "from torchvision.datasets import DatasetFolder, VisionDataset\n",
        "from torchsummary import summary\n",
        "from tqdm.auto import tqdm\n",
        "import random"
      ]
    },
    {
      "cell_type": "markdown",
      "metadata": {
        "id": "PIw8N_Ra-9xB"
      },
      "source": [
        "### Configs\n",
        "In this part, you can specify some variables and hyperparameters as your configs."
      ]
    },
    {
      "cell_type": "code",
      "execution_count": 3,
      "metadata": {
        "id": "S4UAwWGQ-9xC",
        "trusted": true
      },
      "outputs": [],
      "source": [
        "cfg = {\n",
        "    'dataset_root': './food11-hw13',\n",
        "    'save_dir': './outputs',\n",
        "    'exp_name': \"rkd_baseline\",\n",
        "    'batch_size': 64,\n",
        "    'lr': 1e-2,\n",
        "    'seed': 20220013,\n",
        "    'loss_fn_type': 'RKD', # simple baseline: CE, medium baseline: KD. See the Knowledge_Distillation part for more information.\n",
        "    'weight_decay': 1e-5,\n",
        "    'grad_norm_max': 10,\n",
        "    'n_epochs': 500,\n",
        "    'patience': 100,\n",
        "    'augmentation': 'rand' # or rand\n",
        "}"
      ]
    },
    {
      "cell_type": "code",
      "execution_count": 4,
      "metadata": {
        "id": "SGv8rYVa-9xC",
        "trusted": true
      },
      "outputs": [
        {
          "name": "stdout",
          "output_type": "stream",
          "text": [
            "{'dataset_root': './food11-hw13', 'save_dir': './outputs', 'exp_name': 'rkd_baseline', 'batch_size': 64, 'lr': 0.01, 'seed': 20220013, 'loss_fn_type': 'RKD', 'weight_decay': 1e-05, 'grad_norm_max': 10, 'n_epochs': 500, 'patience': 100, 'augmentation': 'rand'}\n"
          ]
        }
      ],
      "source": [
        "myseed = cfg['seed']  # set a random seed for reproducibility\n",
        "torch.backends.cudnn.deterministic = True\n",
        "torch.backends.cudnn.benchmark = False\n",
        "np.random.seed(myseed)\n",
        "torch.manual_seed(myseed)\n",
        "random.seed(myseed)\n",
        "if torch.cuda.is_available():\n",
        "    torch.cuda.manual_seed_all(myseed)\n",
        "\n",
        "save_path = os.path.join(cfg['save_dir'], cfg['exp_name']) # create saving directory\n",
        "os.makedirs(save_path, exist_ok=True)\n",
        "\n",
        "# define simple logging functionality\n",
        "log_fw = open(f\"{save_path}/log.txt\", 'w') # open log file to save log outputs\n",
        "def log(text):     # define a logging function to trace the training process\n",
        "    print(text)\n",
        "    log_fw.write(str(text)+'\\n')\n",
        "    log_fw.flush()\n",
        "\n",
        "log(cfg)  # log your configs to the log file"
      ]
    },
    {
      "cell_type": "markdown",
      "metadata": {
        "id": "IDAutJJp-9xD"
      },
      "source": [
        "### Dataset\n",
        "We use Food11 dataset for this homework, which is similar to homework3. But remember, Please DO NOT utilize the dataset of HW3. We've modified the dataset, so you should only access the dataset by loading it in this kaggle notebook or through the links provided in the HW13 colab notebooks."
      ]
    },
    {
      "cell_type": "code",
      "execution_count": 5,
      "metadata": {
        "_cell_guid": "b1076dfc-b9ad-4769-8c92-a6c4dae69d19",
        "_uuid": "8f2839f25d086af736a60e9eeb907d3b93b6e0e5",
        "id": "UbkkVDCd-9xD",
        "trusted": true
      },
      "outputs": [],
      "source": [
        "# Input data files are available in the read-only \"../input/\" directory\n",
        "# For example, running this (by clicking run or pressing Shift+Enter) will list all files under the input directory\n",
        "for dirname, _, filenames in os.walk('/kaggle/input'):\n",
        "    if len(filenames) > 0:\n",
        "        print(f\"{dirname}: {len(filenames)} files.\") # Show the .jpg file amounts in each split.\n",
        "\n",
        "# You can write up to 20GB to the current directory (/kaggle/working/) that gets preserved as output when you create a version using \"Save & Run All\" \n",
        "# You can also write temporary files to /kaggle/temp/, but they won't be saved outside of the current session"
      ]
    },
    {
      "cell_type": "markdown",
      "metadata": {
        "id": "NE_OciIh-9xE"
      },
      "source": [
        "Next, specify train/valid transform for image data augmentation.\n",
        "Torchvision provides lots of useful utilities for image preprocessing, data wrapping as well as data augmentation.\n",
        "\n",
        "Please refer to [PyTorch official website](https://pytorch.org/vision/stable/transforms.html) for details about different transforms. You can also apply the knowledge or experience you learned in HW3."
      ]
    },
    {
      "cell_type": "code",
      "execution_count": 6,
      "metadata": {
        "id": "PdmmlVZ3-9xE",
        "trusted": true
      },
      "outputs": [],
      "source": [
        "normalize = transforms.Normalize(mean=[0.485, 0.456, 0.406], std=[0.229, 0.224, 0.225])\n",
        "# define training/testing transforms\n",
        "test_tfm = transforms.Compose([\n",
        "    # It is not encouraged to modify this part if you are using the provided teacher model. This transform is stardard and good enough for testing.\n",
        "    transforms.Resize(256),\n",
        "    transforms.CenterCrop(224),\n",
        "    transforms.ToTensor(),\n",
        "    normalize,\n",
        "])\n",
        "if cfg['augmentation'] == 'default':\n",
        "    train_tfm = transforms.Compose([\n",
        "        # add some useful transform or augmentation here, according to your experience in HW3.\n",
        "        transforms.Resize(256),  # You can change this\n",
        "        transforms.CenterCrop(224), # You can change this, but be aware of that the given teacher model's input size is 224.\n",
        "        # The training input size of the provided teacher model is (3, 224, 224).\n",
        "        # Thus, Input size other then 224 might hurt the performance. please be careful.\n",
        "        transforms.ToTensor(),\n",
        "        normalize,\n",
        "    ])\n",
        "elif cfg['augmentation'] == 'rand':\n",
        "    train_tfm = transforms.Compose([\n",
        "        # add some useful transform or augmentation here, according to your experience in HW3.\n",
        "        transforms.Resize([224,224]),  # You can change this\n",
        "        transforms.RandAugment(),\n",
        "        transforms.ToTensor(),\n",
        "        normalize,\n",
        "    ])"
      ]
    },
    {
      "cell_type": "code",
      "execution_count": 7,
      "metadata": {
        "id": "t7olptT0-9xE",
        "trusted": true
      },
      "outputs": [],
      "source": [
        "class FoodDataset(Dataset):\n",
        "    def __init__(self, path, tfm=test_tfm, files = None):\n",
        "        super().__init__()\n",
        "        self.path = path\n",
        "        self.files = sorted([os.path.join(path,x) for x in os.listdir(path) if x.endswith(\".jpg\")])\n",
        "        if files != None:\n",
        "            self.files = files\n",
        "        print(f\"One {path} sample\",self.files[0])\n",
        "        self.transform = tfm\n",
        "  \n",
        "    def __len__(self):\n",
        "        return len(self.files)\n",
        "  \n",
        "    def __getitem__(self,idx):\n",
        "        fname = self.files[idx]\n",
        "        im = Image.open(fname)\n",
        "        im = self.transform(im)\n",
        "        try:\n",
        "            label = int(fname.split(\"/\")[-1].split(\"_\")[0])\n",
        "        except:\n",
        "            label = -1 # test has no label\n",
        "        return im,label"
      ]
    },
    {
      "cell_type": "code",
      "execution_count": 8,
      "metadata": {
        "id": "tjl-m5u3-9xE",
        "trusted": true
      },
      "outputs": [
        {
          "name": "stdout",
          "output_type": "stream",
          "text": [
            "One ./food11-hw13/training sample ./food11-hw13/training/0_0.jpg\n",
            "One ./food11-hw13/validation sample ./food11-hw13/validation/0_0.jpg\n"
          ]
        }
      ],
      "source": [
        "train_set = FoodDataset(os.path.join(cfg['dataset_root'],\"training\"), tfm=train_tfm)\n",
        "train_loader = DataLoader(train_set, batch_size=cfg['batch_size'], shuffle=True, num_workers=0, pin_memory=True)\n",
        "\n",
        "valid_set = FoodDataset(os.path.join(cfg['dataset_root'], \"validation\"), tfm=test_tfm)\n",
        "valid_loader = DataLoader(valid_set, batch_size=cfg['batch_size'], shuffle=False, num_workers=0, pin_memory=True)"
      ]
    },
    {
      "cell_type": "markdown",
      "metadata": {
        "id": "ELyvUDkO-9xF"
      },
      "source": [
        "### Architecture_Design\n",
        "\n",
        "In this homework, you have to design a smaller network and make it perform well. Apparently, a well-designed architecture is crucial for such task. Here, we introduce depthwise and pointwise convolutions. They are some common techniques for architecture design when it comes to network compression.\n",
        "\n",
        "<img src=\"https://i.imgur.com/LFDKHOp.png\" width=400px>\n",
        "\n",
        "* explanation of depthwise and pointwise convolutions:\n",
        "    * [prof. Hung-yi Lee's slides(p.24~p.30, especially p.28)](https://speech.ee.ntu.edu.tw/~hylee/ml/ml2021-course-data/tiny_v7.pdf)"
      ]
    },
    {
      "cell_type": "code",
      "execution_count": 9,
      "metadata": {
        "id": "kPReM4Rr-9xF",
        "trusted": true
      },
      "outputs": [],
      "source": [
        "import math\n",
        "# ref: https://github.com/iamhankai/ghostnet.pytorch/blob/master/ghost_net.py\n",
        "def _make_divisible(v, divisor, min_value=None):\n",
        "    \"\"\"\n",
        "    This function is taken from the original tf repo.\n",
        "    It ensures that all layers have a channel number that is divisible by 8\n",
        "    It can be seen here:\n",
        "    https://github.com/tensorflow/models/blob/master/research/slim/nets/mobilenet/mobilenet.py\n",
        "    \"\"\"\n",
        "    if min_value is None:\n",
        "        min_value = divisor\n",
        "    new_v = max(min_value, int(v + divisor / 2) // divisor * divisor)\n",
        "    # Make sure that round down does not go down by more than 10%.\n",
        "    if new_v < 0.9 * v:\n",
        "        new_v += divisor\n",
        "    return new_v\n",
        "\n",
        "\n",
        "class SELayer(nn.Module):\n",
        "    def __init__(self, channel, reduction=4):\n",
        "        super(SELayer, self).__init__()\n",
        "        self.avg_pool = nn.AdaptiveAvgPool2d(1)\n",
        "        self.fc = nn.Sequential(\n",
        "                nn.Linear(channel, channel // reduction),\n",
        "                nn.ReLU(inplace=True),\n",
        "                nn.Linear(channel // reduction, channel),        )\n",
        "\n",
        "    def forward(self, x):\n",
        "        b, c, _, _ = x.size()\n",
        "        y = self.avg_pool(x).view(b, c)\n",
        "        y = self.fc(y).view(b, c, 1, 1)\n",
        "        y = torch.clamp(y, 0, 1)\n",
        "        return x * y\n",
        "\n",
        "\n",
        "def depthwise_conv(inp, oup, kernel_size=3, stride=1, relu=False):\n",
        "    return nn.Sequential(\n",
        "        nn.Conv2d(inp, oup, kernel_size, stride, kernel_size//2, groups=inp, bias=False),\n",
        "        nn.BatchNorm2d(oup),\n",
        "        nn.ReLU(inplace=True) if relu else nn.Sequential(),\n",
        "    )\n",
        "\n",
        "class GhostModule(nn.Module):\n",
        "    def __init__(self, inp, oup, kernel_size=1, ratio=2, dw_size=3, stride=1, relu=True):\n",
        "        super(GhostModule, self).__init__()\n",
        "        self.oup = oup\n",
        "        init_channels = math.ceil(oup / ratio)\n",
        "        new_channels = init_channels*(ratio-1)\n",
        "\n",
        "        self.primary_conv = nn.Sequential(\n",
        "            nn.Conv2d(inp, init_channels, kernel_size, stride, kernel_size//2, bias=False),\n",
        "            nn.BatchNorm2d(init_channels),\n",
        "            nn.ReLU(inplace=True) if relu else nn.Sequential(),\n",
        "        )\n",
        "\n",
        "        self.cheap_operation = nn.Sequential(\n",
        "            nn.Conv2d(init_channels, new_channels, dw_size, 1, dw_size//2, groups=init_channels, bias=False),\n",
        "            nn.BatchNorm2d(new_channels),\n",
        "            nn.ReLU(inplace=True) if relu else nn.Sequential(),\n",
        "        )\n",
        "\n",
        "    def forward(self, x):\n",
        "        x1 = self.primary_conv(x)\n",
        "        x2 = self.cheap_operation(x1)\n",
        "        out = torch.cat([x1,x2], dim=1)\n",
        "        return out[:,:self.oup,:,:]\n",
        "\n",
        "\n",
        "class GhostBottleneck(nn.Module):\n",
        "    def __init__(self, inp, hidden_dim, oup, kernel_size, stride, use_se):\n",
        "        super(GhostBottleneck, self).__init__()\n",
        "        assert stride in [1, 2]\n",
        "\n",
        "        self.conv = nn.Sequential(\n",
        "            # pw\n",
        "            GhostModule(inp, hidden_dim, kernel_size=1, relu=True),\n",
        "            # dw\n",
        "            depthwise_conv(hidden_dim, hidden_dim, kernel_size, stride, relu=False) if stride==2 else nn.Sequential(),\n",
        "            # Squeeze-and-Excite\n",
        "            SELayer(hidden_dim) if use_se else nn.Sequential(),\n",
        "            # pw-linear\n",
        "            GhostModule(hidden_dim, oup, kernel_size=1, relu=False),\n",
        "        )\n",
        "\n",
        "        if stride == 1 and inp == oup:\n",
        "            self.shortcut = nn.Sequential()\n",
        "        else:\n",
        "            self.shortcut = nn.Sequential(\n",
        "                depthwise_conv(inp, inp, kernel_size, stride, relu=False),\n",
        "                nn.Conv2d(inp, oup, 1, 1, 0, bias=False),\n",
        "                nn.BatchNorm2d(oup),\n",
        "            )\n",
        "\n",
        "    def forward(self, x):\n",
        "        return self.conv(x) + self.shortcut(x)\n",
        "\n",
        "\n",
        "class GhostNet(nn.Module):\n",
        "    def __init__(self, cfgs, num_classes=1000, width_mult=1.):\n",
        "        super(GhostNet, self).__init__()\n",
        "        # setting of inverted residual blocks\n",
        "        self.cfgs = cfgs\n",
        "\n",
        "        # building first layer\n",
        "        output_channel = _make_divisible(16 * width_mult, 4)\n",
        "        layers = [nn.Sequential(\n",
        "            nn.Conv2d(3, output_channel, 3, 2, 1, bias=False),\n",
        "            nn.BatchNorm2d(output_channel),\n",
        "            nn.ReLU(inplace=True)\n",
        "        )]\n",
        "        input_channel = output_channel\n",
        "\n",
        "        # building inverted residual blocks\n",
        "        block = GhostBottleneck\n",
        "        for k, exp_size, c, use_se, s in self.cfgs:\n",
        "            output_channel = _make_divisible(c * width_mult, 4)\n",
        "            hidden_channel = _make_divisible(exp_size * width_mult, 4)\n",
        "            layers.append(block(input_channel, hidden_channel, output_channel, k, s, use_se))\n",
        "            input_channel = output_channel\n",
        "        self.features = nn.Sequential(*layers)\n",
        "\n",
        "        # building last several layers\n",
        "        output_channel = _make_divisible(exp_size * width_mult, 4)\n",
        "        self.squeeze = nn.Sequential(\n",
        "            nn.Conv2d(input_channel, output_channel, 1, 1, 0, bias=False),\n",
        "            nn.BatchNorm2d(output_channel),\n",
        "            nn.ReLU(inplace=True),\n",
        "            nn.AdaptiveAvgPool2d((1, 1)),\n",
        "        )\n",
        "        input_channel = output_channel\n",
        "        self.classifier = nn.Sequential(\n",
        "            nn.BatchNorm1d(output_channel),\n",
        "            nn.ReLU(inplace=True),\n",
        "            nn.Dropout(0.2),\n",
        "            nn.Linear(output_channel, num_classes),\n",
        "        )\n",
        "\n",
        "        self._initialize_weights()\n",
        "\n",
        "    def forward(self, x):\n",
        "        x = self.features(x)\n",
        "        x = self.squeeze(x)\n",
        "        x = x.view(x.size(0), -1)\n",
        "        x = self.classifier(x)\n",
        "        return x\n",
        "\n",
        "    def _initialize_weights(self):\n",
        "        for m in self.modules():\n",
        "            if isinstance(m, nn.Conv2d):\n",
        "                nn.init.kaiming_normal_(m.weight, mode='fan_out', nonlinearity='relu')\n",
        "            elif isinstance(m, nn.BatchNorm2d):\n",
        "                m.weight.data.fill_(1)\n",
        "                m.bias.data.zero_()"
      ]
    },
    {
      "cell_type": "markdown",
      "metadata": {
        "id": "u6VS_6uh-9xF"
      },
      "source": [
        "* other useful techniques and popular network architecture designs for network compression\n",
        "    * [group convolution](https://www.researchgate.net/figure/The-transformations-within-a-layer-in-DenseNets-left-and-CondenseNets-at-training-time_fig2_321325862) (Actually, depthwise convolution is a specific type of group convolution)\n",
        "    * [SqueezeNet](!https://arxiv.org/abs/1602.07360)\n",
        "    * [MobileNet](!https://arxiv.org/abs/1704.04861)\n",
        "    * [ShuffleNet](!https://arxiv.org/abs/1707.01083)\n",
        "    * [Xception](!https://arxiv.org/abs/1610.02357)\n",
        "    * [GhostNet](!https://arxiv.org/abs/1911.11907)\n"
      ]
    },
    {
      "cell_type": "markdown",
      "metadata": {
        "id": "EloKlhef-9xF"
      },
      "source": [
        "Now, let's define the **student network architecture**. Here, we have a very simple network formed by some convolution layers and pooling layers. You can replace the regular convolution layers with the depthwise and pointwise convolutions. In this way, you can further increase the depth or the width of your network architecture."
      ]
    },
    {
      "cell_type": "code",
      "execution_count": 10,
      "metadata": {
        "id": "8TlSNntc-9xF",
        "trusted": true
      },
      "outputs": [
        {
          "name": "stdout",
          "output_type": "stream",
          "text": [
            "----------------------------------------------------------------\n",
            "        Layer (type)               Output Shape         Param #\n",
            "================================================================\n",
            "            Conv2d-1         [-1, 16, 112, 112]             432\n",
            "       BatchNorm2d-2         [-1, 16, 112, 112]              32\n",
            "              ReLU-3         [-1, 16, 112, 112]               0\n",
            "            Conv2d-4         [-1, 32, 112, 112]             512\n",
            "       BatchNorm2d-5         [-1, 32, 112, 112]              64\n",
            "              ReLU-6         [-1, 32, 112, 112]               0\n",
            "            Conv2d-7         [-1, 32, 112, 112]             288\n",
            "       BatchNorm2d-8         [-1, 32, 112, 112]              64\n",
            "              ReLU-9         [-1, 32, 112, 112]               0\n",
            "      GhostModule-10         [-1, 64, 112, 112]               0\n",
            "AdaptiveAvgPool2d-11             [-1, 64, 1, 1]               0\n",
            "           Linear-12                   [-1, 16]           1,040\n",
            "             ReLU-13                   [-1, 16]               0\n",
            "           Linear-14                   [-1, 64]           1,088\n",
            "          SELayer-15         [-1, 64, 112, 112]               0\n",
            "           Conv2d-16         [-1, 64, 112, 112]           4,096\n",
            "      BatchNorm2d-17         [-1, 64, 112, 112]             128\n",
            "           Conv2d-18         [-1, 64, 112, 112]             576\n",
            "      BatchNorm2d-19         [-1, 64, 112, 112]             128\n",
            "      GhostModule-20        [-1, 128, 112, 112]               0\n",
            "           Conv2d-21         [-1, 16, 112, 112]             144\n",
            "      BatchNorm2d-22         [-1, 16, 112, 112]              32\n",
            "           Conv2d-23        [-1, 128, 112, 112]           2,048\n",
            "      BatchNorm2d-24        [-1, 128, 112, 112]             256\n",
            "  GhostBottleneck-25        [-1, 128, 112, 112]               0\n",
            "           Conv2d-26         [-1, 30, 112, 112]           3,840\n",
            "      BatchNorm2d-27         [-1, 30, 112, 112]              60\n",
            "             ReLU-28         [-1, 30, 112, 112]               0\n",
            "           Conv2d-29         [-1, 30, 112, 112]             270\n",
            "      BatchNorm2d-30         [-1, 30, 112, 112]              60\n",
            "             ReLU-31         [-1, 30, 112, 112]               0\n",
            "      GhostModule-32         [-1, 60, 112, 112]               0\n",
            "AdaptiveAvgPool2d-33             [-1, 60, 1, 1]               0\n",
            "           Linear-34                   [-1, 15]             915\n",
            "             ReLU-35                   [-1, 15]               0\n",
            "           Linear-36                   [-1, 60]             960\n",
            "          SELayer-37         [-1, 60, 112, 112]               0\n",
            "           Conv2d-38         [-1, 46, 112, 112]           2,760\n",
            "      BatchNorm2d-39         [-1, 46, 112, 112]              92\n",
            "           Conv2d-40         [-1, 46, 112, 112]             414\n",
            "      BatchNorm2d-41         [-1, 46, 112, 112]              92\n",
            "      GhostModule-42         [-1, 92, 112, 112]               0\n",
            "           Conv2d-43        [-1, 128, 112, 112]           3,200\n",
            "      BatchNorm2d-44        [-1, 128, 112, 112]             256\n",
            "           Conv2d-45         [-1, 92, 112, 112]          11,776\n",
            "      BatchNorm2d-46         [-1, 92, 112, 112]             184\n",
            "  GhostBottleneck-47         [-1, 92, 112, 112]               0\n",
            "           Conv2d-48         [-1, 46, 112, 112]           4,232\n",
            "      BatchNorm2d-49         [-1, 46, 112, 112]              92\n",
            "             ReLU-50         [-1, 46, 112, 112]               0\n",
            "           Conv2d-51         [-1, 46, 112, 112]             414\n",
            "      BatchNorm2d-52         [-1, 46, 112, 112]              92\n",
            "             ReLU-53         [-1, 46, 112, 112]               0\n",
            "      GhostModule-54         [-1, 92, 112, 112]               0\n",
            "AdaptiveAvgPool2d-55             [-1, 92, 1, 1]               0\n",
            "           Linear-56                   [-1, 23]           2,139\n",
            "             ReLU-57                   [-1, 23]               0\n",
            "           Linear-58                   [-1, 92]           2,208\n",
            "          SELayer-59         [-1, 92, 112, 112]               0\n",
            "           Conv2d-60         [-1, 90, 112, 112]           8,280\n",
            "      BatchNorm2d-61         [-1, 90, 112, 112]             180\n",
            "           Conv2d-62         [-1, 90, 112, 112]             810\n",
            "      BatchNorm2d-63         [-1, 90, 112, 112]             180\n",
            "      GhostModule-64        [-1, 180, 112, 112]               0\n",
            "           Conv2d-65         [-1, 92, 112, 112]             828\n",
            "      BatchNorm2d-66         [-1, 92, 112, 112]             184\n",
            "           Conv2d-67        [-1, 180, 112, 112]          16,560\n",
            "      BatchNorm2d-68        [-1, 180, 112, 112]             360\n",
            "  GhostBottleneck-69        [-1, 180, 112, 112]               0\n",
            "           Conv2d-70         [-1, 92, 112, 112]          16,560\n",
            "      BatchNorm2d-71         [-1, 92, 112, 112]             184\n",
            "             ReLU-72         [-1, 92, 112, 112]               0\n",
            "AdaptiveAvgPool2d-73             [-1, 92, 1, 1]               0\n",
            "      BatchNorm1d-74                   [-1, 92]             184\n",
            "             ReLU-75                   [-1, 92]               0\n",
            "          Dropout-76                   [-1, 92]               0\n",
            "           Linear-77                   [-1, 11]           1,023\n",
            "================================================================\n",
            "Total params: 90,317\n",
            "Trainable params: 90,317\n",
            "Non-trainable params: 0\n",
            "----------------------------------------------------------------\n",
            "Input size (MB): 0.57\n",
            "Forward/backward pass size (MB): 409.23\n",
            "Params size (MB): 0.34\n",
            "Estimated Total Size (MB): 410.15\n",
            "----------------------------------------------------------------\n"
          ]
        }
      ],
      "source": [
        "# Define your student network here. You have to copy-paste this code block to HW13 GradeScope before deadline.\n",
        "# We will use your student network definition you submit to evaluate your results(including the total parameter amount).\n",
        "def create_deepwise_point_wise_conv(nin, nout):\n",
        "     return nn.Sequential(nn.Conv2d(nin, nin, kernel_size=3, padding=1, groups=nin), \n",
        "                                   nn.BatchNorm2d(nin),\n",
        "                                  nn.LeakyReLU(),\n",
        "                                  nn.Conv2d(nin, nout, kernel_size=1),\n",
        "                                  nn.MaxPool2d(2)\n",
        "                                 )\n",
        "\n",
        "def create_cnn(nin, nout):\n",
        "     return nn.Sequential(nn.Conv2d(nin, nout, 3), \n",
        "                            nn.BatchNorm2d(nout),\n",
        "                            nn.LeakyReLU())\n",
        "    \n",
        "class StudentNet(nn.Module):\n",
        "    def __init__(self):\n",
        "      super().__init__()\n",
        "\n",
        "      # ---------- TODO ----------\n",
        "      # Modify your model architecture\n",
        "\n",
        "      self.cnn = nn.Sequential(\n",
        "        create_cnn(3, 32),        \n",
        "        create_cnn(32, 64),\n",
        "        create_deepwise_point_wise_conv(64, 128),\n",
        "        create_deepwise_point_wise_conv(128, 256),        \n",
        "        create_deepwise_point_wise_conv(256, 125),\n",
        "        nn.LeakyReLU(),\n",
        "        # Here we adopt Global Average Pooling for various input size.\n",
        "        nn.AdaptiveAvgPool2d((1, 1)),\n",
        "      )\n",
        "      self.fc = nn.Sequential(\n",
        "        nn.Linear(125, 11),\n",
        "      )\n",
        "      \n",
        "    def forward(self, x):\n",
        "      out = self.cnn(x)\n",
        "      out = out.view(out.size()[0], -1)\n",
        "      return self.fc(out)\n",
        "\n",
        "def get_student_model(): # This function should have no arguments so that we can get your student network by directly calling it.\n",
        "    # you can modify or do anything here, just remember to return an nn.Module as your student network.  \n",
        "#     model = torch.hub.load('pytorch/vision:v0.10.0', 'mobilenet_v2', pretrained=False,  num_classes=11)\n",
        "#     return model\n",
        "#     return = MobileNetV3(num_classes=11)\n",
        "#     return StudentNet() \n",
        "    return GhostNet(num_classes=11, cfgs = [\n",
        "        # k, t, c, SE, s \n",
        "        [3, 64,  128, 1, 1],        \n",
        "        [5, 60,  90, 1, 1],\n",
        "        [3, 90,  180, 1, 1],\n",
        "    ])\n",
        "\n",
        "# End of definition of your student model and the get_student_model API\n",
        "# Please copy-paste the whole code block, including the get_student_model function.\n",
        "student_model = get_student_model()\n",
        "summary(student_model, (3, 224, 224), device='cpu')"
      ]
    },
    {
      "cell_type": "markdown",
      "metadata": {
        "id": "aCcdEiJ9-9xG"
      },
      "source": [
        "After specifying the student network architecture, please use `torchsummary` package to get information about the network and verify the total number of parameters. Note that your student network should not exceed the limit (`Total params` in `torchsummary` < 10,000). "
      ]
    },
    {
      "cell_type": "code",
      "execution_count": 11,
      "metadata": {
        "id": "-IuDlWd4-9xG",
        "trusted": true
      },
      "outputs": [],
      "source": [
        "# This is how we will evaluate your student model.\n",
        "# Do not modify this code block.\n",
        "student_model = get_student_model()\n",
        "# summary(student_model, (3, 224, 224), device='cpu')"
      ]
    },
    {
      "cell_type": "code",
      "execution_count": 12,
      "metadata": {
        "id": "r2bPt9Xo-9xG",
        "trusted": true
      },
      "outputs": [
        {
          "name": "stderr",
          "output_type": "stream",
          "text": [
            "Downloading: \"https://github.com/pytorch/vision/archive/v0.10.0.zip\" to /home/lpz106u/.cache/torch/hub/v0.10.0.zip\n"
          ]
        },
        {
          "data": {
            "text/plain": [
              "<All keys matched successfully>"
            ]
          },
          "execution_count": 12,
          "metadata": {},
          "output_type": "execute_result"
        }
      ],
      "source": [
        "# Load provided teacher model (model architecture: resnet18, num_classes=11, test-acc ~= 89.9%)\n",
        "teacher_model = torch.hub.load('pytorch/vision:v0.10.0', 'resnet18', pretrained=False, num_classes=11)\n",
        "# load state dict\n",
        "teacher_ckpt_path = os.path.join(cfg['dataset_root'], \"resnet18_teacher.ckpt\")\n",
        "teacher_model.load_state_dict(torch.load(teacher_ckpt_path, map_location='cuda'))\n",
        "# Now you already know the teacher model's architecture. You can take advantage of it if you want to pass the strong or boss baseline. \n",
        "# Source code of resnet in pytorch: (https://github.com/pytorch/vision/blob/main/torchvision/models/resnet.py)\n",
        "# You can also see the summary of teacher model. There are 11,182,155 parameters totally in the teacher model\n",
        "# summary(teacher_model, (3, 224, 224), device='cpu')"
      ]
    },
    {
      "cell_type": "markdown",
      "metadata": {
        "id": "Or4vWT37-9xG"
      },
      "source": [
        "### Knowledge_Distillation\n",
        "\n",
        "<img src=\"https://i.imgur.com/H2aF7Rv.png=100x\" width=\"400px\">\n",
        "\n",
        "Since we have a learned big model, let it teach the other small model. In implementation, let the training target be the prediction of big model instead of the ground truth.\n",
        "\n",
        "**Why it works?**\n",
        "* If the data is not clean, then the prediction of big model could ignore the noise of the data with wrong labeled.\n",
        "* There might have some relations between classes, so soft labels from teacher model might be useful. For example, Number 8 is more similar to 6, 9, 0 than 1, 7.\n",
        "\n",
        "\n",
        "**How to implement?**\n",
        "* $Loss = \\alpha T^2 \\times KL(p || q) + (1-\\alpha)(\\text{Original Cross Entropy Loss}), \\text{where } p=softmax(\\frac{\\text{student's logits}}{T}), \\text{and } q=softmax(\\frac{\\text{teacher's logits}}{T})$\n",
        "* very useful link: [pytorch docs of KLDivLoss with examples](!https://pytorch.org/docs/stable/generated/torch.nn.KLDivLoss.html)\n",
        "* original paper: [Distilling the Knowledge in a Neural Network](!https://arxiv.org/abs/1503.02531)"
      ]
    },
    {
      "cell_type": "code",
      "execution_count": 13,
      "metadata": {
        "id": "Id1-GOws-9xG",
        "trusted": true
      },
      "outputs": [],
      "source": [
        "# Implement the loss function with KL divergence loss for knowledge distillation.\n",
        "# You also have to copy-paste this whole block to HW13 GradeScope. \n",
        "import torch.nn.functional as F\n",
        "\n",
        "\n",
        "def loss_fn_kd(student_logits, labels, teacher_logits, alpha=0.5, temperature=5.):\n",
        "    # ------------TODO-------------\n",
        "    # Refer to the above formula and finish the loss function for knowkedge distillation using KL divergence loss and CE loss.\n",
        "    # If you have no idea, please take a look at the provided useful link above.\n",
        "    p = torch.log_softmax(student_logits / temperature, dim=-1)    \n",
        "    q = torch.softmax(teacher_logits / temperature, dim=-1)\n",
        "    return alpha * (temperature ** 2) * F.kl_div(p, q, reduction='batchmean') + (1 - alpha) * F.cross_entropy(student_logits, labels)\n",
        "\n",
        "\n",
        "'''\n",
        "ref: https://github.com/lenscloth/RKD/blob/master/metric/loss.py\n",
        "'''\n",
        "\n",
        "class RKD(nn.Module):\n",
        "    '''\n",
        "\tRelational Knowledge Distillation\n",
        "\thttps://arxiv.org/pdf/1904.05068.pdf\n",
        "\t'''\n",
        "\n",
        "    def __init__(self, w_dist, w_angle, alpha=0.5):\n",
        "        super(RKD, self).__init__()\n",
        "\n",
        "        self.w_dist = w_dist\n",
        "        self.w_angle = w_angle\n",
        "        \n",
        "        self.alpha = alpha\n",
        "\n",
        "    def forward(self, feat_s, labels, feat_t):\n",
        "        loss = self.w_dist * self.rkd_dist(feat_s, feat_t) + \\\n",
        "            self.w_angle * self.rkd_angle(feat_s, feat_t)\n",
        "        loss = self.alpha * loss +  (1 - self.alpha) * F.cross_entropy(feat_s, labels,label_smoothing=.2)\n",
        "\n",
        "        return loss\n",
        "    \n",
        "    def rkd_dist(self, feat_s, feat_t):\n",
        "      feat_t_dist = self.pdist(feat_t, squared=False)\n",
        "      mean_feat_t_dist = feat_t_dist[feat_t_dist>0].mean()\n",
        "      feat_t_dist = feat_t_dist / mean_feat_t_dist\n",
        "\n",
        "      feat_s_dist = self.pdist(feat_s, squared=False)\n",
        "      mean_feat_s_dist = feat_s_dist[feat_s_dist>0].mean()\n",
        "      feat_s_dist = feat_s_dist / mean_feat_s_dist\n",
        "\n",
        "      loss = F.smooth_l1_loss(feat_s_dist, feat_t_dist)\n",
        "\n",
        "      return loss\n",
        "\n",
        "\n",
        "    def rkd_angle(self, feat_s, feat_t):\n",
        "        # N x C --> N x N x C\n",
        "        feat_t_vd = (feat_t.unsqueeze(0) - feat_t.unsqueeze(1))\n",
        "        norm_feat_t_vd = F.normalize(feat_t_vd, p=2, dim=2)\n",
        "        feat_t_angle = torch.bmm(norm_feat_t_vd,\n",
        "                                 norm_feat_t_vd.transpose(1, 2)).view(-1)\n",
        "\n",
        "        feat_s_vd = (feat_s.unsqueeze(0) - feat_s.unsqueeze(1))\n",
        "        norm_feat_s_vd = F.normalize(feat_s_vd, p=2, dim=2)\n",
        "        feat_s_angle = torch.bmm(norm_feat_s_vd,\n",
        "                                 norm_feat_s_vd.transpose(1, 2)).view(-1)\n",
        "\n",
        "        loss = F.smooth_l1_loss(feat_s_angle, feat_t_angle)\n",
        "\n",
        "        return loss\n",
        "\n",
        "    def pdist(self, feat, squared=False, eps=1e-12):\n",
        "        feat_square = feat.pow(2).sum(dim=1)\n",
        "        feat_prod = torch.mm(feat, feat.t())\n",
        "        feat_dist = (feat_square.unsqueeze(0) + feat_square.unsqueeze(1) -\n",
        "                     2 * feat_prod).clamp(min=eps)\n",
        "\n",
        "        if not squared:\n",
        "            feat_dist = feat_dist.sqrt()\n",
        "\n",
        "        feat_dist = feat_dist.clone()\n",
        "        feat_dist[range(len(feat)), range(len(feat))] = 0\n",
        "\n",
        "        return feat_dist\n"
      ]
    },
    {
      "cell_type": "code",
      "execution_count": 14,
      "metadata": {
        "id": "73yTOzZ9-9xH",
        "trusted": true
      },
      "outputs": [
        {
          "name": "stdout",
          "output_type": "stream",
          "text": [
            "device: cuda\n"
          ]
        }
      ],
      "source": [
        "# choose the loss function by the config\n",
        "if cfg['loss_fn_type'] == 'CE':\n",
        "    # For the classification task, we use cross-entropy as the default loss function.\n",
        "    loss_fn = nn.CrossEntropyLoss() # loss function for simple baseline.\n",
        "\n",
        "elif cfg['loss_fn_type'] == 'KD': # KD stands for knowledge distillation\n",
        "    loss_fn = loss_fn_kd # implement loss_fn_kd for the report question and the medium baseline.\n",
        "elif cfg['loss_fn_type'] =='RKD':\n",
        "    loss_fn = RKD(25, 50)\n",
        "\n",
        "# You can also other types of knowledge distillation techniques, but use function name other than `loss_fn_kd`\n",
        "# For example:\n",
        "# def loss_fn_custom_kd():\n",
        "#     pass\n",
        "# if cfg['loss_fn_type'] == 'custom_kd':\n",
        "#     loss_fn = loss_fn_custom_kd\n",
        "\n",
        "# \"cuda\" only when GPUs are available.\n",
        "device = \"cuda\" if torch.cuda.is_available() else \"cpu\"\n",
        "log(f\"device: {device}\")\n",
        "teacher_model.to(device)\n",
        "teacher_model.eval()\n",
        "# The number of training epochs and patience.\n",
        "n_epochs = cfg['n_epochs']\n",
        "patience = cfg['patience'] # If no improvement in 'patience' epochs, early stop"
      ]
    },
    {
      "cell_type": "markdown",
      "metadata": {
        "id": "0ERUMgVH-9xH"
      },
      "source": [
        "### Training\n",
        "implement training loop for simple baseline, feel free to modify it."
      ]
    },
    {
      "cell_type": "code",
      "execution_count": 15,
      "metadata": {
        "id": "SZo2uL1U-9xH",
        "trusted": true
      },
      "outputs": [
        {
          "name": "stdout",
          "output_type": "stream",
          "text": [
            "Adjusting learning rate of group 0 to 1.0000e-02.\n"
          ]
        },
        {
          "data": {
            "application/vnd.jupyter.widget-view+json": {
              "model_id": "842773368ec341f28c24023e134feeec",
              "version_major": 2,
              "version_minor": 0
            },
            "text/plain": [
              "  0%|          | 0/155 [00:00<?, ?it/s]"
            ]
          },
          "metadata": {},
          "output_type": "display_data"
        },
        {
          "name": "stdout",
          "output_type": "stream",
          "text": [
            "Adjusting learning rate of group 0 to 1.0000e-02.\n",
            "[ Train | 001/500 ] loss = 3.99764, acc = 0.10845\n"
          ]
        },
        {
          "data": {
            "application/vnd.jupyter.widget-view+json": {
              "model_id": "6c0d90a6fbe344a884a3cb7519bb1704",
              "version_major": 2,
              "version_minor": 0
            },
            "text/plain": [
              "  0%|          | 0/54 [00:00<?, ?it/s]"
            ]
          },
          "metadata": {},
          "output_type": "display_data"
        },
        {
          "name": "stdout",
          "output_type": "stream",
          "text": [
            "[ Valid | 001/500 ] loss = 4.28957, acc = 0.13265 -> best\n",
            "Best model found at epoch 0, saving model\n"
          ]
        },
        {
          "data": {
            "application/vnd.jupyter.widget-view+json": {
              "model_id": "2d2ab21c5a3d47ce965f38850aaf831f",
              "version_major": 2,
              "version_minor": 0
            },
            "text/plain": [
              "  0%|          | 0/155 [00:00<?, ?it/s]"
            ]
          },
          "metadata": {},
          "output_type": "display_data"
        },
        {
          "name": "stdout",
          "output_type": "stream",
          "text": [
            "Adjusting learning rate of group 0 to 1.0000e-02.\n",
            "[ Train | 002/500 ] loss = 3.58646, acc = 0.15275\n"
          ]
        },
        {
          "data": {
            "application/vnd.jupyter.widget-view+json": {
              "model_id": "4e5e4275197245bab148edd5800f565f",
              "version_major": 2,
              "version_minor": 0
            },
            "text/plain": [
              "  0%|          | 0/54 [00:00<?, ?it/s]"
            ]
          },
          "metadata": {},
          "output_type": "display_data"
        },
        {
          "name": "stdout",
          "output_type": "stream",
          "text": [
            "[ Valid | 002/500 ] loss = 4.15326, acc = 0.15685 -> best\n",
            "Best model found at epoch 1, saving model\n"
          ]
        },
        {
          "data": {
            "application/vnd.jupyter.widget-view+json": {
              "model_id": "8cd86d719a964dd5843b1bfa956c8ffc",
              "version_major": 2,
              "version_minor": 0
            },
            "text/plain": [
              "  0%|          | 0/155 [00:00<?, ?it/s]"
            ]
          },
          "metadata": {},
          "output_type": "display_data"
        },
        {
          "name": "stdout",
          "output_type": "stream",
          "text": [
            "Adjusting learning rate of group 0 to 1.0000e-02.\n",
            "[ Train | 003/500 ] loss = 3.45569, acc = 0.17099\n"
          ]
        },
        {
          "data": {
            "application/vnd.jupyter.widget-view+json": {
              "model_id": "55309d21824a4fbfba9b8a77e1c610a2",
              "version_major": 2,
              "version_minor": 0
            },
            "text/plain": [
              "  0%|          | 0/54 [00:00<?, ?it/s]"
            ]
          },
          "metadata": {},
          "output_type": "display_data"
        },
        {
          "name": "stdout",
          "output_type": "stream",
          "text": [
            "[ Valid | 003/500 ] loss = 4.22513, acc = 0.17522 -> best\n",
            "Best model found at epoch 2, saving model\n"
          ]
        },
        {
          "data": {
            "application/vnd.jupyter.widget-view+json": {
              "model_id": "ff21300fd96049cfb3b364a19ef3ed29",
              "version_major": 2,
              "version_minor": 0
            },
            "text/plain": [
              "  0%|          | 0/155 [00:00<?, ?it/s]"
            ]
          },
          "metadata": {},
          "output_type": "display_data"
        },
        {
          "name": "stdout",
          "output_type": "stream",
          "text": [
            "Adjusting learning rate of group 0 to 1.0000e-02.\n",
            "[ Train | 004/500 ] loss = 3.40685, acc = 0.17342\n"
          ]
        },
        {
          "data": {
            "application/vnd.jupyter.widget-view+json": {
              "model_id": "591822ba0c07411a956172383aed5d52",
              "version_major": 2,
              "version_minor": 0
            },
            "text/plain": [
              "  0%|          | 0/54 [00:00<?, ?it/s]"
            ]
          },
          "metadata": {},
          "output_type": "display_data"
        },
        {
          "name": "stdout",
          "output_type": "stream",
          "text": [
            "[ Valid | 004/500 ] loss = 4.55673, acc = 0.18513 -> best\n",
            "Best model found at epoch 3, saving model\n"
          ]
        },
        {
          "data": {
            "application/vnd.jupyter.widget-view+json": {
              "model_id": "581b454c87be46f288e67aa76f7a29e2",
              "version_major": 2,
              "version_minor": 0
            },
            "text/plain": [
              "  0%|          | 0/155 [00:00<?, ?it/s]"
            ]
          },
          "metadata": {},
          "output_type": "display_data"
        },
        {
          "name": "stdout",
          "output_type": "stream",
          "text": [
            "Adjusting learning rate of group 0 to 1.0000e-02.\n",
            "[ Train | 005/500 ] loss = 3.35347, acc = 0.18315\n"
          ]
        },
        {
          "data": {
            "application/vnd.jupyter.widget-view+json": {
              "model_id": "8c56f61de25c4f92811a703c2ef45e4c",
              "version_major": 2,
              "version_minor": 0
            },
            "text/plain": [
              "  0%|          | 0/54 [00:00<?, ?it/s]"
            ]
          },
          "metadata": {},
          "output_type": "display_data"
        },
        {
          "name": "stdout",
          "output_type": "stream",
          "text": [
            "[ Valid | 005/500 ] loss = 3.85186, acc = 0.19708 -> best\n",
            "Best model found at epoch 4, saving model\n"
          ]
        },
        {
          "data": {
            "application/vnd.jupyter.widget-view+json": {
              "model_id": "c43720bb5439436491ba8a4791c0a58d",
              "version_major": 2,
              "version_minor": 0
            },
            "text/plain": [
              "  0%|          | 0/155 [00:00<?, ?it/s]"
            ]
          },
          "metadata": {},
          "output_type": "display_data"
        },
        {
          "name": "stdout",
          "output_type": "stream",
          "text": [
            "Adjusting learning rate of group 0 to 1.0000e-02.\n",
            "[ Train | 006/500 ] loss = 3.35147, acc = 0.18690\n"
          ]
        },
        {
          "data": {
            "application/vnd.jupyter.widget-view+json": {
              "model_id": "1441f75faab94827aec67359e5b17a52",
              "version_major": 2,
              "version_minor": 0
            },
            "text/plain": [
              "  0%|          | 0/54 [00:00<?, ?it/s]"
            ]
          },
          "metadata": {},
          "output_type": "display_data"
        },
        {
          "name": "stdout",
          "output_type": "stream",
          "text": [
            "[ Valid | 006/500 ] loss = 3.83754, acc = 0.23324 -> best\n",
            "Best model found at epoch 5, saving model\n"
          ]
        },
        {
          "data": {
            "application/vnd.jupyter.widget-view+json": {
              "model_id": "2985cc5535274740984846da360ad380",
              "version_major": 2,
              "version_minor": 0
            },
            "text/plain": [
              "  0%|          | 0/155 [00:00<?, ?it/s]"
            ]
          },
          "metadata": {},
          "output_type": "display_data"
        },
        {
          "name": "stdout",
          "output_type": "stream",
          "text": [
            "Adjusting learning rate of group 0 to 1.0000e-02.\n",
            "[ Train | 007/500 ] loss = 3.30357, acc = 0.20262\n"
          ]
        },
        {
          "data": {
            "application/vnd.jupyter.widget-view+json": {
              "model_id": "1a24f330888148529be0c37371c89ca0",
              "version_major": 2,
              "version_minor": 0
            },
            "text/plain": [
              "  0%|          | 0/54 [00:00<?, ?it/s]"
            ]
          },
          "metadata": {},
          "output_type": "display_data"
        },
        {
          "name": "stdout",
          "output_type": "stream",
          "text": [
            "[ Valid | 007/500 ] loss = 3.82595, acc = 0.24956 -> best\n",
            "Best model found at epoch 6, saving model\n"
          ]
        },
        {
          "data": {
            "application/vnd.jupyter.widget-view+json": {
              "model_id": "ba1dc8f0a4f14d5aa3ff86c81a1aa84b",
              "version_major": 2,
              "version_minor": 0
            },
            "text/plain": [
              "  0%|          | 0/155 [00:00<?, ?it/s]"
            ]
          },
          "metadata": {},
          "output_type": "display_data"
        },
        {
          "name": "stdout",
          "output_type": "stream",
          "text": [
            "Adjusting learning rate of group 0 to 1.0000e-02.\n",
            "[ Train | 008/500 ] loss = 3.25367, acc = 0.21103\n"
          ]
        },
        {
          "data": {
            "application/vnd.jupyter.widget-view+json": {
              "model_id": "825aee9e67ab49dbbd77e89aa79ae2d6",
              "version_major": 2,
              "version_minor": 0
            },
            "text/plain": [
              "  0%|          | 0/54 [00:00<?, ?it/s]"
            ]
          },
          "metadata": {},
          "output_type": "display_data"
        },
        {
          "name": "stdout",
          "output_type": "stream",
          "text": [
            "[ Valid | 008/500 ] loss = 3.91343, acc = 0.24431\n"
          ]
        },
        {
          "data": {
            "application/vnd.jupyter.widget-view+json": {
              "model_id": "341db4082a504f0d8025d1228c753436",
              "version_major": 2,
              "version_minor": 0
            },
            "text/plain": [
              "  0%|          | 0/155 [00:00<?, ?it/s]"
            ]
          },
          "metadata": {},
          "output_type": "display_data"
        },
        {
          "name": "stdout",
          "output_type": "stream",
          "text": [
            "Adjusting learning rate of group 0 to 1.0000e-02.\n",
            "[ Train | 009/500 ] loss = 3.24769, acc = 0.22461\n"
          ]
        },
        {
          "data": {
            "application/vnd.jupyter.widget-view+json": {
              "model_id": "c60cddcf16c94af5bf08d705df39d2e8",
              "version_major": 2,
              "version_minor": 0
            },
            "text/plain": [
              "  0%|          | 0/54 [00:00<?, ?it/s]"
            ]
          },
          "metadata": {},
          "output_type": "display_data"
        },
        {
          "name": "stdout",
          "output_type": "stream",
          "text": [
            "[ Valid | 009/500 ] loss = 4.01747, acc = 0.26239 -> best\n",
            "Best model found at epoch 8, saving model\n"
          ]
        },
        {
          "data": {
            "application/vnd.jupyter.widget-view+json": {
              "model_id": "89b4001cfc50430da51ce6f7d89da01d",
              "version_major": 2,
              "version_minor": 0
            },
            "text/plain": [
              "  0%|          | 0/155 [00:00<?, ?it/s]"
            ]
          },
          "metadata": {},
          "output_type": "display_data"
        },
        {
          "name": "stdout",
          "output_type": "stream",
          "text": [
            "Adjusting learning rate of group 0 to 1.0000e-02.\n",
            "[ Train | 010/500 ] loss = 3.20407, acc = 0.23323\n"
          ]
        },
        {
          "data": {
            "application/vnd.jupyter.widget-view+json": {
              "model_id": "d1d7335f81884ff8b66e063bef1f89d0",
              "version_major": 2,
              "version_minor": 0
            },
            "text/plain": [
              "  0%|          | 0/54 [00:00<?, ?it/s]"
            ]
          },
          "metadata": {},
          "output_type": "display_data"
        },
        {
          "name": "stdout",
          "output_type": "stream",
          "text": [
            "[ Valid | 010/500 ] loss = 3.73989, acc = 0.27784 -> best\n",
            "Best model found at epoch 9, saving model\n"
          ]
        },
        {
          "data": {
            "application/vnd.jupyter.widget-view+json": {
              "model_id": "beed7ce5ea75462d83b773d63ab9f153",
              "version_major": 2,
              "version_minor": 0
            },
            "text/plain": [
              "  0%|          | 0/155 [00:00<?, ?it/s]"
            ]
          },
          "metadata": {},
          "output_type": "display_data"
        },
        {
          "name": "stdout",
          "output_type": "stream",
          "text": [
            "Adjusting learning rate of group 0 to 1.0000e-02.\n",
            "[ Train | 011/500 ] loss = 3.19190, acc = 0.24265\n"
          ]
        },
        {
          "data": {
            "application/vnd.jupyter.widget-view+json": {
              "model_id": "8e822e78f5754607bc68f3e2b876b3ab",
              "version_major": 2,
              "version_minor": 0
            },
            "text/plain": [
              "  0%|          | 0/54 [00:00<?, ?it/s]"
            ]
          },
          "metadata": {},
          "output_type": "display_data"
        },
        {
          "name": "stdout",
          "output_type": "stream",
          "text": [
            "[ Valid | 011/500 ] loss = 3.69645, acc = 0.27988 -> best\n",
            "Best model found at epoch 10, saving model\n"
          ]
        },
        {
          "data": {
            "application/vnd.jupyter.widget-view+json": {
              "model_id": "beebbe00c93b4e1bbae5915a9ba3a5b0",
              "version_major": 2,
              "version_minor": 0
            },
            "text/plain": [
              "  0%|          | 0/155 [00:00<?, ?it/s]"
            ]
          },
          "metadata": {},
          "output_type": "display_data"
        },
        {
          "name": "stdout",
          "output_type": "stream",
          "text": [
            "Adjusting learning rate of group 0 to 1.0000e-02.\n",
            "[ Train | 012/500 ] loss = 3.15548, acc = 0.24093\n"
          ]
        },
        {
          "data": {
            "application/vnd.jupyter.widget-view+json": {
              "model_id": "7591043937b4415fbf62d1a70a690fe4",
              "version_major": 2,
              "version_minor": 0
            },
            "text/plain": [
              "  0%|          | 0/54 [00:00<?, ?it/s]"
            ]
          },
          "metadata": {},
          "output_type": "display_data"
        },
        {
          "name": "stdout",
          "output_type": "stream",
          "text": [
            "[ Valid | 012/500 ] loss = 3.62266, acc = 0.28688 -> best\n",
            "Best model found at epoch 11, saving model\n"
          ]
        },
        {
          "data": {
            "application/vnd.jupyter.widget-view+json": {
              "model_id": "c1f04b6cd7f844f98b2d5593676e5497",
              "version_major": 2,
              "version_minor": 0
            },
            "text/plain": [
              "  0%|          | 0/155 [00:00<?, ?it/s]"
            ]
          },
          "metadata": {},
          "output_type": "display_data"
        },
        {
          "name": "stdout",
          "output_type": "stream",
          "text": [
            "Adjusting learning rate of group 0 to 1.0000e-02.\n",
            "[ Train | 013/500 ] loss = 3.14911, acc = 0.25025\n"
          ]
        },
        {
          "data": {
            "application/vnd.jupyter.widget-view+json": {
              "model_id": "51bbdd4f515445a0abb49641decd1c70",
              "version_major": 2,
              "version_minor": 0
            },
            "text/plain": [
              "  0%|          | 0/54 [00:00<?, ?it/s]"
            ]
          },
          "metadata": {},
          "output_type": "display_data"
        },
        {
          "name": "stdout",
          "output_type": "stream",
          "text": [
            "[ Valid | 013/500 ] loss = 3.86582, acc = 0.28892 -> best\n",
            "Best model found at epoch 12, saving model\n"
          ]
        },
        {
          "data": {
            "application/vnd.jupyter.widget-view+json": {
              "model_id": "c912986965864344bc3d3d1c3fa92a30",
              "version_major": 2,
              "version_minor": 0
            },
            "text/plain": [
              "  0%|          | 0/155 [00:00<?, ?it/s]"
            ]
          },
          "metadata": {},
          "output_type": "display_data"
        },
        {
          "name": "stdout",
          "output_type": "stream",
          "text": [
            "Adjusting learning rate of group 0 to 1.0000e-02.\n",
            "[ Train | 014/500 ] loss = 3.13615, acc = 0.26475\n"
          ]
        },
        {
          "data": {
            "application/vnd.jupyter.widget-view+json": {
              "model_id": "b09a6d35690541c89e170305cae192e6",
              "version_major": 2,
              "version_minor": 0
            },
            "text/plain": [
              "  0%|          | 0/54 [00:00<?, ?it/s]"
            ]
          },
          "metadata": {},
          "output_type": "display_data"
        },
        {
          "name": "stdout",
          "output_type": "stream",
          "text": [
            "[ Valid | 014/500 ] loss = 3.59356, acc = 0.30641 -> best\n",
            "Best model found at epoch 13, saving model\n"
          ]
        },
        {
          "data": {
            "application/vnd.jupyter.widget-view+json": {
              "model_id": "0115bcc389d44cd9b035c3690fdfd53a",
              "version_major": 2,
              "version_minor": 0
            },
            "text/plain": [
              "  0%|          | 0/155 [00:00<?, ?it/s]"
            ]
          },
          "metadata": {},
          "output_type": "display_data"
        },
        {
          "name": "stdout",
          "output_type": "stream",
          "text": [
            "Adjusting learning rate of group 0 to 1.0000e-02.\n",
            "[ Train | 015/500 ] loss = 3.11716, acc = 0.26607\n"
          ]
        },
        {
          "data": {
            "application/vnd.jupyter.widget-view+json": {
              "model_id": "c7b1028c02c74004a1c66730116a2c27",
              "version_major": 2,
              "version_minor": 0
            },
            "text/plain": [
              "  0%|          | 0/54 [00:00<?, ?it/s]"
            ]
          },
          "metadata": {},
          "output_type": "display_data"
        },
        {
          "name": "stdout",
          "output_type": "stream",
          "text": [
            "[ Valid | 015/500 ] loss = 3.65370, acc = 0.31195 -> best\n",
            "Best model found at epoch 14, saving model\n"
          ]
        },
        {
          "data": {
            "application/vnd.jupyter.widget-view+json": {
              "model_id": "ed0c87990ee34df99ec2488fd42875f1",
              "version_major": 2,
              "version_minor": 0
            },
            "text/plain": [
              "  0%|          | 0/155 [00:00<?, ?it/s]"
            ]
          },
          "metadata": {},
          "output_type": "display_data"
        },
        {
          "name": "stdout",
          "output_type": "stream",
          "text": [
            "Adjusting learning rate of group 0 to 1.0000e-02.\n",
            "[ Train | 016/500 ] loss = 3.10764, acc = 0.27306\n"
          ]
        },
        {
          "data": {
            "application/vnd.jupyter.widget-view+json": {
              "model_id": "cf00971f470c471984fd6cb2bfe74af6",
              "version_major": 2,
              "version_minor": 0
            },
            "text/plain": [
              "  0%|          | 0/54 [00:00<?, ?it/s]"
            ]
          },
          "metadata": {},
          "output_type": "display_data"
        },
        {
          "name": "stdout",
          "output_type": "stream",
          "text": [
            "[ Valid | 016/500 ] loss = 3.62491, acc = 0.32507 -> best\n",
            "Best model found at epoch 15, saving model\n"
          ]
        },
        {
          "data": {
            "application/vnd.jupyter.widget-view+json": {
              "model_id": "55f86483527d4edc9e949616b58e9306",
              "version_major": 2,
              "version_minor": 0
            },
            "text/plain": [
              "  0%|          | 0/155 [00:00<?, ?it/s]"
            ]
          },
          "metadata": {},
          "output_type": "display_data"
        },
        {
          "name": "stdout",
          "output_type": "stream",
          "text": [
            "Adjusting learning rate of group 0 to 1.0000e-02.\n",
            "[ Train | 017/500 ] loss = 3.08918, acc = 0.27549\n"
          ]
        },
        {
          "data": {
            "application/vnd.jupyter.widget-view+json": {
              "model_id": "480748d903ee4925ab3ad12585da0999",
              "version_major": 2,
              "version_minor": 0
            },
            "text/plain": [
              "  0%|          | 0/54 [00:00<?, ?it/s]"
            ]
          },
          "metadata": {},
          "output_type": "display_data"
        },
        {
          "name": "stdout",
          "output_type": "stream",
          "text": [
            "[ Valid | 017/500 ] loss = 3.59283, acc = 0.32770 -> best\n",
            "Best model found at epoch 16, saving model\n"
          ]
        },
        {
          "data": {
            "application/vnd.jupyter.widget-view+json": {
              "model_id": "ac25d843d70c4fb0985bda3904a420d1",
              "version_major": 2,
              "version_minor": 0
            },
            "text/plain": [
              "  0%|          | 0/155 [00:00<?, ?it/s]"
            ]
          },
          "metadata": {},
          "output_type": "display_data"
        },
        {
          "name": "stdout",
          "output_type": "stream",
          "text": [
            "Adjusting learning rate of group 0 to 1.0000e-02.\n",
            "[ Train | 018/500 ] loss = 3.07352, acc = 0.28735\n"
          ]
        },
        {
          "data": {
            "application/vnd.jupyter.widget-view+json": {
              "model_id": "0711f99d33d14b5fac41e3a45d5baf6f",
              "version_major": 2,
              "version_minor": 0
            },
            "text/plain": [
              "  0%|          | 0/54 [00:00<?, ?it/s]"
            ]
          },
          "metadata": {},
          "output_type": "display_data"
        },
        {
          "name": "stdout",
          "output_type": "stream",
          "text": [
            "[ Valid | 018/500 ] loss = 3.58022, acc = 0.31312\n"
          ]
        },
        {
          "data": {
            "application/vnd.jupyter.widget-view+json": {
              "model_id": "aa37c97bd08644b88d2dcc94a50a39d1",
              "version_major": 2,
              "version_minor": 0
            },
            "text/plain": [
              "  0%|          | 0/155 [00:00<?, ?it/s]"
            ]
          },
          "metadata": {},
          "output_type": "display_data"
        },
        {
          "name": "stdout",
          "output_type": "stream",
          "text": [
            "Adjusting learning rate of group 0 to 1.0000e-02.\n",
            "[ Train | 019/500 ] loss = 3.08524, acc = 0.28542\n"
          ]
        },
        {
          "data": {
            "application/vnd.jupyter.widget-view+json": {
              "model_id": "66c1acebe6d4481aa2c84a6a26ca2d4b",
              "version_major": 2,
              "version_minor": 0
            },
            "text/plain": [
              "  0%|          | 0/54 [00:00<?, ?it/s]"
            ]
          },
          "metadata": {},
          "output_type": "display_data"
        },
        {
          "name": "stdout",
          "output_type": "stream",
          "text": [
            "[ Valid | 019/500 ] loss = 3.53528, acc = 0.35044 -> best\n",
            "Best model found at epoch 18, saving model\n"
          ]
        },
        {
          "data": {
            "application/vnd.jupyter.widget-view+json": {
              "model_id": "ffeb031cb0e74e0398a0596304a71556",
              "version_major": 2,
              "version_minor": 0
            },
            "text/plain": [
              "  0%|          | 0/155 [00:00<?, ?it/s]"
            ]
          },
          "metadata": {},
          "output_type": "display_data"
        },
        {
          "name": "stdout",
          "output_type": "stream",
          "text": [
            "Adjusting learning rate of group 0 to 1.0000e-02.\n",
            "[ Train | 020/500 ] loss = 3.05811, acc = 0.28725\n"
          ]
        },
        {
          "data": {
            "application/vnd.jupyter.widget-view+json": {
              "model_id": "f859a5ead08e4a909e8bfe4c6d461481",
              "version_major": 2,
              "version_minor": 0
            },
            "text/plain": [
              "  0%|          | 0/54 [00:00<?, ?it/s]"
            ]
          },
          "metadata": {},
          "output_type": "display_data"
        },
        {
          "name": "stdout",
          "output_type": "stream",
          "text": [
            "[ Valid | 020/500 ] loss = 3.58116, acc = 0.32799\n"
          ]
        },
        {
          "data": {
            "application/vnd.jupyter.widget-view+json": {
              "model_id": "b373149a8ad84a49b8c8268e7cced648",
              "version_major": 2,
              "version_minor": 0
            },
            "text/plain": [
              "  0%|          | 0/155 [00:00<?, ?it/s]"
            ]
          },
          "metadata": {},
          "output_type": "display_data"
        },
        {
          "name": "stdout",
          "output_type": "stream",
          "text": [
            "Adjusting learning rate of group 0 to 1.0000e-02.\n",
            "[ Train | 021/500 ] loss = 3.04642, acc = 0.29374\n"
          ]
        },
        {
          "data": {
            "application/vnd.jupyter.widget-view+json": {
              "model_id": "9ca6bc16559d409e990c60f5ede57ec8",
              "version_major": 2,
              "version_minor": 0
            },
            "text/plain": [
              "  0%|          | 0/54 [00:00<?, ?it/s]"
            ]
          },
          "metadata": {},
          "output_type": "display_data"
        },
        {
          "name": "stdout",
          "output_type": "stream",
          "text": [
            "[ Valid | 021/500 ] loss = 3.71415, acc = 0.31399\n"
          ]
        },
        {
          "data": {
            "application/vnd.jupyter.widget-view+json": {
              "model_id": "26239fdec79240e182cddf98439766da",
              "version_major": 2,
              "version_minor": 0
            },
            "text/plain": [
              "  0%|          | 0/155 [00:00<?, ?it/s]"
            ]
          },
          "metadata": {},
          "output_type": "display_data"
        },
        {
          "name": "stdout",
          "output_type": "stream",
          "text": [
            "Adjusting learning rate of group 0 to 1.0000e-02.\n",
            "[ Train | 022/500 ] loss = 3.03985, acc = 0.29120\n"
          ]
        },
        {
          "data": {
            "application/vnd.jupyter.widget-view+json": {
              "model_id": "9072dee50cf741209f1405a1b84ba336",
              "version_major": 2,
              "version_minor": 0
            },
            "text/plain": [
              "  0%|          | 0/54 [00:00<?, ?it/s]"
            ]
          },
          "metadata": {},
          "output_type": "display_data"
        },
        {
          "name": "stdout",
          "output_type": "stream",
          "text": [
            "[ Valid | 022/500 ] loss = 3.57003, acc = 0.34781\n"
          ]
        },
        {
          "data": {
            "application/vnd.jupyter.widget-view+json": {
              "model_id": "938db88ae49e401c839bd15c70f6fd13",
              "version_major": 2,
              "version_minor": 0
            },
            "text/plain": [
              "  0%|          | 0/155 [00:00<?, ?it/s]"
            ]
          },
          "metadata": {},
          "output_type": "display_data"
        },
        {
          "name": "stdout",
          "output_type": "stream",
          "text": [
            "Adjusting learning rate of group 0 to 1.0000e-02.\n",
            "[ Train | 023/500 ] loss = 3.02071, acc = 0.29941\n"
          ]
        },
        {
          "data": {
            "application/vnd.jupyter.widget-view+json": {
              "model_id": "90e6f7ef32d6493dad602b9e23adcdaf",
              "version_major": 2,
              "version_minor": 0
            },
            "text/plain": [
              "  0%|          | 0/54 [00:00<?, ?it/s]"
            ]
          },
          "metadata": {},
          "output_type": "display_data"
        },
        {
          "name": "stdout",
          "output_type": "stream",
          "text": [
            "[ Valid | 023/500 ] loss = 3.52874, acc = 0.33936\n"
          ]
        },
        {
          "data": {
            "application/vnd.jupyter.widget-view+json": {
              "model_id": "13a43dbf71eb4fc5bfbd23dd057bb224",
              "version_major": 2,
              "version_minor": 0
            },
            "text/plain": [
              "  0%|          | 0/155 [00:00<?, ?it/s]"
            ]
          },
          "metadata": {},
          "output_type": "display_data"
        },
        {
          "name": "stdout",
          "output_type": "stream",
          "text": [
            "Adjusting learning rate of group 0 to 1.0000e-02.\n",
            "[ Train | 024/500 ] loss = 3.02038, acc = 0.30144\n"
          ]
        },
        {
          "data": {
            "application/vnd.jupyter.widget-view+json": {
              "model_id": "01ea0507feec4125b0354ebb1adbdbe0",
              "version_major": 2,
              "version_minor": 0
            },
            "text/plain": [
              "  0%|          | 0/54 [00:00<?, ?it/s]"
            ]
          },
          "metadata": {},
          "output_type": "display_data"
        },
        {
          "name": "stdout",
          "output_type": "stream",
          "text": [
            "[ Valid | 024/500 ] loss = 3.47845, acc = 0.32915\n"
          ]
        },
        {
          "data": {
            "application/vnd.jupyter.widget-view+json": {
              "model_id": "fc7f3082d1284ff4a3a28002541cbb47",
              "version_major": 2,
              "version_minor": 0
            },
            "text/plain": [
              "  0%|          | 0/155 [00:00<?, ?it/s]"
            ]
          },
          "metadata": {},
          "output_type": "display_data"
        },
        {
          "name": "stdout",
          "output_type": "stream",
          "text": [
            "Adjusting learning rate of group 0 to 1.0000e-02.\n",
            "[ Train | 025/500 ] loss = 3.02079, acc = 0.30782\n"
          ]
        },
        {
          "data": {
            "application/vnd.jupyter.widget-view+json": {
              "model_id": "c477e9206fe54ad782f83ba704210f72",
              "version_major": 2,
              "version_minor": 0
            },
            "text/plain": [
              "  0%|          | 0/54 [00:00<?, ?it/s]"
            ]
          },
          "metadata": {},
          "output_type": "display_data"
        },
        {
          "name": "stdout",
          "output_type": "stream",
          "text": [
            "[ Valid | 025/500 ] loss = 3.52030, acc = 0.34315\n"
          ]
        },
        {
          "data": {
            "application/vnd.jupyter.widget-view+json": {
              "model_id": "5563574cea364c9d8965126370891bfd",
              "version_major": 2,
              "version_minor": 0
            },
            "text/plain": [
              "  0%|          | 0/155 [00:00<?, ?it/s]"
            ]
          },
          "metadata": {},
          "output_type": "display_data"
        },
        {
          "name": "stdout",
          "output_type": "stream",
          "text": [
            "Adjusting learning rate of group 0 to 1.0000e-02.\n",
            "[ Train | 026/500 ] loss = 2.99985, acc = 0.31259\n"
          ]
        },
        {
          "data": {
            "application/vnd.jupyter.widget-view+json": {
              "model_id": "4c2f2c9cfb5143c69e8dbb34c889dc5e",
              "version_major": 2,
              "version_minor": 0
            },
            "text/plain": [
              "  0%|          | 0/54 [00:00<?, ?it/s]"
            ]
          },
          "metadata": {},
          "output_type": "display_data"
        },
        {
          "name": "stdout",
          "output_type": "stream",
          "text": [
            "[ Valid | 026/500 ] loss = 3.46748, acc = 0.36414 -> best\n",
            "Best model found at epoch 25, saving model\n"
          ]
        },
        {
          "data": {
            "application/vnd.jupyter.widget-view+json": {
              "model_id": "22ff57afdab84193a5b70e91340b8489",
              "version_major": 2,
              "version_minor": 0
            },
            "text/plain": [
              "  0%|          | 0/155 [00:00<?, ?it/s]"
            ]
          },
          "metadata": {},
          "output_type": "display_data"
        },
        {
          "name": "stdout",
          "output_type": "stream",
          "text": [
            "Adjusting learning rate of group 0 to 1.0000e-02.\n",
            "[ Train | 027/500 ] loss = 2.99472, acc = 0.30914\n"
          ]
        },
        {
          "data": {
            "application/vnd.jupyter.widget-view+json": {
              "model_id": "026ad25991a24bdb994a04dadecad836",
              "version_major": 2,
              "version_minor": 0
            },
            "text/plain": [
              "  0%|          | 0/54 [00:00<?, ?it/s]"
            ]
          },
          "metadata": {},
          "output_type": "display_data"
        },
        {
          "name": "stdout",
          "output_type": "stream",
          "text": [
            "[ Valid | 027/500 ] loss = 3.60439, acc = 0.32507\n"
          ]
        },
        {
          "data": {
            "application/vnd.jupyter.widget-view+json": {
              "model_id": "fcc5f5603e9f41aaa0ff92bad6173d2d",
              "version_major": 2,
              "version_minor": 0
            },
            "text/plain": [
              "  0%|          | 0/155 [00:00<?, ?it/s]"
            ]
          },
          "metadata": {},
          "output_type": "display_data"
        },
        {
          "name": "stdout",
          "output_type": "stream",
          "text": [
            "Adjusting learning rate of group 0 to 1.0000e-02.\n",
            "[ Train | 028/500 ] loss = 2.99654, acc = 0.31168\n"
          ]
        },
        {
          "data": {
            "application/vnd.jupyter.widget-view+json": {
              "model_id": "babab791b45540a69a0111c61a989e7b",
              "version_major": 2,
              "version_minor": 0
            },
            "text/plain": [
              "  0%|          | 0/54 [00:00<?, ?it/s]"
            ]
          },
          "metadata": {},
          "output_type": "display_data"
        },
        {
          "name": "stdout",
          "output_type": "stream",
          "text": [
            "[ Valid | 028/500 ] loss = 3.45637, acc = 0.33994\n"
          ]
        },
        {
          "data": {
            "application/vnd.jupyter.widget-view+json": {
              "model_id": "48cc056161d14c75bfd7554343bcc4f4",
              "version_major": 2,
              "version_minor": 0
            },
            "text/plain": [
              "  0%|          | 0/155 [00:00<?, ?it/s]"
            ]
          },
          "metadata": {},
          "output_type": "display_data"
        },
        {
          "name": "stdout",
          "output_type": "stream",
          "text": [
            "Adjusting learning rate of group 0 to 1.0000e-02.\n",
            "[ Train | 029/500 ] loss = 2.97034, acc = 0.32262\n"
          ]
        },
        {
          "data": {
            "application/vnd.jupyter.widget-view+json": {
              "model_id": "94721405455340b486aaee771152b28c",
              "version_major": 2,
              "version_minor": 0
            },
            "text/plain": [
              "  0%|          | 0/54 [00:00<?, ?it/s]"
            ]
          },
          "metadata": {},
          "output_type": "display_data"
        },
        {
          "name": "stdout",
          "output_type": "stream",
          "text": [
            "[ Valid | 029/500 ] loss = 3.52273, acc = 0.36676 -> best\n",
            "Best model found at epoch 28, saving model\n"
          ]
        },
        {
          "data": {
            "application/vnd.jupyter.widget-view+json": {
              "model_id": "28cff3e1022e4ace9a60c40e4e6f0da1",
              "version_major": 2,
              "version_minor": 0
            },
            "text/plain": [
              "  0%|          | 0/155 [00:00<?, ?it/s]"
            ]
          },
          "metadata": {},
          "output_type": "display_data"
        },
        {
          "name": "stdout",
          "output_type": "stream",
          "text": [
            "Adjusting learning rate of group 0 to 1.0000e-02.\n",
            "[ Train | 030/500 ] loss = 2.95802, acc = 0.32637\n"
          ]
        },
        {
          "data": {
            "application/vnd.jupyter.widget-view+json": {
              "model_id": "cdcc19a2969e43d69fbfa91212d5d791",
              "version_major": 2,
              "version_minor": 0
            },
            "text/plain": [
              "  0%|          | 0/54 [00:00<?, ?it/s]"
            ]
          },
          "metadata": {},
          "output_type": "display_data"
        },
        {
          "name": "stdout",
          "output_type": "stream",
          "text": [
            "[ Valid | 030/500 ] loss = 3.49277, acc = 0.36880 -> best\n",
            "Best model found at epoch 29, saving model\n"
          ]
        },
        {
          "data": {
            "application/vnd.jupyter.widget-view+json": {
              "model_id": "f98d2a3cf9b14cea860bcfad46c5b71d",
              "version_major": 2,
              "version_minor": 0
            },
            "text/plain": [
              "  0%|          | 0/155 [00:00<?, ?it/s]"
            ]
          },
          "metadata": {},
          "output_type": "display_data"
        },
        {
          "name": "stdout",
          "output_type": "stream",
          "text": [
            "Adjusting learning rate of group 0 to 1.0000e-02.\n",
            "[ Train | 031/500 ] loss = 2.97005, acc = 0.32637\n"
          ]
        },
        {
          "data": {
            "application/vnd.jupyter.widget-view+json": {
              "model_id": "c6ec1e14f07647608b19ef53959ee98f",
              "version_major": 2,
              "version_minor": 0
            },
            "text/plain": [
              "  0%|          | 0/54 [00:00<?, ?it/s]"
            ]
          },
          "metadata": {},
          "output_type": "display_data"
        },
        {
          "name": "stdout",
          "output_type": "stream",
          "text": [
            "[ Valid | 031/500 ] loss = 3.60689, acc = 0.35714\n"
          ]
        },
        {
          "data": {
            "application/vnd.jupyter.widget-view+json": {
              "model_id": "072bc22e85644bdfbe4b7d2997588dc1",
              "version_major": 2,
              "version_minor": 0
            },
            "text/plain": [
              "  0%|          | 0/155 [00:00<?, ?it/s]"
            ]
          },
          "metadata": {},
          "output_type": "display_data"
        },
        {
          "name": "stdout",
          "output_type": "stream",
          "text": [
            "Adjusting learning rate of group 0 to 1.0000e-02.\n",
            "[ Train | 032/500 ] loss = 2.95467, acc = 0.33651\n"
          ]
        },
        {
          "data": {
            "application/vnd.jupyter.widget-view+json": {
              "model_id": "8dd77d80ed5c45a5a896bfa170a63947",
              "version_major": 2,
              "version_minor": 0
            },
            "text/plain": [
              "  0%|          | 0/54 [00:00<?, ?it/s]"
            ]
          },
          "metadata": {},
          "output_type": "display_data"
        },
        {
          "name": "stdout",
          "output_type": "stream",
          "text": [
            "[ Valid | 032/500 ] loss = 3.75438, acc = 0.30962\n"
          ]
        },
        {
          "data": {
            "application/vnd.jupyter.widget-view+json": {
              "model_id": "a42de61f4cc04892ba87322856c3377a",
              "version_major": 2,
              "version_minor": 0
            },
            "text/plain": [
              "  0%|          | 0/155 [00:00<?, ?it/s]"
            ]
          },
          "metadata": {},
          "output_type": "display_data"
        },
        {
          "name": "stdout",
          "output_type": "stream",
          "text": [
            "Adjusting learning rate of group 0 to 1.0000e-02.\n",
            "[ Train | 033/500 ] loss = 2.93932, acc = 0.33722\n"
          ]
        },
        {
          "data": {
            "application/vnd.jupyter.widget-view+json": {
              "model_id": "279bceedd1734c1ebeaa750f8c82362f",
              "version_major": 2,
              "version_minor": 0
            },
            "text/plain": [
              "  0%|          | 0/54 [00:00<?, ?it/s]"
            ]
          },
          "metadata": {},
          "output_type": "display_data"
        },
        {
          "name": "stdout",
          "output_type": "stream",
          "text": [
            "[ Valid | 033/500 ] loss = 3.51037, acc = 0.38134 -> best\n",
            "Best model found at epoch 32, saving model\n"
          ]
        },
        {
          "data": {
            "application/vnd.jupyter.widget-view+json": {
              "model_id": "b77a8a58655b4c2aa938b21ae981a1f2",
              "version_major": 2,
              "version_minor": 0
            },
            "text/plain": [
              "  0%|          | 0/155 [00:00<?, ?it/s]"
            ]
          },
          "metadata": {},
          "output_type": "display_data"
        },
        {
          "name": "stdout",
          "output_type": "stream",
          "text": [
            "Adjusting learning rate of group 0 to 1.0000e-02.\n",
            "[ Train | 034/500 ] loss = 2.94905, acc = 0.33823\n"
          ]
        },
        {
          "data": {
            "application/vnd.jupyter.widget-view+json": {
              "model_id": "f1beb493a9dd48fa9c644c948d00b611",
              "version_major": 2,
              "version_minor": 0
            },
            "text/plain": [
              "  0%|          | 0/54 [00:00<?, ?it/s]"
            ]
          },
          "metadata": {},
          "output_type": "display_data"
        },
        {
          "name": "stdout",
          "output_type": "stream",
          "text": [
            "[ Valid | 034/500 ] loss = 3.48743, acc = 0.36618\n"
          ]
        },
        {
          "data": {
            "application/vnd.jupyter.widget-view+json": {
              "model_id": "cbc3409f10f9465597af531bfbeff9d6",
              "version_major": 2,
              "version_minor": 0
            },
            "text/plain": [
              "  0%|          | 0/155 [00:00<?, ?it/s]"
            ]
          },
          "metadata": {},
          "output_type": "display_data"
        },
        {
          "name": "stdout",
          "output_type": "stream",
          "text": [
            "Adjusting learning rate of group 0 to 1.0000e-02.\n",
            "[ Train | 035/500 ] loss = 2.92366, acc = 0.34229\n"
          ]
        },
        {
          "data": {
            "application/vnd.jupyter.widget-view+json": {
              "model_id": "1044da615e384210b353210956e659ab",
              "version_major": 2,
              "version_minor": 0
            },
            "text/plain": [
              "  0%|          | 0/54 [00:00<?, ?it/s]"
            ]
          },
          "metadata": {},
          "output_type": "display_data"
        },
        {
          "name": "stdout",
          "output_type": "stream",
          "text": [
            "[ Valid | 035/500 ] loss = 3.46646, acc = 0.35394\n"
          ]
        },
        {
          "data": {
            "application/vnd.jupyter.widget-view+json": {
              "model_id": "849beec465314ea4af041c4c0220e4cf",
              "version_major": 2,
              "version_minor": 0
            },
            "text/plain": [
              "  0%|          | 0/155 [00:00<?, ?it/s]"
            ]
          },
          "metadata": {},
          "output_type": "display_data"
        },
        {
          "name": "stdout",
          "output_type": "stream",
          "text": [
            "Adjusting learning rate of group 0 to 1.0000e-02.\n",
            "[ Train | 036/500 ] loss = 2.90795, acc = 0.35009\n"
          ]
        },
        {
          "data": {
            "application/vnd.jupyter.widget-view+json": {
              "model_id": "55a40147b9ec41529017728e2d8ed499",
              "version_major": 2,
              "version_minor": 0
            },
            "text/plain": [
              "  0%|          | 0/54 [00:00<?, ?it/s]"
            ]
          },
          "metadata": {},
          "output_type": "display_data"
        },
        {
          "name": "stdout",
          "output_type": "stream",
          "text": [
            "[ Valid | 036/500 ] loss = 3.62760, acc = 0.36472\n"
          ]
        },
        {
          "data": {
            "application/vnd.jupyter.widget-view+json": {
              "model_id": "c2279345d1294a199705ad79acdc66d3",
              "version_major": 2,
              "version_minor": 0
            },
            "text/plain": [
              "  0%|          | 0/155 [00:00<?, ?it/s]"
            ]
          },
          "metadata": {},
          "output_type": "display_data"
        },
        {
          "name": "stdout",
          "output_type": "stream",
          "text": [
            "Adjusting learning rate of group 0 to 1.0000e-02.\n",
            "[ Train | 037/500 ] loss = 2.90446, acc = 0.34452\n"
          ]
        },
        {
          "data": {
            "application/vnd.jupyter.widget-view+json": {
              "model_id": "64b9586a06a64669b65921ab10a55dd4",
              "version_major": 2,
              "version_minor": 0
            },
            "text/plain": [
              "  0%|          | 0/54 [00:00<?, ?it/s]"
            ]
          },
          "metadata": {},
          "output_type": "display_data"
        },
        {
          "name": "stdout",
          "output_type": "stream",
          "text": [
            "[ Valid | 037/500 ] loss = 3.44394, acc = 0.37784\n"
          ]
        },
        {
          "data": {
            "application/vnd.jupyter.widget-view+json": {
              "model_id": "d2993d4c750e4d5da020d800c74d46e3",
              "version_major": 2,
              "version_minor": 0
            },
            "text/plain": [
              "  0%|          | 0/155 [00:00<?, ?it/s]"
            ]
          },
          "metadata": {},
          "output_type": "display_data"
        },
        {
          "name": "stdout",
          "output_type": "stream",
          "text": [
            "Adjusting learning rate of group 0 to 1.0000e-02.\n",
            "[ Train | 038/500 ] loss = 2.90128, acc = 0.34766\n"
          ]
        },
        {
          "data": {
            "application/vnd.jupyter.widget-view+json": {
              "model_id": "d33c2fce02bb48dca33cf17fd7652da4",
              "version_major": 2,
              "version_minor": 0
            },
            "text/plain": [
              "  0%|          | 0/54 [00:00<?, ?it/s]"
            ]
          },
          "metadata": {},
          "output_type": "display_data"
        },
        {
          "name": "stdout",
          "output_type": "stream",
          "text": [
            "[ Valid | 038/500 ] loss = 3.61964, acc = 0.34548\n"
          ]
        },
        {
          "data": {
            "application/vnd.jupyter.widget-view+json": {
              "model_id": "9f389c134c9c40fb86bf720abd800bc4",
              "version_major": 2,
              "version_minor": 0
            },
            "text/plain": [
              "  0%|          | 0/155 [00:00<?, ?it/s]"
            ]
          },
          "metadata": {},
          "output_type": "display_data"
        },
        {
          "name": "stdout",
          "output_type": "stream",
          "text": [
            "Adjusting learning rate of group 0 to 1.0000e-02.\n",
            "[ Train | 039/500 ] loss = 2.89895, acc = 0.36033\n"
          ]
        },
        {
          "data": {
            "application/vnd.jupyter.widget-view+json": {
              "model_id": "fe25eafba5d64843827288ec86cb4c09",
              "version_major": 2,
              "version_minor": 0
            },
            "text/plain": [
              "  0%|          | 0/54 [00:00<?, ?it/s]"
            ]
          },
          "metadata": {},
          "output_type": "display_data"
        },
        {
          "name": "stdout",
          "output_type": "stream",
          "text": [
            "[ Valid | 039/500 ] loss = 3.39205, acc = 0.39854 -> best\n",
            "Best model found at epoch 38, saving model\n"
          ]
        },
        {
          "data": {
            "application/vnd.jupyter.widget-view+json": {
              "model_id": "b364f40f47ea4b6eb0d9c2537bfac360",
              "version_major": 2,
              "version_minor": 0
            },
            "text/plain": [
              "  0%|          | 0/155 [00:00<?, ?it/s]"
            ]
          },
          "metadata": {},
          "output_type": "display_data"
        },
        {
          "name": "stdout",
          "output_type": "stream",
          "text": [
            "Adjusting learning rate of group 0 to 1.0000e-02.\n",
            "[ Train | 040/500 ] loss = 2.89639, acc = 0.35921\n"
          ]
        },
        {
          "data": {
            "application/vnd.jupyter.widget-view+json": {
              "model_id": "c12e0d74698a4f85856ae6c6a90d57da",
              "version_major": 2,
              "version_minor": 0
            },
            "text/plain": [
              "  0%|          | 0/54 [00:00<?, ?it/s]"
            ]
          },
          "metadata": {},
          "output_type": "display_data"
        },
        {
          "name": "stdout",
          "output_type": "stream",
          "text": [
            "[ Valid | 040/500 ] loss = 3.44876, acc = 0.38717\n"
          ]
        },
        {
          "data": {
            "application/vnd.jupyter.widget-view+json": {
              "model_id": "bede82eb92924a5e946c22b41e4043c2",
              "version_major": 2,
              "version_minor": 0
            },
            "text/plain": [
              "  0%|          | 0/155 [00:00<?, ?it/s]"
            ]
          },
          "metadata": {},
          "output_type": "display_data"
        },
        {
          "name": "stdout",
          "output_type": "stream",
          "text": [
            "Adjusting learning rate of group 0 to 1.0000e-02.\n",
            "[ Train | 041/500 ] loss = 2.88776, acc = 0.36276\n"
          ]
        },
        {
          "data": {
            "application/vnd.jupyter.widget-view+json": {
              "model_id": "70186b7f0af541848902ea677cd542c7",
              "version_major": 2,
              "version_minor": 0
            },
            "text/plain": [
              "  0%|          | 0/54 [00:00<?, ?it/s]"
            ]
          },
          "metadata": {},
          "output_type": "display_data"
        },
        {
          "name": "stdout",
          "output_type": "stream",
          "text": [
            "[ Valid | 041/500 ] loss = 3.43394, acc = 0.39650\n"
          ]
        },
        {
          "data": {
            "application/vnd.jupyter.widget-view+json": {
              "model_id": "7c124f3d18854f24bacdc9c75c284f64",
              "version_major": 2,
              "version_minor": 0
            },
            "text/plain": [
              "  0%|          | 0/155 [00:00<?, ?it/s]"
            ]
          },
          "metadata": {},
          "output_type": "display_data"
        },
        {
          "name": "stdout",
          "output_type": "stream",
          "text": [
            "Adjusting learning rate of group 0 to 1.0000e-02.\n",
            "[ Train | 042/500 ] loss = 2.89437, acc = 0.36266\n"
          ]
        },
        {
          "data": {
            "application/vnd.jupyter.widget-view+json": {
              "model_id": "7ce69e5333bd441289d46470db64ef36",
              "version_major": 2,
              "version_minor": 0
            },
            "text/plain": [
              "  0%|          | 0/54 [00:00<?, ?it/s]"
            ]
          },
          "metadata": {},
          "output_type": "display_data"
        },
        {
          "name": "stdout",
          "output_type": "stream",
          "text": [
            "[ Valid | 042/500 ] loss = 3.52642, acc = 0.40816 -> best\n",
            "Best model found at epoch 41, saving model\n"
          ]
        },
        {
          "data": {
            "application/vnd.jupyter.widget-view+json": {
              "model_id": "8acbc5c6befc4e459a07d79b0f044400",
              "version_major": 2,
              "version_minor": 0
            },
            "text/plain": [
              "  0%|          | 0/155 [00:00<?, ?it/s]"
            ]
          },
          "metadata": {},
          "output_type": "display_data"
        },
        {
          "name": "stdout",
          "output_type": "stream",
          "text": [
            "Adjusting learning rate of group 0 to 1.0000e-02.\n",
            "[ Train | 043/500 ] loss = 2.86856, acc = 0.36682\n"
          ]
        },
        {
          "data": {
            "application/vnd.jupyter.widget-view+json": {
              "model_id": "15308a52553c405fbd0192fd82cc6534",
              "version_major": 2,
              "version_minor": 0
            },
            "text/plain": [
              "  0%|          | 0/54 [00:00<?, ?it/s]"
            ]
          },
          "metadata": {},
          "output_type": "display_data"
        },
        {
          "name": "stdout",
          "output_type": "stream",
          "text": [
            "[ Valid | 043/500 ] loss = 3.41558, acc = 0.40991 -> best\n",
            "Best model found at epoch 42, saving model\n"
          ]
        },
        {
          "data": {
            "application/vnd.jupyter.widget-view+json": {
              "model_id": "6ad201aef81646de9f913ef697154bd3",
              "version_major": 2,
              "version_minor": 0
            },
            "text/plain": [
              "  0%|          | 0/155 [00:00<?, ?it/s]"
            ]
          },
          "metadata": {},
          "output_type": "display_data"
        },
        {
          "name": "stdout",
          "output_type": "stream",
          "text": [
            "Adjusting learning rate of group 0 to 1.0000e-02.\n",
            "[ Train | 044/500 ] loss = 2.86170, acc = 0.36975\n"
          ]
        },
        {
          "data": {
            "application/vnd.jupyter.widget-view+json": {
              "model_id": "bf054b7019f04f309b28f197037f01a3",
              "version_major": 2,
              "version_minor": 0
            },
            "text/plain": [
              "  0%|          | 0/54 [00:00<?, ?it/s]"
            ]
          },
          "metadata": {},
          "output_type": "display_data"
        },
        {
          "name": "stdout",
          "output_type": "stream",
          "text": [
            "[ Valid | 044/500 ] loss = 3.50501, acc = 0.37347\n"
          ]
        },
        {
          "data": {
            "application/vnd.jupyter.widget-view+json": {
              "model_id": "4fb90539c29e4e2fa6e0edae98371abe",
              "version_major": 2,
              "version_minor": 0
            },
            "text/plain": [
              "  0%|          | 0/155 [00:00<?, ?it/s]"
            ]
          },
          "metadata": {},
          "output_type": "display_data"
        },
        {
          "name": "stdout",
          "output_type": "stream",
          "text": [
            "Adjusting learning rate of group 0 to 1.0000e-02.\n",
            "[ Train | 045/500 ] loss = 2.87578, acc = 0.36712\n"
          ]
        },
        {
          "data": {
            "application/vnd.jupyter.widget-view+json": {
              "model_id": "18489a031417486b9a73c7f8e6e1eb3c",
              "version_major": 2,
              "version_minor": 0
            },
            "text/plain": [
              "  0%|          | 0/54 [00:00<?, ?it/s]"
            ]
          },
          "metadata": {},
          "output_type": "display_data"
        },
        {
          "name": "stdout",
          "output_type": "stream",
          "text": [
            "[ Valid | 045/500 ] loss = 3.42534, acc = 0.39971\n"
          ]
        },
        {
          "data": {
            "application/vnd.jupyter.widget-view+json": {
              "model_id": "b3458666a335475496dac9bbb99f7123",
              "version_major": 2,
              "version_minor": 0
            },
            "text/plain": [
              "  0%|          | 0/155 [00:00<?, ?it/s]"
            ]
          },
          "metadata": {},
          "output_type": "display_data"
        },
        {
          "name": "stdout",
          "output_type": "stream",
          "text": [
            "Adjusting learning rate of group 0 to 1.0000e-02.\n",
            "[ Train | 046/500 ] loss = 2.86264, acc = 0.37320\n"
          ]
        },
        {
          "data": {
            "application/vnd.jupyter.widget-view+json": {
              "model_id": "cd20e570fe18471487ae72ea83b46f38",
              "version_major": 2,
              "version_minor": 0
            },
            "text/plain": [
              "  0%|          | 0/54 [00:00<?, ?it/s]"
            ]
          },
          "metadata": {},
          "output_type": "display_data"
        },
        {
          "name": "stdout",
          "output_type": "stream",
          "text": [
            "[ Valid | 046/500 ] loss = 3.50492, acc = 0.36822\n"
          ]
        },
        {
          "data": {
            "application/vnd.jupyter.widget-view+json": {
              "model_id": "192a093c26be4d0e964c231a91182b9e",
              "version_major": 2,
              "version_minor": 0
            },
            "text/plain": [
              "  0%|          | 0/155 [00:00<?, ?it/s]"
            ]
          },
          "metadata": {},
          "output_type": "display_data"
        },
        {
          "name": "stdout",
          "output_type": "stream",
          "text": [
            "Adjusting learning rate of group 0 to 1.0000e-02.\n",
            "[ Train | 047/500 ] loss = 2.84696, acc = 0.38192\n"
          ]
        },
        {
          "data": {
            "application/vnd.jupyter.widget-view+json": {
              "model_id": "52add643966f4357ac7fc23f79d50e9a",
              "version_major": 2,
              "version_minor": 0
            },
            "text/plain": [
              "  0%|          | 0/54 [00:00<?, ?it/s]"
            ]
          },
          "metadata": {},
          "output_type": "display_data"
        },
        {
          "name": "stdout",
          "output_type": "stream",
          "text": [
            "[ Valid | 047/500 ] loss = 3.46441, acc = 0.40379\n"
          ]
        },
        {
          "data": {
            "application/vnd.jupyter.widget-view+json": {
              "model_id": "5ba8ce4a3f9f451693ae67bcdd44a926",
              "version_major": 2,
              "version_minor": 0
            },
            "text/plain": [
              "  0%|          | 0/155 [00:00<?, ?it/s]"
            ]
          },
          "metadata": {},
          "output_type": "display_data"
        },
        {
          "name": "stdout",
          "output_type": "stream",
          "text": [
            "Adjusting learning rate of group 0 to 1.0000e-02.\n",
            "[ Train | 048/500 ] loss = 2.82915, acc = 0.37452\n"
          ]
        },
        {
          "data": {
            "application/vnd.jupyter.widget-view+json": {
              "model_id": "bfba196d8b1f4d2590d64ba0de5401f8",
              "version_major": 2,
              "version_minor": 0
            },
            "text/plain": [
              "  0%|          | 0/54 [00:00<?, ?it/s]"
            ]
          },
          "metadata": {},
          "output_type": "display_data"
        },
        {
          "name": "stdout",
          "output_type": "stream",
          "text": [
            "[ Valid | 048/500 ] loss = 3.58944, acc = 0.38105\n"
          ]
        },
        {
          "data": {
            "application/vnd.jupyter.widget-view+json": {
              "model_id": "428f2b1f79d14b50bfc5b79248bc43de",
              "version_major": 2,
              "version_minor": 0
            },
            "text/plain": [
              "  0%|          | 0/155 [00:00<?, ?it/s]"
            ]
          },
          "metadata": {},
          "output_type": "display_data"
        },
        {
          "name": "stdout",
          "output_type": "stream",
          "text": [
            "Adjusting learning rate of group 0 to 1.0000e-02.\n",
            "[ Train | 049/500 ] loss = 2.83999, acc = 0.38242\n"
          ]
        },
        {
          "data": {
            "application/vnd.jupyter.widget-view+json": {
              "model_id": "88061d51131447198d2c7c68fbc6b5c1",
              "version_major": 2,
              "version_minor": 0
            },
            "text/plain": [
              "  0%|          | 0/54 [00:00<?, ?it/s]"
            ]
          },
          "metadata": {},
          "output_type": "display_data"
        },
        {
          "name": "stdout",
          "output_type": "stream",
          "text": [
            "[ Valid | 049/500 ] loss = 3.36139, acc = 0.40204\n"
          ]
        },
        {
          "data": {
            "application/vnd.jupyter.widget-view+json": {
              "model_id": "af87df4b0598498d8d044b6887acaea7",
              "version_major": 2,
              "version_minor": 0
            },
            "text/plain": [
              "  0%|          | 0/155 [00:00<?, ?it/s]"
            ]
          },
          "metadata": {},
          "output_type": "display_data"
        },
        {
          "name": "stdout",
          "output_type": "stream",
          "text": [
            "Adjusting learning rate of group 0 to 5.0000e-03.\n",
            "[ Train | 050/500 ] loss = 2.82702, acc = 0.38344\n"
          ]
        },
        {
          "data": {
            "application/vnd.jupyter.widget-view+json": {
              "model_id": "78d56c5b42bb4884bb3ee1dea660bea5",
              "version_major": 2,
              "version_minor": 0
            },
            "text/plain": [
              "  0%|          | 0/54 [00:00<?, ?it/s]"
            ]
          },
          "metadata": {},
          "output_type": "display_data"
        },
        {
          "name": "stdout",
          "output_type": "stream",
          "text": [
            "[ Valid | 050/500 ] loss = 3.38666, acc = 0.44665 -> best\n",
            "Best model found at epoch 49, saving model\n"
          ]
        },
        {
          "data": {
            "application/vnd.jupyter.widget-view+json": {
              "model_id": "837222df99234b12b6ed441bdaee52a3",
              "version_major": 2,
              "version_minor": 0
            },
            "text/plain": [
              "  0%|          | 0/155 [00:00<?, ?it/s]"
            ]
          },
          "metadata": {},
          "output_type": "display_data"
        },
        {
          "name": "stdout",
          "output_type": "stream",
          "text": [
            "Adjusting learning rate of group 0 to 5.0000e-03.\n",
            "[ Train | 051/500 ] loss = 2.80257, acc = 0.39185\n"
          ]
        },
        {
          "data": {
            "application/vnd.jupyter.widget-view+json": {
              "model_id": "3d9c6e5c7c234cdfa05b8fb56c721842",
              "version_major": 2,
              "version_minor": 0
            },
            "text/plain": [
              "  0%|          | 0/54 [00:00<?, ?it/s]"
            ]
          },
          "metadata": {},
          "output_type": "display_data"
        },
        {
          "name": "stdout",
          "output_type": "stream",
          "text": [
            "[ Valid | 051/500 ] loss = 3.28743, acc = 0.44227\n"
          ]
        },
        {
          "data": {
            "application/vnd.jupyter.widget-view+json": {
              "model_id": "ba27523ba5414955a0526668e963bfc2",
              "version_major": 2,
              "version_minor": 0
            },
            "text/plain": [
              "  0%|          | 0/155 [00:00<?, ?it/s]"
            ]
          },
          "metadata": {},
          "output_type": "display_data"
        },
        {
          "name": "stdout",
          "output_type": "stream",
          "text": [
            "Adjusting learning rate of group 0 to 5.0000e-03.\n",
            "[ Train | 052/500 ] loss = 2.79189, acc = 0.39185\n"
          ]
        },
        {
          "data": {
            "application/vnd.jupyter.widget-view+json": {
              "model_id": "24b53a09793f415c8ac9b95d9466a8dd",
              "version_major": 2,
              "version_minor": 0
            },
            "text/plain": [
              "  0%|          | 0/54 [00:00<?, ?it/s]"
            ]
          },
          "metadata": {},
          "output_type": "display_data"
        },
        {
          "name": "stdout",
          "output_type": "stream",
          "text": [
            "[ Valid | 052/500 ] loss = 3.31912, acc = 0.42245\n"
          ]
        },
        {
          "data": {
            "application/vnd.jupyter.widget-view+json": {
              "model_id": "73d937d8fd644447b2dfc761b58e941d",
              "version_major": 2,
              "version_minor": 0
            },
            "text/plain": [
              "  0%|          | 0/155 [00:00<?, ?it/s]"
            ]
          },
          "metadata": {},
          "output_type": "display_data"
        },
        {
          "name": "stdout",
          "output_type": "stream",
          "text": [
            "Adjusting learning rate of group 0 to 5.0000e-03.\n",
            "[ Train | 053/500 ] loss = 2.78927, acc = 0.39935\n"
          ]
        },
        {
          "data": {
            "application/vnd.jupyter.widget-view+json": {
              "model_id": "fadcf672045b4e7497fcc0b18c2f3823",
              "version_major": 2,
              "version_minor": 0
            },
            "text/plain": [
              "  0%|          | 0/54 [00:00<?, ?it/s]"
            ]
          },
          "metadata": {},
          "output_type": "display_data"
        },
        {
          "name": "stdout",
          "output_type": "stream",
          "text": [
            "[ Valid | 053/500 ] loss = 3.30756, acc = 0.44052\n"
          ]
        },
        {
          "data": {
            "application/vnd.jupyter.widget-view+json": {
              "model_id": "cc5532a718ca4f17a62463a482dd451a",
              "version_major": 2,
              "version_minor": 0
            },
            "text/plain": [
              "  0%|          | 0/155 [00:00<?, ?it/s]"
            ]
          },
          "metadata": {},
          "output_type": "display_data"
        },
        {
          "name": "stdout",
          "output_type": "stream",
          "text": [
            "Adjusting learning rate of group 0 to 5.0000e-03.\n",
            "[ Train | 054/500 ] loss = 2.78070, acc = 0.39803\n"
          ]
        },
        {
          "data": {
            "application/vnd.jupyter.widget-view+json": {
              "model_id": "84fa753987874cc391da700030fcdbf8",
              "version_major": 2,
              "version_minor": 0
            },
            "text/plain": [
              "  0%|          | 0/54 [00:00<?, ?it/s]"
            ]
          },
          "metadata": {},
          "output_type": "display_data"
        },
        {
          "name": "stdout",
          "output_type": "stream",
          "text": [
            "[ Valid | 054/500 ] loss = 3.23367, acc = 0.44781 -> best\n",
            "Best model found at epoch 53, saving model\n"
          ]
        },
        {
          "data": {
            "application/vnd.jupyter.widget-view+json": {
              "model_id": "59ef254e79424b16b04bcadb704c286e",
              "version_major": 2,
              "version_minor": 0
            },
            "text/plain": [
              "  0%|          | 0/155 [00:00<?, ?it/s]"
            ]
          },
          "metadata": {},
          "output_type": "display_data"
        },
        {
          "name": "stdout",
          "output_type": "stream",
          "text": [
            "Adjusting learning rate of group 0 to 5.0000e-03.\n",
            "[ Train | 055/500 ] loss = 2.76191, acc = 0.40057\n"
          ]
        },
        {
          "data": {
            "application/vnd.jupyter.widget-view+json": {
              "model_id": "2ae29a63413e4d8f95407b3afc027ed8",
              "version_major": 2,
              "version_minor": 0
            },
            "text/plain": [
              "  0%|          | 0/54 [00:00<?, ?it/s]"
            ]
          },
          "metadata": {},
          "output_type": "display_data"
        },
        {
          "name": "stdout",
          "output_type": "stream",
          "text": [
            "[ Valid | 055/500 ] loss = 3.26225, acc = 0.42653\n"
          ]
        },
        {
          "data": {
            "application/vnd.jupyter.widget-view+json": {
              "model_id": "dda08be4d425489b87fb6138d911d9ae",
              "version_major": 2,
              "version_minor": 0
            },
            "text/plain": [
              "  0%|          | 0/155 [00:00<?, ?it/s]"
            ]
          },
          "metadata": {},
          "output_type": "display_data"
        },
        {
          "name": "stdout",
          "output_type": "stream",
          "text": [
            "Adjusting learning rate of group 0 to 5.0000e-03.\n",
            "[ Train | 056/500 ] loss = 2.76826, acc = 0.39824\n"
          ]
        },
        {
          "data": {
            "application/vnd.jupyter.widget-view+json": {
              "model_id": "06c797fee20f4c2390cfb7ded0b3988e",
              "version_major": 2,
              "version_minor": 0
            },
            "text/plain": [
              "  0%|          | 0/54 [00:00<?, ?it/s]"
            ]
          },
          "metadata": {},
          "output_type": "display_data"
        },
        {
          "name": "stdout",
          "output_type": "stream",
          "text": [
            "[ Valid | 056/500 ] loss = 3.25371, acc = 0.44548\n"
          ]
        },
        {
          "data": {
            "application/vnd.jupyter.widget-view+json": {
              "model_id": "ea64c5aeac1b46e1bc2f9c9aa2470603",
              "version_major": 2,
              "version_minor": 0
            },
            "text/plain": [
              "  0%|          | 0/155 [00:00<?, ?it/s]"
            ]
          },
          "metadata": {},
          "output_type": "display_data"
        },
        {
          "name": "stdout",
          "output_type": "stream",
          "text": [
            "Adjusting learning rate of group 0 to 5.0000e-03.\n",
            "[ Train | 057/500 ] loss = 2.77459, acc = 0.39955\n"
          ]
        },
        {
          "data": {
            "application/vnd.jupyter.widget-view+json": {
              "model_id": "348f89e06533447194126ed81a2b8dfc",
              "version_major": 2,
              "version_minor": 0
            },
            "text/plain": [
              "  0%|          | 0/54 [00:00<?, ?it/s]"
            ]
          },
          "metadata": {},
          "output_type": "display_data"
        },
        {
          "name": "stdout",
          "output_type": "stream",
          "text": [
            "[ Valid | 057/500 ] loss = 3.28219, acc = 0.45743 -> best\n",
            "Best model found at epoch 56, saving model\n"
          ]
        },
        {
          "data": {
            "application/vnd.jupyter.widget-view+json": {
              "model_id": "4b5e3e45d80249c3bfd2a0d69914609a",
              "version_major": 2,
              "version_minor": 0
            },
            "text/plain": [
              "  0%|          | 0/155 [00:00<?, ?it/s]"
            ]
          },
          "metadata": {},
          "output_type": "display_data"
        },
        {
          "name": "stdout",
          "output_type": "stream",
          "text": [
            "Adjusting learning rate of group 0 to 5.0000e-03.\n",
            "[ Train | 058/500 ] loss = 2.75108, acc = 0.39722\n"
          ]
        },
        {
          "data": {
            "application/vnd.jupyter.widget-view+json": {
              "model_id": "ba2e935144d04fd082beee3005f82570",
              "version_major": 2,
              "version_minor": 0
            },
            "text/plain": [
              "  0%|          | 0/54 [00:00<?, ?it/s]"
            ]
          },
          "metadata": {},
          "output_type": "display_data"
        },
        {
          "name": "stdout",
          "output_type": "stream",
          "text": [
            "[ Valid | 058/500 ] loss = 3.27599, acc = 0.47405 -> best\n",
            "Best model found at epoch 57, saving model\n"
          ]
        },
        {
          "data": {
            "application/vnd.jupyter.widget-view+json": {
              "model_id": "79a33514a4404f1d947d98c5d698f8fc",
              "version_major": 2,
              "version_minor": 0
            },
            "text/plain": [
              "  0%|          | 0/155 [00:00<?, ?it/s]"
            ]
          },
          "metadata": {},
          "output_type": "display_data"
        },
        {
          "name": "stdout",
          "output_type": "stream",
          "text": [
            "Adjusting learning rate of group 0 to 5.0000e-03.\n",
            "[ Train | 059/500 ] loss = 2.75620, acc = 0.40665\n"
          ]
        },
        {
          "data": {
            "application/vnd.jupyter.widget-view+json": {
              "model_id": "5489dc32cdaf41e1af861a92d978834e",
              "version_major": 2,
              "version_minor": 0
            },
            "text/plain": [
              "  0%|          | 0/54 [00:00<?, ?it/s]"
            ]
          },
          "metadata": {},
          "output_type": "display_data"
        },
        {
          "name": "stdout",
          "output_type": "stream",
          "text": [
            "[ Valid | 059/500 ] loss = 3.27332, acc = 0.44781\n"
          ]
        },
        {
          "data": {
            "application/vnd.jupyter.widget-view+json": {
              "model_id": "0ce78281901f4bbbb13ecb88b5aaff27",
              "version_major": 2,
              "version_minor": 0
            },
            "text/plain": [
              "  0%|          | 0/155 [00:00<?, ?it/s]"
            ]
          },
          "metadata": {},
          "output_type": "display_data"
        },
        {
          "ename": "KeyboardInterrupt",
          "evalue": "",
          "output_type": "error",
          "traceback": [
            "\u001b[0;31m---------------------------------------------------------------------------\u001b[0m",
            "\u001b[0;31mKeyboardInterrupt\u001b[0m                         Traceback (most recent call last)",
            "\u001b[1;32m/home/lpz106u/course/ML/hw13/ml2022spring_hw13_sample_code_(1).ipynb Cell 27'\u001b[0m in \u001b[0;36m<cell line: 13>\u001b[0;34m()\u001b[0m\n\u001b[1;32m     <a href='vscode-notebook-cell://ssh-remote%2B7b22686f73744e616d65223a224e4354555f4750552856504e29227d/home/lpz106u/course/ML/hw13/ml2022spring_hw13_sample_code_%281%29.ipynb#ch0000026vscode-remote?line=20'>21</a>\u001b[0m train_accs \u001b[39m=\u001b[39m []\n\u001b[1;32m     <a href='vscode-notebook-cell://ssh-remote%2B7b22686f73744e616d65223a224e4354555f4750552856504e29227d/home/lpz106u/course/ML/hw13/ml2022spring_hw13_sample_code_%281%29.ipynb#ch0000026vscode-remote?line=21'>22</a>\u001b[0m train_lens \u001b[39m=\u001b[39m []\n\u001b[0;32m---> <a href='vscode-notebook-cell://ssh-remote%2B7b22686f73744e616d65223a224e4354555f4750552856504e29227d/home/lpz106u/course/ML/hw13/ml2022spring_hw13_sample_code_%281%29.ipynb#ch0000026vscode-remote?line=23'>24</a>\u001b[0m \u001b[39mfor\u001b[39;00m batch \u001b[39min\u001b[39;00m tqdm(train_loader):\n\u001b[1;32m     <a href='vscode-notebook-cell://ssh-remote%2B7b22686f73744e616d65223a224e4354555f4750552856504e29227d/home/lpz106u/course/ML/hw13/ml2022spring_hw13_sample_code_%281%29.ipynb#ch0000026vscode-remote?line=24'>25</a>\u001b[0m \n\u001b[1;32m     <a href='vscode-notebook-cell://ssh-remote%2B7b22686f73744e616d65223a224e4354555f4750552856504e29227d/home/lpz106u/course/ML/hw13/ml2022spring_hw13_sample_code_%281%29.ipynb#ch0000026vscode-remote?line=25'>26</a>\u001b[0m     \u001b[39m# A batch consists of image data and corresponding labels.\u001b[39;00m\n\u001b[1;32m     <a href='vscode-notebook-cell://ssh-remote%2B7b22686f73744e616d65223a224e4354555f4750552856504e29227d/home/lpz106u/course/ML/hw13/ml2022spring_hw13_sample_code_%281%29.ipynb#ch0000026vscode-remote?line=26'>27</a>\u001b[0m     imgs, labels \u001b[39m=\u001b[39m batch\n\u001b[1;32m     <a href='vscode-notebook-cell://ssh-remote%2B7b22686f73744e616d65223a224e4354555f4750552856504e29227d/home/lpz106u/course/ML/hw13/ml2022spring_hw13_sample_code_%281%29.ipynb#ch0000026vscode-remote?line=27'>28</a>\u001b[0m     imgs \u001b[39m=\u001b[39m imgs\u001b[39m.\u001b[39mto(device)\n",
            "File \u001b[0;32m~/.conda/envs/ML/lib/python3.8/site-packages/tqdm/notebook.py:258\u001b[0m, in \u001b[0;36mtqdm_notebook.__iter__\u001b[0;34m(self)\u001b[0m\n\u001b[1;32m    <a href='file:///home/lpz106u/.conda/envs/ML/lib/python3.8/site-packages/tqdm/notebook.py?line=255'>256</a>\u001b[0m \u001b[39mtry\u001b[39;00m:\n\u001b[1;32m    <a href='file:///home/lpz106u/.conda/envs/ML/lib/python3.8/site-packages/tqdm/notebook.py?line=256'>257</a>\u001b[0m     it \u001b[39m=\u001b[39m \u001b[39msuper\u001b[39m(tqdm_notebook, \u001b[39mself\u001b[39m)\u001b[39m.\u001b[39m\u001b[39m__iter__\u001b[39m()\n\u001b[0;32m--> <a href='file:///home/lpz106u/.conda/envs/ML/lib/python3.8/site-packages/tqdm/notebook.py?line=257'>258</a>\u001b[0m     \u001b[39mfor\u001b[39;00m obj \u001b[39min\u001b[39;00m it:\n\u001b[1;32m    <a href='file:///home/lpz106u/.conda/envs/ML/lib/python3.8/site-packages/tqdm/notebook.py?line=258'>259</a>\u001b[0m         \u001b[39m# return super(tqdm...) will not catch exception\u001b[39;00m\n\u001b[1;32m    <a href='file:///home/lpz106u/.conda/envs/ML/lib/python3.8/site-packages/tqdm/notebook.py?line=259'>260</a>\u001b[0m         \u001b[39myield\u001b[39;00m obj\n\u001b[1;32m    <a href='file:///home/lpz106u/.conda/envs/ML/lib/python3.8/site-packages/tqdm/notebook.py?line=260'>261</a>\u001b[0m \u001b[39m# NB: except ... [ as ...] breaks IPython async KeyboardInterrupt\u001b[39;00m\n",
            "File \u001b[0;32m~/.conda/envs/ML/lib/python3.8/site-packages/tqdm/std.py:1195\u001b[0m, in \u001b[0;36mtqdm.__iter__\u001b[0;34m(self)\u001b[0m\n\u001b[1;32m   <a href='file:///home/lpz106u/.conda/envs/ML/lib/python3.8/site-packages/tqdm/std.py?line=1191'>1192</a>\u001b[0m time \u001b[39m=\u001b[39m \u001b[39mself\u001b[39m\u001b[39m.\u001b[39m_time\n\u001b[1;32m   <a href='file:///home/lpz106u/.conda/envs/ML/lib/python3.8/site-packages/tqdm/std.py?line=1193'>1194</a>\u001b[0m \u001b[39mtry\u001b[39;00m:\n\u001b[0;32m-> <a href='file:///home/lpz106u/.conda/envs/ML/lib/python3.8/site-packages/tqdm/std.py?line=1194'>1195</a>\u001b[0m     \u001b[39mfor\u001b[39;00m obj \u001b[39min\u001b[39;00m iterable:\n\u001b[1;32m   <a href='file:///home/lpz106u/.conda/envs/ML/lib/python3.8/site-packages/tqdm/std.py?line=1195'>1196</a>\u001b[0m         \u001b[39myield\u001b[39;00m obj\n\u001b[1;32m   <a href='file:///home/lpz106u/.conda/envs/ML/lib/python3.8/site-packages/tqdm/std.py?line=1196'>1197</a>\u001b[0m         \u001b[39m# Update and possibly print the progressbar.\u001b[39;00m\n\u001b[1;32m   <a href='file:///home/lpz106u/.conda/envs/ML/lib/python3.8/site-packages/tqdm/std.py?line=1197'>1198</a>\u001b[0m         \u001b[39m# Note: does not call self.update(1) for speed optimisation.\u001b[39;00m\n",
            "File \u001b[0;32m~/.conda/envs/ML/lib/python3.8/site-packages/torch/utils/data/dataloader.py:530\u001b[0m, in \u001b[0;36m_BaseDataLoaderIter.__next__\u001b[0;34m(self)\u001b[0m\n\u001b[1;32m    <a href='file:///home/lpz106u/.conda/envs/ML/lib/python3.8/site-packages/torch/utils/data/dataloader.py?line=527'>528</a>\u001b[0m \u001b[39mif\u001b[39;00m \u001b[39mself\u001b[39m\u001b[39m.\u001b[39m_sampler_iter \u001b[39mis\u001b[39;00m \u001b[39mNone\u001b[39;00m:\n\u001b[1;32m    <a href='file:///home/lpz106u/.conda/envs/ML/lib/python3.8/site-packages/torch/utils/data/dataloader.py?line=528'>529</a>\u001b[0m     \u001b[39mself\u001b[39m\u001b[39m.\u001b[39m_reset()\n\u001b[0;32m--> <a href='file:///home/lpz106u/.conda/envs/ML/lib/python3.8/site-packages/torch/utils/data/dataloader.py?line=529'>530</a>\u001b[0m data \u001b[39m=\u001b[39m \u001b[39mself\u001b[39;49m\u001b[39m.\u001b[39;49m_next_data()\n\u001b[1;32m    <a href='file:///home/lpz106u/.conda/envs/ML/lib/python3.8/site-packages/torch/utils/data/dataloader.py?line=530'>531</a>\u001b[0m \u001b[39mself\u001b[39m\u001b[39m.\u001b[39m_num_yielded \u001b[39m+\u001b[39m\u001b[39m=\u001b[39m \u001b[39m1\u001b[39m\n\u001b[1;32m    <a href='file:///home/lpz106u/.conda/envs/ML/lib/python3.8/site-packages/torch/utils/data/dataloader.py?line=531'>532</a>\u001b[0m \u001b[39mif\u001b[39;00m \u001b[39mself\u001b[39m\u001b[39m.\u001b[39m_dataset_kind \u001b[39m==\u001b[39m _DatasetKind\u001b[39m.\u001b[39mIterable \u001b[39mand\u001b[39;00m \\\n\u001b[1;32m    <a href='file:///home/lpz106u/.conda/envs/ML/lib/python3.8/site-packages/torch/utils/data/dataloader.py?line=532'>533</a>\u001b[0m         \u001b[39mself\u001b[39m\u001b[39m.\u001b[39m_IterableDataset_len_called \u001b[39mis\u001b[39;00m \u001b[39mnot\u001b[39;00m \u001b[39mNone\u001b[39;00m \u001b[39mand\u001b[39;00m \\\n\u001b[1;32m    <a href='file:///home/lpz106u/.conda/envs/ML/lib/python3.8/site-packages/torch/utils/data/dataloader.py?line=533'>534</a>\u001b[0m         \u001b[39mself\u001b[39m\u001b[39m.\u001b[39m_num_yielded \u001b[39m>\u001b[39m \u001b[39mself\u001b[39m\u001b[39m.\u001b[39m_IterableDataset_len_called:\n",
            "File \u001b[0;32m~/.conda/envs/ML/lib/python3.8/site-packages/torch/utils/data/dataloader.py:570\u001b[0m, in \u001b[0;36m_SingleProcessDataLoaderIter._next_data\u001b[0;34m(self)\u001b[0m\n\u001b[1;32m    <a href='file:///home/lpz106u/.conda/envs/ML/lib/python3.8/site-packages/torch/utils/data/dataloader.py?line=567'>568</a>\u001b[0m \u001b[39mdef\u001b[39;00m \u001b[39m_next_data\u001b[39m(\u001b[39mself\u001b[39m):\n\u001b[1;32m    <a href='file:///home/lpz106u/.conda/envs/ML/lib/python3.8/site-packages/torch/utils/data/dataloader.py?line=568'>569</a>\u001b[0m     index \u001b[39m=\u001b[39m \u001b[39mself\u001b[39m\u001b[39m.\u001b[39m_next_index()  \u001b[39m# may raise StopIteration\u001b[39;00m\n\u001b[0;32m--> <a href='file:///home/lpz106u/.conda/envs/ML/lib/python3.8/site-packages/torch/utils/data/dataloader.py?line=569'>570</a>\u001b[0m     data \u001b[39m=\u001b[39m \u001b[39mself\u001b[39;49m\u001b[39m.\u001b[39;49m_dataset_fetcher\u001b[39m.\u001b[39;49mfetch(index)  \u001b[39m# may raise StopIteration\u001b[39;00m\n\u001b[1;32m    <a href='file:///home/lpz106u/.conda/envs/ML/lib/python3.8/site-packages/torch/utils/data/dataloader.py?line=570'>571</a>\u001b[0m     \u001b[39mif\u001b[39;00m \u001b[39mself\u001b[39m\u001b[39m.\u001b[39m_pin_memory:\n\u001b[1;32m    <a href='file:///home/lpz106u/.conda/envs/ML/lib/python3.8/site-packages/torch/utils/data/dataloader.py?line=571'>572</a>\u001b[0m         data \u001b[39m=\u001b[39m _utils\u001b[39m.\u001b[39mpin_memory\u001b[39m.\u001b[39mpin_memory(data)\n",
            "File \u001b[0;32m~/.conda/envs/ML/lib/python3.8/site-packages/torch/utils/data/_utils/fetch.py:49\u001b[0m, in \u001b[0;36m_MapDatasetFetcher.fetch\u001b[0;34m(self, possibly_batched_index)\u001b[0m\n\u001b[1;32m     <a href='file:///home/lpz106u/.conda/envs/ML/lib/python3.8/site-packages/torch/utils/data/_utils/fetch.py?line=46'>47</a>\u001b[0m \u001b[39mdef\u001b[39;00m \u001b[39mfetch\u001b[39m(\u001b[39mself\u001b[39m, possibly_batched_index):\n\u001b[1;32m     <a href='file:///home/lpz106u/.conda/envs/ML/lib/python3.8/site-packages/torch/utils/data/_utils/fetch.py?line=47'>48</a>\u001b[0m     \u001b[39mif\u001b[39;00m \u001b[39mself\u001b[39m\u001b[39m.\u001b[39mauto_collation:\n\u001b[0;32m---> <a href='file:///home/lpz106u/.conda/envs/ML/lib/python3.8/site-packages/torch/utils/data/_utils/fetch.py?line=48'>49</a>\u001b[0m         data \u001b[39m=\u001b[39m [\u001b[39mself\u001b[39m\u001b[39m.\u001b[39mdataset[idx] \u001b[39mfor\u001b[39;00m idx \u001b[39min\u001b[39;00m possibly_batched_index]\n\u001b[1;32m     <a href='file:///home/lpz106u/.conda/envs/ML/lib/python3.8/site-packages/torch/utils/data/_utils/fetch.py?line=49'>50</a>\u001b[0m     \u001b[39melse\u001b[39;00m:\n\u001b[1;32m     <a href='file:///home/lpz106u/.conda/envs/ML/lib/python3.8/site-packages/torch/utils/data/_utils/fetch.py?line=50'>51</a>\u001b[0m         data \u001b[39m=\u001b[39m \u001b[39mself\u001b[39m\u001b[39m.\u001b[39mdataset[possibly_batched_index]\n",
            "File \u001b[0;32m~/.conda/envs/ML/lib/python3.8/site-packages/torch/utils/data/_utils/fetch.py:49\u001b[0m, in \u001b[0;36m<listcomp>\u001b[0;34m(.0)\u001b[0m\n\u001b[1;32m     <a href='file:///home/lpz106u/.conda/envs/ML/lib/python3.8/site-packages/torch/utils/data/_utils/fetch.py?line=46'>47</a>\u001b[0m \u001b[39mdef\u001b[39;00m \u001b[39mfetch\u001b[39m(\u001b[39mself\u001b[39m, possibly_batched_index):\n\u001b[1;32m     <a href='file:///home/lpz106u/.conda/envs/ML/lib/python3.8/site-packages/torch/utils/data/_utils/fetch.py?line=47'>48</a>\u001b[0m     \u001b[39mif\u001b[39;00m \u001b[39mself\u001b[39m\u001b[39m.\u001b[39mauto_collation:\n\u001b[0;32m---> <a href='file:///home/lpz106u/.conda/envs/ML/lib/python3.8/site-packages/torch/utils/data/_utils/fetch.py?line=48'>49</a>\u001b[0m         data \u001b[39m=\u001b[39m [\u001b[39mself\u001b[39;49m\u001b[39m.\u001b[39;49mdataset[idx] \u001b[39mfor\u001b[39;00m idx \u001b[39min\u001b[39;00m possibly_batched_index]\n\u001b[1;32m     <a href='file:///home/lpz106u/.conda/envs/ML/lib/python3.8/site-packages/torch/utils/data/_utils/fetch.py?line=49'>50</a>\u001b[0m     \u001b[39melse\u001b[39;00m:\n\u001b[1;32m     <a href='file:///home/lpz106u/.conda/envs/ML/lib/python3.8/site-packages/torch/utils/data/_utils/fetch.py?line=50'>51</a>\u001b[0m         data \u001b[39m=\u001b[39m \u001b[39mself\u001b[39m\u001b[39m.\u001b[39mdataset[possibly_batched_index]\n",
            "\u001b[1;32m/home/lpz106u/course/ML/hw13/ml2022spring_hw13_sample_code_(1).ipynb Cell 13'\u001b[0m in \u001b[0;36mFoodDataset.__getitem__\u001b[0;34m(self, idx)\u001b[0m\n\u001b[1;32m     <a href='vscode-notebook-cell://ssh-remote%2B7b22686f73744e616d65223a224e4354555f4750552856504e29227d/home/lpz106u/course/ML/hw13/ml2022spring_hw13_sample_code_%281%29.ipynb#ch0000012vscode-remote?line=14'>15</a>\u001b[0m fname \u001b[39m=\u001b[39m \u001b[39mself\u001b[39m\u001b[39m.\u001b[39mfiles[idx]\n\u001b[1;32m     <a href='vscode-notebook-cell://ssh-remote%2B7b22686f73744e616d65223a224e4354555f4750552856504e29227d/home/lpz106u/course/ML/hw13/ml2022spring_hw13_sample_code_%281%29.ipynb#ch0000012vscode-remote?line=15'>16</a>\u001b[0m im \u001b[39m=\u001b[39m Image\u001b[39m.\u001b[39mopen(fname)\n\u001b[0;32m---> <a href='vscode-notebook-cell://ssh-remote%2B7b22686f73744e616d65223a224e4354555f4750552856504e29227d/home/lpz106u/course/ML/hw13/ml2022spring_hw13_sample_code_%281%29.ipynb#ch0000012vscode-remote?line=16'>17</a>\u001b[0m im \u001b[39m=\u001b[39m \u001b[39mself\u001b[39;49m\u001b[39m.\u001b[39;49mtransform(im)\n\u001b[1;32m     <a href='vscode-notebook-cell://ssh-remote%2B7b22686f73744e616d65223a224e4354555f4750552856504e29227d/home/lpz106u/course/ML/hw13/ml2022spring_hw13_sample_code_%281%29.ipynb#ch0000012vscode-remote?line=17'>18</a>\u001b[0m \u001b[39mtry\u001b[39;00m:\n\u001b[1;32m     <a href='vscode-notebook-cell://ssh-remote%2B7b22686f73744e616d65223a224e4354555f4750552856504e29227d/home/lpz106u/course/ML/hw13/ml2022spring_hw13_sample_code_%281%29.ipynb#ch0000012vscode-remote?line=18'>19</a>\u001b[0m     label \u001b[39m=\u001b[39m \u001b[39mint\u001b[39m(fname\u001b[39m.\u001b[39msplit(\u001b[39m\"\u001b[39m\u001b[39m/\u001b[39m\u001b[39m\"\u001b[39m)[\u001b[39m-\u001b[39m\u001b[39m1\u001b[39m]\u001b[39m.\u001b[39msplit(\u001b[39m\"\u001b[39m\u001b[39m_\u001b[39m\u001b[39m\"\u001b[39m)[\u001b[39m0\u001b[39m])\n",
            "File \u001b[0;32m~/.conda/envs/ML/lib/python3.8/site-packages/torchvision/transforms/transforms.py:95\u001b[0m, in \u001b[0;36mCompose.__call__\u001b[0;34m(self, img)\u001b[0m\n\u001b[1;32m     <a href='file:///home/lpz106u/.conda/envs/ML/lib/python3.8/site-packages/torchvision/transforms/transforms.py?line=92'>93</a>\u001b[0m \u001b[39mdef\u001b[39;00m \u001b[39m__call__\u001b[39m(\u001b[39mself\u001b[39m, img):\n\u001b[1;32m     <a href='file:///home/lpz106u/.conda/envs/ML/lib/python3.8/site-packages/torchvision/transforms/transforms.py?line=93'>94</a>\u001b[0m     \u001b[39mfor\u001b[39;00m t \u001b[39min\u001b[39;00m \u001b[39mself\u001b[39m\u001b[39m.\u001b[39mtransforms:\n\u001b[0;32m---> <a href='file:///home/lpz106u/.conda/envs/ML/lib/python3.8/site-packages/torchvision/transforms/transforms.py?line=94'>95</a>\u001b[0m         img \u001b[39m=\u001b[39m t(img)\n\u001b[1;32m     <a href='file:///home/lpz106u/.conda/envs/ML/lib/python3.8/site-packages/torchvision/transforms/transforms.py?line=95'>96</a>\u001b[0m     \u001b[39mreturn\u001b[39;00m img\n",
            "File \u001b[0;32m~/.conda/envs/ML/lib/python3.8/site-packages/torch/nn/modules/module.py:1110\u001b[0m, in \u001b[0;36mModule._call_impl\u001b[0;34m(self, *input, **kwargs)\u001b[0m\n\u001b[1;32m   <a href='file:///home/lpz106u/.conda/envs/ML/lib/python3.8/site-packages/torch/nn/modules/module.py?line=1105'>1106</a>\u001b[0m \u001b[39m# If we don't have any hooks, we want to skip the rest of the logic in\u001b[39;00m\n\u001b[1;32m   <a href='file:///home/lpz106u/.conda/envs/ML/lib/python3.8/site-packages/torch/nn/modules/module.py?line=1106'>1107</a>\u001b[0m \u001b[39m# this function, and just call forward.\u001b[39;00m\n\u001b[1;32m   <a href='file:///home/lpz106u/.conda/envs/ML/lib/python3.8/site-packages/torch/nn/modules/module.py?line=1107'>1108</a>\u001b[0m \u001b[39mif\u001b[39;00m \u001b[39mnot\u001b[39;00m (\u001b[39mself\u001b[39m\u001b[39m.\u001b[39m_backward_hooks \u001b[39mor\u001b[39;00m \u001b[39mself\u001b[39m\u001b[39m.\u001b[39m_forward_hooks \u001b[39mor\u001b[39;00m \u001b[39mself\u001b[39m\u001b[39m.\u001b[39m_forward_pre_hooks \u001b[39mor\u001b[39;00m _global_backward_hooks\n\u001b[1;32m   <a href='file:///home/lpz106u/.conda/envs/ML/lib/python3.8/site-packages/torch/nn/modules/module.py?line=1108'>1109</a>\u001b[0m         \u001b[39mor\u001b[39;00m _global_forward_hooks \u001b[39mor\u001b[39;00m _global_forward_pre_hooks):\n\u001b[0;32m-> <a href='file:///home/lpz106u/.conda/envs/ML/lib/python3.8/site-packages/torch/nn/modules/module.py?line=1109'>1110</a>\u001b[0m     \u001b[39mreturn\u001b[39;00m forward_call(\u001b[39m*\u001b[39;49m\u001b[39minput\u001b[39;49m, \u001b[39m*\u001b[39;49m\u001b[39m*\u001b[39;49mkwargs)\n\u001b[1;32m   <a href='file:///home/lpz106u/.conda/envs/ML/lib/python3.8/site-packages/torch/nn/modules/module.py?line=1110'>1111</a>\u001b[0m \u001b[39m# Do not call functions when jit is used\u001b[39;00m\n\u001b[1;32m   <a href='file:///home/lpz106u/.conda/envs/ML/lib/python3.8/site-packages/torch/nn/modules/module.py?line=1111'>1112</a>\u001b[0m full_backward_hooks, non_full_backward_hooks \u001b[39m=\u001b[39m [], []\n",
            "File \u001b[0;32m~/.conda/envs/ML/lib/python3.8/site-packages/torchvision/transforms/transforms.py:349\u001b[0m, in \u001b[0;36mResize.forward\u001b[0;34m(self, img)\u001b[0m\n\u001b[1;32m    <a href='file:///home/lpz106u/.conda/envs/ML/lib/python3.8/site-packages/torchvision/transforms/transforms.py?line=340'>341</a>\u001b[0m \u001b[39mdef\u001b[39;00m \u001b[39mforward\u001b[39m(\u001b[39mself\u001b[39m, img):\n\u001b[1;32m    <a href='file:///home/lpz106u/.conda/envs/ML/lib/python3.8/site-packages/torchvision/transforms/transforms.py?line=341'>342</a>\u001b[0m     \u001b[39m\"\"\"\u001b[39;00m\n\u001b[1;32m    <a href='file:///home/lpz106u/.conda/envs/ML/lib/python3.8/site-packages/torchvision/transforms/transforms.py?line=342'>343</a>\u001b[0m \u001b[39m    Args:\u001b[39;00m\n\u001b[1;32m    <a href='file:///home/lpz106u/.conda/envs/ML/lib/python3.8/site-packages/torchvision/transforms/transforms.py?line=343'>344</a>\u001b[0m \u001b[39m        img (PIL Image or Tensor): Image to be scaled.\u001b[39;00m\n\u001b[0;32m   (...)\u001b[0m\n\u001b[1;32m    <a href='file:///home/lpz106u/.conda/envs/ML/lib/python3.8/site-packages/torchvision/transforms/transforms.py?line=346'>347</a>\u001b[0m \u001b[39m        PIL Image or Tensor: Rescaled image.\u001b[39;00m\n\u001b[1;32m    <a href='file:///home/lpz106u/.conda/envs/ML/lib/python3.8/site-packages/torchvision/transforms/transforms.py?line=347'>348</a>\u001b[0m \u001b[39m    \"\"\"\u001b[39;00m\n\u001b[0;32m--> <a href='file:///home/lpz106u/.conda/envs/ML/lib/python3.8/site-packages/torchvision/transforms/transforms.py?line=348'>349</a>\u001b[0m     \u001b[39mreturn\u001b[39;00m F\u001b[39m.\u001b[39;49mresize(img, \u001b[39mself\u001b[39;49m\u001b[39m.\u001b[39;49msize, \u001b[39mself\u001b[39;49m\u001b[39m.\u001b[39;49minterpolation, \u001b[39mself\u001b[39;49m\u001b[39m.\u001b[39;49mmax_size, \u001b[39mself\u001b[39;49m\u001b[39m.\u001b[39;49mantialias)\n",
            "File \u001b[0;32m~/.conda/envs/ML/lib/python3.8/site-packages/torchvision/transforms/functional.py:436\u001b[0m, in \u001b[0;36mresize\u001b[0;34m(img, size, interpolation, max_size, antialias)\u001b[0m\n\u001b[1;32m    <a href='file:///home/lpz106u/.conda/envs/ML/lib/python3.8/site-packages/torchvision/transforms/functional.py?line=433'>434</a>\u001b[0m         warnings\u001b[39m.\u001b[39mwarn(\u001b[39m\"\u001b[39m\u001b[39mAnti-alias option is always applied for PIL Image input. Argument antialias is ignored.\u001b[39m\u001b[39m\"\u001b[39m)\n\u001b[1;32m    <a href='file:///home/lpz106u/.conda/envs/ML/lib/python3.8/site-packages/torchvision/transforms/functional.py?line=434'>435</a>\u001b[0m     pil_interpolation \u001b[39m=\u001b[39m pil_modes_mapping[interpolation]\n\u001b[0;32m--> <a href='file:///home/lpz106u/.conda/envs/ML/lib/python3.8/site-packages/torchvision/transforms/functional.py?line=435'>436</a>\u001b[0m     \u001b[39mreturn\u001b[39;00m F_pil\u001b[39m.\u001b[39;49mresize(img, size\u001b[39m=\u001b[39;49msize, interpolation\u001b[39m=\u001b[39;49mpil_interpolation, max_size\u001b[39m=\u001b[39;49mmax_size)\n\u001b[1;32m    <a href='file:///home/lpz106u/.conda/envs/ML/lib/python3.8/site-packages/torchvision/transforms/functional.py?line=437'>438</a>\u001b[0m \u001b[39mreturn\u001b[39;00m F_t\u001b[39m.\u001b[39mresize(img, size\u001b[39m=\u001b[39msize, interpolation\u001b[39m=\u001b[39minterpolation\u001b[39m.\u001b[39mvalue, max_size\u001b[39m=\u001b[39mmax_size, antialias\u001b[39m=\u001b[39mantialias)\n",
            "File \u001b[0;32m~/.conda/envs/ML/lib/python3.8/site-packages/torchvision/transforms/functional_pil.py:265\u001b[0m, in \u001b[0;36mresize\u001b[0;34m(img, size, interpolation, max_size)\u001b[0m\n\u001b[1;32m    <a href='file:///home/lpz106u/.conda/envs/ML/lib/python3.8/site-packages/torchvision/transforms/functional_pil.py?line=259'>260</a>\u001b[0m \u001b[39mif\u001b[39;00m max_size \u001b[39mis\u001b[39;00m \u001b[39mnot\u001b[39;00m \u001b[39mNone\u001b[39;00m:\n\u001b[1;32m    <a href='file:///home/lpz106u/.conda/envs/ML/lib/python3.8/site-packages/torchvision/transforms/functional_pil.py?line=260'>261</a>\u001b[0m     \u001b[39mraise\u001b[39;00m \u001b[39mValueError\u001b[39;00m(\n\u001b[1;32m    <a href='file:///home/lpz106u/.conda/envs/ML/lib/python3.8/site-packages/torchvision/transforms/functional_pil.py?line=261'>262</a>\u001b[0m         \u001b[39m\"\u001b[39m\u001b[39mmax_size should only be passed if size specifies the length of the smaller edge, \u001b[39m\u001b[39m\"\u001b[39m\n\u001b[1;32m    <a href='file:///home/lpz106u/.conda/envs/ML/lib/python3.8/site-packages/torchvision/transforms/functional_pil.py?line=262'>263</a>\u001b[0m         \u001b[39m\"\u001b[39m\u001b[39mi.e. size should be an int or a sequence of length 1 in torchscript mode.\u001b[39m\u001b[39m\"\u001b[39m\n\u001b[1;32m    <a href='file:///home/lpz106u/.conda/envs/ML/lib/python3.8/site-packages/torchvision/transforms/functional_pil.py?line=263'>264</a>\u001b[0m     )\n\u001b[0;32m--> <a href='file:///home/lpz106u/.conda/envs/ML/lib/python3.8/site-packages/torchvision/transforms/functional_pil.py?line=264'>265</a>\u001b[0m \u001b[39mreturn\u001b[39;00m img\u001b[39m.\u001b[39;49mresize(size[::\u001b[39m-\u001b[39;49m\u001b[39m1\u001b[39;49m], interpolation)\n",
            "File \u001b[0;32m~/.conda/envs/ML/lib/python3.8/site-packages/PIL/Image.py:2043\u001b[0m, in \u001b[0;36mImage.resize\u001b[0;34m(self, size, resample, box, reducing_gap)\u001b[0m\n\u001b[1;32m   <a href='file:///home/lpz106u/.conda/envs/ML/lib/python3.8/site-packages/PIL/Image.py?line=2039'>2040</a>\u001b[0m     im \u001b[39m=\u001b[39m im\u001b[39m.\u001b[39mresize(size, resample, box)\n\u001b[1;32m   <a href='file:///home/lpz106u/.conda/envs/ML/lib/python3.8/site-packages/PIL/Image.py?line=2040'>2041</a>\u001b[0m     \u001b[39mreturn\u001b[39;00m im\u001b[39m.\u001b[39mconvert(\u001b[39mself\u001b[39m\u001b[39m.\u001b[39mmode)\n\u001b[0;32m-> <a href='file:///home/lpz106u/.conda/envs/ML/lib/python3.8/site-packages/PIL/Image.py?line=2042'>2043</a>\u001b[0m \u001b[39mself\u001b[39;49m\u001b[39m.\u001b[39;49mload()\n\u001b[1;32m   <a href='file:///home/lpz106u/.conda/envs/ML/lib/python3.8/site-packages/PIL/Image.py?line=2044'>2045</a>\u001b[0m \u001b[39mif\u001b[39;00m reducing_gap \u001b[39mis\u001b[39;00m \u001b[39mnot\u001b[39;00m \u001b[39mNone\u001b[39;00m \u001b[39mand\u001b[39;00m resample \u001b[39m!=\u001b[39m Resampling\u001b[39m.\u001b[39mNEAREST:\n\u001b[1;32m   <a href='file:///home/lpz106u/.conda/envs/ML/lib/python3.8/site-packages/PIL/Image.py?line=2045'>2046</a>\u001b[0m     factor_x \u001b[39m=\u001b[39m \u001b[39mint\u001b[39m((box[\u001b[39m2\u001b[39m] \u001b[39m-\u001b[39m box[\u001b[39m0\u001b[39m]) \u001b[39m/\u001b[39m size[\u001b[39m0\u001b[39m] \u001b[39m/\u001b[39m reducing_gap) \u001b[39mor\u001b[39;00m \u001b[39m1\u001b[39m\n",
            "File \u001b[0;32m~/.conda/envs/ML/lib/python3.8/site-packages/PIL/ImageFile.py:257\u001b[0m, in \u001b[0;36mImageFile.load\u001b[0;34m(self)\u001b[0m\n\u001b[1;32m    <a href='file:///home/lpz106u/.conda/envs/ML/lib/python3.8/site-packages/PIL/ImageFile.py?line=250'>251</a>\u001b[0m         \u001b[39mraise\u001b[39;00m \u001b[39mOSError\u001b[39;00m(\n\u001b[1;32m    <a href='file:///home/lpz106u/.conda/envs/ML/lib/python3.8/site-packages/PIL/ImageFile.py?line=251'>252</a>\u001b[0m             \u001b[39m\"\u001b[39m\u001b[39mimage file is truncated \u001b[39m\u001b[39m\"\u001b[39m\n\u001b[1;32m    <a href='file:///home/lpz106u/.conda/envs/ML/lib/python3.8/site-packages/PIL/ImageFile.py?line=252'>253</a>\u001b[0m             \u001b[39mf\u001b[39m\u001b[39m\"\u001b[39m\u001b[39m(\u001b[39m\u001b[39m{\u001b[39;00m\u001b[39mlen\u001b[39m(b)\u001b[39m}\u001b[39;00m\u001b[39m bytes not processed)\u001b[39m\u001b[39m\"\u001b[39m\n\u001b[1;32m    <a href='file:///home/lpz106u/.conda/envs/ML/lib/python3.8/site-packages/PIL/ImageFile.py?line=253'>254</a>\u001b[0m         )\n\u001b[1;32m    <a href='file:///home/lpz106u/.conda/envs/ML/lib/python3.8/site-packages/PIL/ImageFile.py?line=255'>256</a>\u001b[0m b \u001b[39m=\u001b[39m b \u001b[39m+\u001b[39m s\n\u001b[0;32m--> <a href='file:///home/lpz106u/.conda/envs/ML/lib/python3.8/site-packages/PIL/ImageFile.py?line=256'>257</a>\u001b[0m n, err_code \u001b[39m=\u001b[39m decoder\u001b[39m.\u001b[39;49mdecode(b)\n\u001b[1;32m    <a href='file:///home/lpz106u/.conda/envs/ML/lib/python3.8/site-packages/PIL/ImageFile.py?line=257'>258</a>\u001b[0m \u001b[39mif\u001b[39;00m n \u001b[39m<\u001b[39m \u001b[39m0\u001b[39m:\n\u001b[1;32m    <a href='file:///home/lpz106u/.conda/envs/ML/lib/python3.8/site-packages/PIL/ImageFile.py?line=258'>259</a>\u001b[0m     \u001b[39mbreak\u001b[39;00m\n",
            "\u001b[0;31mKeyboardInterrupt\u001b[0m: "
          ]
        }
      ],
      "source": [
        "# Initialize a model, and put it on the device specified.\n",
        "student_model.to(device)\n",
        "# teacher_model.to(device) # MEDIUM BASELINE\n",
        "\n",
        "# Initialize optimizer, you may fine-tune some hyperparameters such as learning rate on your own.\n",
        "optimizer = torch.optim.Adam(student_model.parameters(), lr=cfg['lr'], weight_decay=cfg['weight_decay']) \n",
        "scheduler = torch.optim.lr_scheduler.StepLR(optimizer, step_size = 50, gamma = 0.5, verbose=True)\n",
        "# Initialize trackers, these are not parameters and should not be changed\n",
        "stale = 0\n",
        "best_acc = 0.0\n",
        "\n",
        "# teacher_model.eval()  # MEDIUM BASELINE\n",
        "for epoch in range(n_epochs):\n",
        "\n",
        "    # ---------- Training ----------\n",
        "    # Make sure the model is in train mode before training.\n",
        "    student_model.train()\n",
        "\n",
        "    # These are used to record information in training.\n",
        "    train_loss = []\n",
        "    train_accs = []\n",
        "    train_lens = []\n",
        "\n",
        "    for batch in tqdm(train_loader):\n",
        "\n",
        "        # A batch consists of image data and corresponding labels.\n",
        "        imgs, labels = batch\n",
        "        imgs = imgs.to(device)\n",
        "        labels = labels.to(device)\n",
        "        #imgs = imgs.half()\n",
        "        #print(imgs.shape,labels.shape)\n",
        "\n",
        "        # Forward the data. (Make sure data and model are on the same device.)\n",
        "        with torch.no_grad():  # MEDIUM BASELINE\n",
        "            teacher_logits = teacher_model(imgs)  # MEDIUM BASELINE\n",
        "        \n",
        "        logits = student_model(imgs)\n",
        "\n",
        "        # Calculate the cross-entropy loss.\n",
        "        # We don't need to apply softmax before computing cross-entropy as it is done automatically.\n",
        "        loss = loss_fn(logits, labels, teacher_logits) # MEDIUM BASELINE\n",
        "#         loss = loss_fn(logits, labels) # SIMPLE BASELINE\n",
        "        # Gradients stored in the parameters in the previous step should be cleared out first.\n",
        "        optimizer.zero_grad()\n",
        "\n",
        "        # Compute the gradients for parameters.\n",
        "        loss.backward()\n",
        "\n",
        "        # Clip the gradient norms for stable training.\n",
        "        grad_norm = nn.utils.clip_grad_norm_(student_model.parameters(), max_norm=cfg['grad_norm_max'])\n",
        "\n",
        "        # Update the parameters with computed gradients.\n",
        "        optimizer.step()\n",
        "\n",
        "        # Compute the accuracy for current batch.\n",
        "        acc = (logits.argmax(dim=-1) == labels).float().sum()\n",
        "\n",
        "        # Record the loss and accuracy.\n",
        "        train_batch_len = len(imgs)\n",
        "        train_loss.append(loss.item() * train_batch_len)\n",
        "        train_accs.append(acc)\n",
        "        train_lens.append(train_batch_len)\n",
        "    scheduler.step()\n",
        "    train_loss = sum(train_loss) / sum(train_lens)\n",
        "    train_acc = sum(train_accs) / sum(train_lens)\n",
        "\n",
        "    # Print the information.\n",
        "    log(f\"[ Train | {epoch + 1:03d}/{n_epochs:03d} ] loss = {train_loss:.5f}, acc = {train_acc:.5f}\")\n",
        "\n",
        "    # ---------- Validation ----------\n",
        "    # Make sure the model is in eval mode so that some modules like dropout are disabled and work normally.\n",
        "    student_model.eval()\n",
        "\n",
        "    # These are used to record information in validation.\n",
        "    valid_loss = []\n",
        "    valid_accs = []\n",
        "    valid_lens = []\n",
        "\n",
        "    # Iterate the validation set by batches.\n",
        "    for batch in tqdm(valid_loader):\n",
        "\n",
        "        # A batch consists of image data and corresponding labels.\n",
        "        imgs, labels = batch\n",
        "        imgs = imgs.to(device)\n",
        "        labels = labels.to(device)\n",
        "\n",
        "        # We don't need gradient in validation.\n",
        "        # Using torch.no_grad() accelerates the forward process.\n",
        "        with torch.no_grad():\n",
        "            logits = student_model(imgs)\n",
        "            teacher_logits = teacher_model(imgs) # MEDIUM BASELINE\n",
        "\n",
        "#         We can still compute the loss (but not the gradient).\n",
        "        loss = loss_fn(logits, labels, teacher_logits) # MEDIUM BASELINE\n",
        "#         loss = loss_fn(logits, labels) # SIMPLE BASELINE\n",
        "\n",
        "        # Compute the accuracy for current batch.\n",
        "        acc = (logits.argmax(dim=-1) == labels).float().sum()\n",
        "\n",
        "        # Record the loss and accuracy.\n",
        "        batch_len = len(imgs)\n",
        "        valid_loss.append(loss.item() * batch_len)\n",
        "        valid_accs.append(acc)\n",
        "        valid_lens.append(batch_len)\n",
        "        #break\n",
        "\n",
        "    # The average loss and accuracy for entire validation set is the average of the recorded values.\n",
        "    valid_loss = sum(valid_loss) / sum(valid_lens)\n",
        "    valid_acc = sum(valid_accs) / sum(valid_lens)\n",
        "\n",
        "    # update logs\n",
        "    \n",
        "    if valid_acc > best_acc:\n",
        "        log(f\"[ Valid | {epoch + 1:03d}/{n_epochs:03d} ] loss = {valid_loss:.5f}, acc = {valid_acc:.5f} -> best\")\n",
        "    else:\n",
        "        log(f\"[ Valid | {epoch + 1:03d}/{n_epochs:03d} ] loss = {valid_loss:.5f}, acc = {valid_acc:.5f}\")\n",
        "\n",
        "\n",
        "    # save models\n",
        "    if valid_acc > best_acc:\n",
        "        log(f\"Best model found at epoch {epoch}, saving model\")\n",
        "        torch.save(student_model.state_dict(), f\"{save_path}/student_best.ckpt\") # only save best to prevent output memory exceed error\n",
        "        best_acc = valid_acc\n",
        "        stale = 0\n",
        "    else:\n",
        "        stale += 1\n",
        "        if stale > patience:\n",
        "            log(f\"No improvment {patience} consecutive epochs, early stopping\")\n",
        "            break\n",
        "log(\"Finish training\")\n",
        "log_fw.close()"
      ]
    },
    {
      "cell_type": "markdown",
      "metadata": {
        "id": "c9L6z-nN-9xH"
      },
      "source": [
        "### Inference\n",
        "load the best model of the experiment and generate submission.csv"
      ]
    },
    {
      "cell_type": "code",
      "execution_count": null,
      "metadata": {
        "id": "4I1sYhqp-9xH",
        "trusted": true
      },
      "outputs": [],
      "source": [
        "# Load model from {exp_name}/student_best.ckpt\n",
        "student_model_best = get_student_model() # get a new student model to avoid reference before assignment.\n",
        "ckpt_path = f\"{save_path}/student_best.ckpt\" # the ckpt path of the best student model.\n",
        "student_model_best.load_state_dict(torch.load(ckpt_path, map_location='cpu')) # load the state dict and set it to the student model\n",
        "student_model_best.to(device) # set the student model to device\n",
        "ensemble_num = 5\n",
        "# Start evaluate\n",
        "student_model_best.eval()\n",
        "eval_preds = [] # storing predictions of the evaluation dataset\n",
        "eval_set = FoodDataset(os.path.join(cfg['dataset_root'], \"evaluation\"), tfm=train_tfm)\n",
        "\n",
        "def pad4(i):\n",
        "    return \"0\"*(4-len(str(i))) + str(i)\n",
        "ids = [pad4(i) for i in range(0,len(eval_set))]\n",
        "\n",
        "# Iterate the validation set by batches.\n",
        "for i in tqdm(range(len(eval_set))):\n",
        "    imgs = []\n",
        "    for _ in range(ensemble_num):\n",
        "        imgs.append(eval_set[i][0])\n",
        "    imgs = torch.stack(imgs)\n",
        "    with torch.no_grad():\n",
        "        logits = student_model_best(imgs.to(device))\n",
        "        pred = logits.sum(0).argmax(-1).item()\n",
        "    eval_preds.append(pred)\n",
        "df = pd.DataFrame({'Id': ids, 'Category': eval_preds})\n",
        "df.to_csv(f\"{save_path}/submission_aug.csv\", index=False) # now you can download the submission.csv and upload it to the kaggle competition.\n",
        "\n",
        "\n",
        "eval_preds = [] # storing predictions of the evaluation dataset\n",
        "eval_set = FoodDataset(os.path.join(cfg['dataset_root'], \"evaluation\"), tfm=train_tfm)\n",
        "eval_loader = DataLoader(eval_set, batch_size=cfg['batch_size'], shuffle=False, num_workers=0, pin_memory=True)\n",
        "for batch in tqdm(eval_loader):\n",
        "    \n",
        "    # A batch consists of image data and corresponding labels.\n",
        "    imgs, _ = batch\n",
        "    # We don't need gradient in evaluation.\n",
        "    # Using torch.no_grad() accelerates the forward process.\n",
        "    with torch.no_grad():\n",
        "        logits = student_model_best(imgs.to(device))\n",
        "        preds = list(logits.argmax(dim=-1).squeeze().cpu().numpy())\n",
        "    # loss and acc can not be calculated because we do not have the true labels of the evaluation set.\n",
        "    eval_preds += preds\n",
        "df = pd.DataFrame({'Id': ids, 'Category': eval_preds})\n",
        "df.to_csv(f\"{save_path}/submission_original.csv\", index=False) # now you can download the submission.csv and upload it to the kaggle competition.\n",
        "\n",
        "# Save prediction results\n",
        "\n"
      ]
    },
    {
      "cell_type": "markdown",
      "metadata": {
        "id": "YYUKBx2Z-9xH"
      },
      "source": [
        "> Don't forget to answer the report questions on GradeScope!"
      ]
    },
    {
      "cell_type": "markdown",
      "metadata": {
        "id": "ongF76LU-9xI"
      },
      "source": []
    }
  ],
  "metadata": {
    "accelerator": "GPU",
    "colab": {
      "collapsed_sections": [],
      "name": "ml2022spring-hw13-sample-code (1).ipynb",
      "provenance": []
    },
    "interpreter": {
      "hash": "de73be9266b8b9d7f5050b3c110c42104e5079f74b13f0d038649b839e9bd586"
    },
    "kernelspec": {
      "display_name": "Python 3.8.13 ('ML')",
      "language": "python",
      "name": "python3"
    },
    "language_info": {
      "codemirror_mode": {
        "name": "ipython",
        "version": 3
      },
      "file_extension": ".py",
      "mimetype": "text/x-python",
      "name": "python",
      "nbconvert_exporter": "python",
      "pygments_lexer": "ipython3",
      "version": "3.8.13"
    }
  },
  "nbformat": 4,
  "nbformat_minor": 0
}
